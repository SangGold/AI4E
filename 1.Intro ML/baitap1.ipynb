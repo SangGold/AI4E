{
  "nbformat": 4,
  "nbformat_minor": 0,
  "metadata": {
    "colab": {
      "name": "baitap1.ipynb",
      "provenance": []
    },
    "kernelspec": {
      "name": "python3",
      "display_name": "Python 3"
    },
    "language_info": {
      "name": "python"
    }
  },
  "cells": [
    {
      "cell_type": "code",
      "metadata": {
        "colab": {
          "base_uri": "https://localhost:8080/"
        },
        "id": "hkL_7czNMxpF",
        "outputId": "ce4a6272-4dd7-4053-dbfe-3ac6c9abda65"
      },
      "source": [
        "import numpy as np\n",
        "\n",
        "in_arr = np.array([\n",
        "                  [0, 0, 0, 0, 0],\n",
        "                  [0, 1, 1, 0, 0],\n",
        "                  [0, 1, 1, 0, 0],\n",
        "                  [0, 0, 1, 0, 0],\n",
        "                  [0, 0, 0, 0, 0]  \n",
        "                ])\n",
        "# create a kernel\n",
        "kernel = np.ones((3, 3), dtype=np.int8)\n",
        "kernel[1, 1] = 0\n",
        "print(kernel)"
      ],
      "execution_count": 16,
      "outputs": [
        {
          "output_type": "stream",
          "name": "stdout",
          "text": [
            "[[1 1 1]\n",
            " [1 0 1]\n",
            " [1 1 1]]\n"
          ]
        }
      ]
    },
    {
      "cell_type": "code",
      "metadata": {
        "id": "Lv6zG6tpaYUe"
      },
      "source": [
        "# define funtion\n",
        "def fx(in_arr):\n",
        "    out_arr = np.zeros_like(in_arr)     # create matrix outputs\n",
        "    for i in range(1, in_arr.shape[0]-1):\n",
        "        for j in range(1, in_arr.shape[1]-1):\n",
        "            out_arr[i, j] = in_arr[i, j]    # assign outputs[i, j]\n",
        "            temp = in_arr[i-1:i+2, j-1:j+2] # slice a matrix with shape (3, 3)\n",
        "            sum = np.sum(np.multiply(kernel, temp))     # calculate sum of matrix\n",
        "            if temp[1, 1]==1 and (sum<2 or sum>3):\n",
        "                out_arr[i, j] = 0\n",
        "            if temp[1, 1]==0 and sum==3:\n",
        "                out_arr[i, j] = 1\n",
        "    return out_arr          \n"
      ],
      "execution_count": 13,
      "outputs": []
    },
    {
      "cell_type": "code",
      "metadata": {
        "colab": {
          "base_uri": "https://localhost:8080/"
        },
        "id": "orrs76afjTNK",
        "outputId": "dc9d428a-e74c-414f-d849-c87b39aa1389"
      },
      "source": [
        "for i in range(10):\n",
        "    print(f'Result {i+1}' + '-----------')\n",
        "    in_arr = fx(in_arr)\n",
        "    print(in_arr)"
      ],
      "execution_count": 17,
      "outputs": [
        {
          "output_type": "stream",
          "name": "stdout",
          "text": [
            "Result 1-----------\n",
            "[[0 0 0 0 0]\n",
            " [0 1 1 0 0]\n",
            " [0 0 0 1 0]\n",
            " [0 1 1 0 0]\n",
            " [0 0 0 0 0]]\n",
            "Result 2-----------\n",
            "[[0 0 0 0 0]\n",
            " [0 0 1 0 0]\n",
            " [0 0 0 1 0]\n",
            " [0 0 1 0 0]\n",
            " [0 0 0 0 0]]\n",
            "Result 3-----------\n",
            "[[0 0 0 0 0]\n",
            " [0 0 0 0 0]\n",
            " [0 0 1 1 0]\n",
            " [0 0 0 0 0]\n",
            " [0 0 0 0 0]]\n",
            "Result 4-----------\n",
            "[[0 0 0 0 0]\n",
            " [0 0 0 0 0]\n",
            " [0 0 0 0 0]\n",
            " [0 0 0 0 0]\n",
            " [0 0 0 0 0]]\n",
            "Result 5-----------\n",
            "[[0 0 0 0 0]\n",
            " [0 0 0 0 0]\n",
            " [0 0 0 0 0]\n",
            " [0 0 0 0 0]\n",
            " [0 0 0 0 0]]\n",
            "Result 6-----------\n",
            "[[0 0 0 0 0]\n",
            " [0 0 0 0 0]\n",
            " [0 0 0 0 0]\n",
            " [0 0 0 0 0]\n",
            " [0 0 0 0 0]]\n",
            "Result 7-----------\n",
            "[[0 0 0 0 0]\n",
            " [0 0 0 0 0]\n",
            " [0 0 0 0 0]\n",
            " [0 0 0 0 0]\n",
            " [0 0 0 0 0]]\n",
            "Result 8-----------\n",
            "[[0 0 0 0 0]\n",
            " [0 0 0 0 0]\n",
            " [0 0 0 0 0]\n",
            " [0 0 0 0 0]\n",
            " [0 0 0 0 0]]\n",
            "Result 9-----------\n",
            "[[0 0 0 0 0]\n",
            " [0 0 0 0 0]\n",
            " [0 0 0 0 0]\n",
            " [0 0 0 0 0]\n",
            " [0 0 0 0 0]]\n",
            "Result 10-----------\n",
            "[[0 0 0 0 0]\n",
            " [0 0 0 0 0]\n",
            " [0 0 0 0 0]\n",
            " [0 0 0 0 0]\n",
            " [0 0 0 0 0]]\n"
          ]
        }
      ]
    }
  ]
}