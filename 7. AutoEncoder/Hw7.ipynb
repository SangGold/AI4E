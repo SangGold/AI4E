{
  "nbformat": 4,
  "nbformat_minor": 0,
  "metadata": {
    "colab": {
      "name": "Hw7.ipynb",
      "provenance": []
    },
    "kernelspec": {
      "name": "python3",
      "display_name": "Python 3"
    },
    "language_info": {
      "name": "python"
    },
    "accelerator": "GPU"
  },
  "cells": [
    {
      "cell_type": "markdown",
      "metadata": {
        "id": "_IC3JS6UB_ql"
      },
      "source": [
        "2. Tự tạo dataset, thực hiện denoise ảnh cifar-10"
      ]
    },
    {
      "cell_type": "code",
      "metadata": {
        "id": "GyeFpAymxp_p"
      },
      "source": [
        "(x_train, _), (x_test, y_test) = cifar10.load_data()"
      ],
      "execution_count": 71,
      "outputs": []
    },
    {
      "cell_type": "code",
      "metadata": {
        "colab": {
          "base_uri": "https://localhost:8080/"
        },
        "id": "PqcUl0zP3LCi",
        "outputId": "d1fce37e-4033-46f5-8f97-02cfd1493d82"
      },
      "source": [
        "print(x_train.shape)"
      ],
      "execution_count": 64,
      "outputs": [
        {
          "output_type": "stream",
          "name": "stdout",
          "text": [
            "(50000, 32, 32, 3)\n"
          ]
        }
      ]
    },
    {
      "cell_type": "code",
      "metadata": {
        "colab": {
          "base_uri": "https://localhost:8080/"
        },
        "id": "MWgrkI1GyfbI",
        "outputId": "582d133d-dcff-49e9-8b74-64273667fbfd"
      },
      "source": [
        "x_val = x_train[40000:50000, ]\n",
        "x_train = x_train[:40000, ]\n",
        "print(x_train.shape)"
      ],
      "execution_count": 72,
      "outputs": [
        {
          "output_type": "stream",
          "name": "stdout",
          "text": [
            "(40000, 32, 32, 3)\n"
          ]
        }
      ]
    },
    {
      "cell_type": "code",
      "metadata": {
        "id": "EveJY7NH02sr"
      },
      "source": [
        "def norm(x):\n",
        "    x = x.astype('float32')/255.\n",
        "    return x\n",
        "\n",
        "x_train = norm(x_train)\n",
        "x_test = norm(x_test)\n",
        "x_val = norm(x_val)"
      ],
      "execution_count": 73,
      "outputs": []
    },
    {
      "cell_type": "code",
      "metadata": {
        "colab": {
          "base_uri": "https://localhost:8080/",
          "height": 283
        },
        "id": "GImKguVG5GrA",
        "outputId": "b6071ac5-5bf6-4223-862e-4a77b86acd07"
      },
      "source": [
        "import matplotlib.pyplot as plt\n",
        "plt.imshow(x_train[0])"
      ],
      "execution_count": 75,
      "outputs": [
        {
          "output_type": "execute_result",
          "data": {
            "text/plain": [
              "<matplotlib.image.AxesImage at 0x7ffb7fc2e110>"
            ]
          },
          "metadata": {},
          "execution_count": 75
        },
        {
          "output_type": "display_data",
          "data": {
            "image/png": "[encoded data removed]",
            "text/plain": [
              "<Figure size 432x288 with 1 Axes>"
            ]
          },
          "metadata": {
            "needs_background": "light"
          }
        }
      ]
    },
    {
      "cell_type": "code",
      "metadata": {
        "id": "wHxzvumpuQej"
      },
      "source": [
        "def add_noise(x, noise_factor=0.05):\n",
        "    x = x + np.random.randn(*x.shape) * noise_factor\n",
        "    x = x.clip(0., 1.)\n",
        "    return x\n",
        "    \n",
        "X_train_noisy = add_noise(x_train)\n",
        "X_val_noisy = add_noise(x_val)\n",
        "X_test_noisy  = add_noise(x_test)"
      ],
      "execution_count": 76,
      "outputs": []
    },
    {
      "cell_type": "code",
      "metadata": {
        "colab": {
          "base_uri": "https://localhost:8080/",
          "height": 283
        },
        "id": "7OJI2Em85QQP",
        "outputId": "3b917069-475b-42a8-ecc2-35ce99b52b3e"
      },
      "source": [
        "plt.imshow(X_train_noisy[0])"
      ],
      "execution_count": 89,
      "outputs": [
        {
          "output_type": "execute_result",
          "data": {
            "text/plain": [
              "<matplotlib.image.AxesImage at 0x7ffb6f21bbd0>"
            ]
          },
          "metadata": {},
          "execution_count": 89
        },
        {
          "output_type": "display_data",
          "data": {
            "image/png": "[encoded data removed]",
            "text/plain": [
              "<Figure size 432x288 with 1 Axes>"
            ]
          },
          "metadata": {
            "needs_background": "light"
          }
        }
      ]
    },
    {
      "cell_type": "code",
      "metadata": {
        "id": "5EZ4ZDhO7jEH"
      },
      "source": [
        "inputs = Input(shape=(32, 32, 3))\n",
        "x = Conv2D(16, 3, strides=2, activation='relu', padding='same')(inputs)\n",
        "x = Conv2D(16, 3, strides=2, activation='relu', padding='same')(x)\n",
        "x = Conv2D(8, 3, strides=2, activation='sigmoid', padding='same')(x)\n",
        "\n",
        "# decoder\n",
        "x = Conv2DTranspose(16, 3, strides=2, padding='same', activation='relu')(x)\n",
        "x = Conv2DTranspose(16, 3, strides=2, padding='same', activation='relu')(x)\n",
        "decoder = Conv2DTranspose(3, 3, padding='same', strides=2, activation='sigmoid')(x)\n",
        "\n",
        "# autoencoder\n",
        "model_dn = Model(inputs, decoder)\n",
        "model_dn.compile(loss='binary_crossentropy', optimizer='adam')"
      ],
      "execution_count": 83,
      "outputs": []
    },
    {
      "cell_type": "code",
      "metadata": {
        "colab": {
          "base_uri": "https://localhost:8080/"
        },
        "id": "k4YsVoq48Pmf",
        "outputId": "55d21d73-85f8-4045-fb28-6d3d593d710d"
      },
      "source": [
        "model_dn.summary()"
      ],
      "execution_count": 84,
      "outputs": [
        {
          "output_type": "stream",
          "name": "stdout",
          "text": [
            "Model: \"model_2\"\n",
            "_________________________________________________________________\n",
            "Layer (type)                 Output Shape              Param #   \n",
            "=================================================================\n",
            "input_3 (InputLayer)         [(None, 32, 32, 3)]       0         \n",
            "_________________________________________________________________\n",
            "conv2d_6 (Conv2D)            (None, 16, 16, 16)        448       \n",
            "_________________________________________________________________\n",
            "conv2d_7 (Conv2D)            (None, 8, 8, 16)          2320      \n",
            "_________________________________________________________________\n",
            "conv2d_8 (Conv2D)            (None, 4, 4, 8)           1160      \n",
            "_________________________________________________________________\n",
            "conv2d_transpose_6 (Conv2DTr (None, 8, 8, 16)          1168      \n",
            "_________________________________________________________________\n",
            "conv2d_transpose_7 (Conv2DTr (None, 16, 16, 16)        2320      \n",
            "_________________________________________________________________\n",
            "conv2d_transpose_8 (Conv2DTr (None, 32, 32, 3)         435       \n",
            "=================================================================\n",
            "Total params: 7,851\n",
            "Trainable params: 7,851\n",
            "Non-trainable params: 0\n",
            "_________________________________________________________________\n"
          ]
        }
      ]
    },
    {
      "cell_type": "code",
      "metadata": {
        "colab": {
          "base_uri": "https://localhost:8080/"
        },
        "id": "XD9UPFKPzs0p",
        "outputId": "1be78f39-8580-4070-e3c6-04396188a50b"
      },
      "source": [
        "model_dn.fit(X_train_noisy, x_train,\n",
        "                    batch_size=256, epochs=20,\n",
        "                    validation_data=(X_val_noisy, x_val))"
      ],
      "execution_count": 95,
      "outputs": [
        {
          "output_type": "stream",
          "name": "stdout",
          "text": [
            "Epoch 1/20\n",
            "157/157 [==============================] - 20s 130ms/step - loss: 0.5773 - val_loss: 0.5778\n",
            "Epoch 2/20\n",
            "157/157 [==============================] - 19s 124ms/step - loss: 0.5767 - val_loss: 0.5775\n",
            "Epoch 3/20\n",
            "157/157 [==============================] - 19s 124ms/step - loss: 0.5765 - val_loss: 0.5774\n",
            "Epoch 4/20\n",
            "157/157 [==============================] - 20s 129ms/step - loss: 0.5763 - val_loss: 0.5769\n",
            "Epoch 5/20\n",
            "157/157 [==============================] - 20s 126ms/step - loss: 0.5760 - val_loss: 0.5767\n",
            "Epoch 6/20\n",
            "157/157 [==============================] - 20s 127ms/step - loss: 0.5758 - val_loss: 0.5768\n",
            "Epoch 7/20\n",
            "157/157 [==============================] - 20s 127ms/step - loss: 0.5754 - val_loss: 0.5762\n",
            "Epoch 8/20\n",
            "157/157 [==============================] - 20s 127ms/step - loss: 0.5755 - val_loss: 0.5761\n",
            "Epoch 9/20\n",
            "157/157 [==============================] - 20s 125ms/step - loss: 0.5751 - val_loss: 0.5770\n",
            "Epoch 10/20\n",
            "157/157 [==============================] - 21s 132ms/step - loss: 0.5749 - val_loss: 0.5759\n",
            "Epoch 11/20\n",
            "157/157 [==============================] - 21s 132ms/step - loss: 0.5748 - val_loss: 0.5757\n",
            "Epoch 12/20\n",
            "157/157 [==============================] - 20s 127ms/step - loss: 0.5747 - val_loss: 0.5757\n",
            "Epoch 13/20\n",
            "157/157 [==============================] - 20s 130ms/step - loss: 0.5745 - val_loss: 0.5754\n",
            "Epoch 14/20\n",
            "157/157 [==============================] - 20s 130ms/step - loss: 0.5744 - val_loss: 0.5753\n",
            "Epoch 15/20\n",
            "157/157 [==============================] - 20s 129ms/step - loss: 0.5742 - val_loss: 0.5750\n",
            "Epoch 16/20\n",
            "157/157 [==============================] - 21s 132ms/step - loss: 0.5739 - val_loss: 0.5751\n",
            "Epoch 17/20\n",
            "157/157 [==============================] - 21s 131ms/step - loss: 0.5738 - val_loss: 0.5750\n",
            "Epoch 18/20\n",
            "157/157 [==============================] - 20s 130ms/step - loss: 0.5736 - val_loss: 0.5743\n",
            "Epoch 19/20\n",
            "157/157 [==============================] - 20s 129ms/step - loss: 0.5731 - val_loss: 0.5743\n",
            "Epoch 20/20\n",
            "157/157 [==============================] - 20s 130ms/step - loss: 0.5725 - val_loss: 0.5728\n"
          ]
        },
        {
          "output_type": "execute_result",
          "data": {
            "text/plain": [
              "<keras.callbacks.History at 0x7ffb6efc3b50>"
            ]
          },
          "metadata": {},
          "execution_count": 95
        }
      ]
    },
    {
      "cell_type": "code",
      "metadata": {
        "colab": {
          "base_uri": "https://localhost:8080/",
          "height": 283
        },
        "id": "3nfOjX16FebF",
        "outputId": "a64ccb35-d884-484d-f116-d58a8a61f4b9"
      },
      "source": [
        "plt.imshow(x_test[1])"
      ],
      "execution_count": 99,
      "outputs": [
        {
          "output_type": "execute_result",
          "data": {
            "text/plain": [
              "<matplotlib.image.AxesImage at 0x7ffb6ef75d90>"
            ]
          },
          "metadata": {},
          "execution_count": 99
        },
        {
          "output_type": "display_data",
          "data": {
            "image/png": "[encoded data removed]",
            "text/plain": [
              "<Figure size 432x288 with 1 Axes>"
            ]
          },
          "metadata": {
            "needs_background": "light"
          }
        }
      ]
    },
    {
      "cell_type": "code",
      "metadata": {
        "colab": {
          "base_uri": "https://localhost:8080/",
          "height": 283
        },
        "id": "OdLisY5U-WU3",
        "outputId": "58bf8ce4-5e87-4332-ea56-2a82f54dcd39"
      },
      "source": [
        "plt.imshow(X_test_noisy[1])"
      ],
      "execution_count": 96,
      "outputs": [
        {
          "output_type": "execute_result",
          "data": {
            "text/plain": [
              "<matplotlib.image.AxesImage at 0x7ffb6ef16110>"
            ]
          },
          "metadata": {},
          "execution_count": 96
        },
        {
          "output_type": "display_data",
          "data": {
            "image/png": "[encoded data removed]",
            "text/plain": [
              "<Figure size 432x288 with 1 Axes>"
            ]
          },
          "metadata": {
            "needs_background": "light"
          }
        }
      ]
    },
    {
      "cell_type": "code",
      "metadata": {
        "id": "YuDLbsYK-b4j"
      },
      "source": [
        "x_test_denoise = model_dn.predict(X_test_noisy)"
      ],
      "execution_count": 97,
      "outputs": []
    },
    {
      "cell_type": "code",
      "metadata": {
        "colab": {
          "base_uri": "https://localhost:8080/",
          "height": 283
        },
        "id": "1UoABayU-n0R",
        "outputId": "0fb8185d-4c0a-4966-accf-2900eb385262"
      },
      "source": [
        "plt.imshow(x_test_denoise[1])"
      ],
      "execution_count": 98,
      "outputs": [
        {
          "output_type": "execute_result",
          "data": {
            "text/plain": [
              "<matplotlib.image.AxesImage at 0x7ffb6efae290>"
            ]
          },
          "metadata": {},
          "execution_count": 98
        },
        {
          "output_type": "display_data",
          "data": {
            "image/png": "[encoded data removed]",
            "text/plain": [
              "<Figure size 432x288 with 1 Axes>"
            ]
          },
          "metadata": {
            "needs_background": "light"
          }
        }
      ]
    },
    {
      "cell_type": "markdown",
      "metadata": {
        "id": "NN7rpamZCY61"
      },
      "source": [
        "3. Giảm chiều dữ liệu cifar-10 về 2d, visualize và so sánh giữa PCA, neural network AE và convolutional AE."
      ]
    },
    {
      "cell_type": "code",
      "metadata": {
        "id": "9an-tic1DNFq"
      },
      "source": [
        "from keras.datasets import cifar10, mnist\n",
        "import tensorflow as tf\n",
        "import numpy as np\n",
        "from tensorflow.keras.models import Model\n",
        "from tensorflow.keras.layers import Dense, Conv2DTranspose, Conv2D, Input, MaxPooling2D, Flatten, UpSampling2D"
      ],
      "execution_count": 79,
      "outputs": []
    },
    {
      "cell_type": "code",
      "metadata": {
        "colab": {
          "base_uri": "https://localhost:8080/"
        },
        "id": "np9CDtasB3CB",
        "outputId": "c05d5d0f-eef3-4426-a112-3132cacd109c"
      },
      "source": [
        "# cifar10 3072 -> 2 dim:\n",
        "# neural network AE\n",
        "node = 1024\n",
        "inputs = Input(shape=(node, ))\n",
        "# x = Dense(256, activation='relu')(inputs)\n",
        "# x = Dense(32, activation='relu')(x)\n",
        "encoder = Dense(2, activation='relu')(inputs)\n",
        "\n",
        "# x = Dense(32, activation='relu')(encoder)\n",
        "# x = Dense(256, activation='relu')(x)\n",
        "decoder = Dense(node, activation='sigmoid')(encoder)\n",
        "\n",
        "model_nn_AE = Model(inputs, decoder)\n",
        "model_nn_AE.compile(loss='binary_crossentropy', \n",
        "                    optimizer='adam')\n",
        "model_nn_AE.summary()"
      ],
      "execution_count": 3,
      "outputs": [
        {
          "output_type": "stream",
          "name": "stdout",
          "text": [
            "Model: \"model\"\n",
            "_________________________________________________________________\n",
            "Layer (type)                 Output Shape              Param #   \n",
            "=================================================================\n",
            "input_1 (InputLayer)         [(None, 1024)]            0         \n",
            "_________________________________________________________________\n",
            "dense (Dense)                (None, 2)                 2050      \n",
            "_________________________________________________________________\n",
            "dense_1 (Dense)              (None, 1024)              3072      \n",
            "=================================================================\n",
            "Total params: 5,122\n",
            "Trainable params: 5,122\n",
            "Non-trainable params: 0\n",
            "_________________________________________________________________\n"
          ]
        }
      ]
    },
    {
      "cell_type": "code",
      "metadata": {
        "id": "_jP-qbHwFNDn",
        "colab": {
          "base_uri": "https://localhost:8080/"
        },
        "outputId": "148b08d2-0fba-411a-d8ec-2cf5cd5cad3c"
      },
      "source": [
        "# data\n",
        "(x_train, _), (x_test, y_test) = cifar10.load_data()"
      ],
      "execution_count": 2,
      "outputs": [
        {
          "output_type": "stream",
          "name": "stdout",
          "text": [
            "Downloading data from https://www.cs.toronto.edu/~kriz/cifar-10-python.tar.gz\n",
            "170500096/170498071 [==============================] - 5s 0us/step\n",
            "170508288/170498071 [==============================] - 5s 0us/step\n"
          ]
        }
      ]
    },
    {
      "cell_type": "code",
      "metadata": {
        "id": "W8x56jPibjyX"
      },
      "source": [
        "x_train = tf.image.rgb_to_grayscale(x_train)\n",
        "x_test = tf.image.rgb_to_grayscale(x_test)"
      ],
      "execution_count": 4,
      "outputs": []
    },
    {
      "cell_type": "code",
      "metadata": {
        "id": "AYiwIhTjZCkV"
      },
      "source": [
        "x_train = tf.cast(x_train,tf.float32)/255.\n",
        "x_test = tf.cast(x_test, tf.float32)/255."
      ],
      "execution_count": 5,
      "outputs": []
    },
    {
      "cell_type": "code",
      "metadata": {
        "colab": {
          "base_uri": "https://localhost:8080/"
        },
        "id": "albNO7Z2dbDe",
        "outputId": "010c0d57-312b-4b29-ce7f-6fe1604838df"
      },
      "source": [
        "print(x_train.shape)"
      ],
      "execution_count": 6,
      "outputs": [
        {
          "output_type": "stream",
          "name": "stdout",
          "text": [
            "(50000, 32, 32, 1)\n"
          ]
        }
      ]
    },
    {
      "cell_type": "code",
      "metadata": {
        "id": "vkpaABSld7Jt"
      },
      "source": [
        "print(x_train[0])\n",
        "print(x_train.shape)"
      ],
      "execution_count": null,
      "outputs": []
    },
    {
      "cell_type": "code",
      "metadata": {
        "id": "3EyKHNMeeicG"
      },
      "source": [
        "x_train = np.array(x_train).reshape(-1, node)\n",
        "x_test = np.array(x_test).reshape(-1, node)"
      ],
      "execution_count": 6,
      "outputs": []
    },
    {
      "cell_type": "code",
      "metadata": {
        "colab": {
          "base_uri": "https://localhost:8080/"
        },
        "id": "jiCPPN1eSWsJ",
        "outputId": "c399be74-c751-4344-d562-b7c9c8d64c48"
      },
      "source": [
        "print(x_train[0])"
      ],
      "execution_count": 7,
      "outputs": [
        {
          "output_type": "stream",
          "name": "stdout",
          "text": [
            "[0.23921569 0.1764706  0.1882353  ... 0.7372549  0.4862745  0.3882353 ]\n"
          ]
        }
      ]
    },
    {
      "cell_type": "code",
      "metadata": {
        "id": "ooekvemBZSoC",
        "colab": {
          "base_uri": "https://localhost:8080/"
        },
        "outputId": "64f4d4be-e742-4784-ffac-b2e135891653"
      },
      "source": [
        "x_val = x_train[40000:50000, :]\n",
        "x_train = x_train[0:40000, ]\n",
        "print(x_train[0])"
      ],
      "execution_count": 8,
      "outputs": [
        {
          "output_type": "stream",
          "name": "stdout",
          "text": [
            "[0.23921569 0.1764706  0.1882353  ... 0.7372549  0.4862745  0.3882353 ]\n"
          ]
        }
      ]
    },
    {
      "cell_type": "code",
      "metadata": {
        "colab": {
          "base_uri": "https://localhost:8080/"
        },
        "id": "e5xHwxm_Zgvd",
        "outputId": "9a9fd505-0c4b-49c6-ca82-a4af9db83f03"
      },
      "source": [
        "print(x_train.shape, x_val.shape, x_test.shape)"
      ],
      "execution_count": 9,
      "outputs": [
        {
          "output_type": "stream",
          "name": "stdout",
          "text": [
            "(40000, 1024) (10000, 1024) (10000, 1024)\n"
          ]
        }
      ]
    },
    {
      "cell_type": "code",
      "metadata": {
        "colab": {
          "base_uri": "https://localhost:8080/"
        },
        "id": "-XFIE1MiHFXv",
        "outputId": "fadc7813-ad8f-4e83-b15e-29b2e37ee948"
      },
      "source": [
        "Epoch = 20\n",
        "model_nn_AE.fit(x_train, x_train, epochs=Epoch, \n",
        "                batch_size=256, validation_data=(x_val, x_val))"
      ],
      "execution_count": 10,
      "outputs": [
        {
          "output_type": "stream",
          "name": "stdout",
          "text": [
            "Epoch 1/20\n",
            "157/157 [==============================] - 2s 6ms/step - loss: 0.6804 - val_loss: 0.6666\n",
            "Epoch 2/20\n",
            "157/157 [==============================] - 1s 5ms/step - loss: 0.6640 - val_loss: 0.6614\n",
            "Epoch 3/20\n",
            "157/157 [==============================] - 1s 5ms/step - loss: 0.6600 - val_loss: 0.6581\n",
            "Epoch 4/20\n",
            "157/157 [==============================] - 1s 5ms/step - loss: 0.6572 - val_loss: 0.6558\n",
            "Epoch 5/20\n",
            "157/157 [==============================] - 1s 5ms/step - loss: 0.6550 - val_loss: 0.6540\n",
            "Epoch 6/20\n",
            "157/157 [==============================] - 1s 5ms/step - loss: 0.6532 - val_loss: 0.6521\n",
            "Epoch 7/20\n",
            "157/157 [==============================] - 1s 5ms/step - loss: 0.6513 - val_loss: 0.6503\n",
            "Epoch 8/20\n",
            "157/157 [==============================] - 1s 5ms/step - loss: 0.6497 - val_loss: 0.6494\n",
            "Epoch 9/20\n",
            "157/157 [==============================] - 1s 5ms/step - loss: 0.6483 - val_loss: 0.6473\n",
            "Epoch 10/20\n",
            "157/157 [==============================] - 1s 6ms/step - loss: 0.6468 - val_loss: 0.6460\n",
            "Epoch 11/20\n",
            "157/157 [==============================] - 1s 5ms/step - loss: 0.6455 - val_loss: 0.6450\n",
            "Epoch 12/20\n",
            "157/157 [==============================] - 1s 5ms/step - loss: 0.6444 - val_loss: 0.6439\n",
            "Epoch 13/20\n",
            "157/157 [==============================] - 1s 5ms/step - loss: 0.6435 - val_loss: 0.6432\n",
            "Epoch 14/20\n",
            "157/157 [==============================] - 1s 5ms/step - loss: 0.6427 - val_loss: 0.6424\n",
            "Epoch 15/20\n",
            "157/157 [==============================] - 1s 5ms/step - loss: 0.6421 - val_loss: 0.6417\n",
            "Epoch 16/20\n",
            "157/157 [==============================] - 1s 5ms/step - loss: 0.6415 - val_loss: 0.6413\n",
            "Epoch 17/20\n",
            "157/157 [==============================] - 1s 5ms/step - loss: 0.6411 - val_loss: 0.6410\n",
            "Epoch 18/20\n",
            "157/157 [==============================] - 1s 5ms/step - loss: 0.6407 - val_loss: 0.6407\n",
            "Epoch 19/20\n",
            "157/157 [==============================] - 1s 5ms/step - loss: 0.6405 - val_loss: 0.6405\n",
            "Epoch 20/20\n",
            "157/157 [==============================] - 1s 5ms/step - loss: 0.6402 - val_loss: 0.6402\n"
          ]
        },
        {
          "output_type": "execute_result",
          "data": {
            "text/plain": [
              "<keras.callbacks.History at 0x7f68b0337a10>"
            ]
          },
          "metadata": {},
          "execution_count": 10
        }
      ]
    },
    {
      "cell_type": "code",
      "metadata": {
        "id": "-MEUmy7TI2Xe"
      },
      "source": [
        "model_encoder_nn = Model(inputs, encoder)"
      ],
      "execution_count": 11,
      "outputs": []
    },
    {
      "cell_type": "code",
      "metadata": {
        "id": "4Zb4mDTAUK5G",
        "colab": {
          "base_uri": "https://localhost:8080/"
        },
        "outputId": "c9affb5f-c1b3-44d5-8456-5481af41ea51"
      },
      "source": [
        "model_encoder_nn.summary()"
      ],
      "execution_count": 137,
      "outputs": [
        {
          "output_type": "stream",
          "name": "stdout",
          "text": [
            "Model: \"model_13\"\n",
            "_________________________________________________________________\n",
            "Layer (type)                 Output Shape              Param #   \n",
            "=================================================================\n",
            "input_13 (InputLayer)        [(None, 1024)]            0         \n",
            "_________________________________________________________________\n",
            "dense_42 (Dense)             (None, 2)                 2050      \n",
            "=================================================================\n",
            "Total params: 2,050\n",
            "Trainable params: 2,050\n",
            "Non-trainable params: 0\n",
            "_________________________________________________________________\n"
          ]
        }
      ]
    },
    {
      "cell_type": "code",
      "metadata": {
        "colab": {
          "base_uri": "https://localhost:8080/"
        },
        "id": "9R-nQIJrYaV6",
        "outputId": "b379b06a-e346-4cab-ab8a-31a4a7b31a13"
      },
      "source": [
        "print(x_test.shape)\n",
        "print(x_test[0])"
      ],
      "execution_count": 12,
      "outputs": [
        {
          "output_type": "stream",
          "name": "stdout",
          "text": [
            "(10000, 1024)\n",
            "[0.4627451  0.4627451  0.48235294 ... 0.25882354 0.2901961  0.22745098]\n"
          ]
        }
      ]
    },
    {
      "cell_type": "code",
      "metadata": {
        "colab": {
          "base_uri": "https://localhost:8080/"
        },
        "id": "nuUL6t3QY3u2",
        "outputId": "abda5136-9544-4bf4-db2c-f980fd26cd08"
      },
      "source": [
        "test = model_nn_AE.predict(np.expand_dims(x_test[0], 0))\n",
        "print(test)"
      ],
      "execution_count": 13,
      "outputs": [
        {
          "output_type": "stream",
          "name": "stdout",
          "text": [
            "[[0.4506726  0.44885337 0.44926053 ... 0.40408325 0.4028855  0.40206897]]\n"
          ]
        }
      ]
    },
    {
      "cell_type": "code",
      "metadata": {
        "colab": {
          "base_uri": "https://localhost:8080/"
        },
        "id": "iN1em4dpKR3h",
        "outputId": "1988bc57-e5d7-4eed-9f82-0e9c8da51d5d"
      },
      "source": [
        "x_pred = model_encoder_nn.predict(x_test)\n",
        "print(x_pred.shape)"
      ],
      "execution_count": 14,
      "outputs": [
        {
          "output_type": "stream",
          "name": "stdout",
          "text": [
            "(10000, 2)\n"
          ]
        }
      ]
    },
    {
      "cell_type": "code",
      "metadata": {
        "colab": {
          "base_uri": "https://localhost:8080/"
        },
        "id": "5IxgWDXSSsup",
        "outputId": "44a1f01f-24c9-47a6-ed21-840de2d7eb18"
      },
      "source": [
        "print(x_pred[10])"
      ],
      "execution_count": 15,
      "outputs": [
        {
          "output_type": "stream",
          "name": "stdout",
          "text": [
            "[ 8.816498 16.716318]\n"
          ]
        }
      ]
    },
    {
      "cell_type": "code",
      "metadata": {
        "id": "b4mG5eNrKjqW"
      },
      "source": [
        "import matplotlib.pyplot as plt"
      ],
      "execution_count": 23,
      "outputs": []
    },
    {
      "cell_type": "code",
      "metadata": {
        "colab": {
          "base_uri": "https://localhost:8080/"
        },
        "id": "sBWDej3QjNjD",
        "outputId": "976dfbb5-d06a-4945-f045-428d62de1419"
      },
      "source": [
        "print(y_test.shape)"
      ],
      "execution_count": 17,
      "outputs": [
        {
          "output_type": "stream",
          "name": "stdout",
          "text": [
            "(10000, 1)\n"
          ]
        }
      ]
    },
    {
      "cell_type": "code",
      "metadata": {
        "colab": {
          "base_uri": "https://localhost:8080/"
        },
        "id": "nKTYrq00Nxjg",
        "outputId": "9b727063-a687-4bef-bc9d-24de4137f757"
      },
      "source": [
        "x_0 = x_pred[y_test[0:, 0]==0]\n",
        "x_1 = x_pred[y_test[:, 0]==1]\n",
        "x_2 = x_pred[y_test[:, 0]==2]\n",
        "x_3 = x_pred[y_test[:, 0]==3]\n",
        "x_4 = x_pred[y_test[:, 0]==4]\n",
        "print(x_0.shape, x_1.shape, x_2.shape, x_3.shape)"
      ],
      "execution_count": 18,
      "outputs": [
        {
          "output_type": "stream",
          "name": "stdout",
          "text": [
            "(1000, 2) (1000, 2) (1000, 2) (1000, 2)\n"
          ]
        }
      ]
    },
    {
      "cell_type": "code",
      "metadata": {
        "colab": {
          "base_uri": "https://localhost:8080/",
          "height": 283
        },
        "id": "UhUDZUrvK9Cd",
        "outputId": "8a230062-5c95-4e8a-82d5-5bc5234770d2"
      },
      "source": [
        "plt.scatter(x_0[:100, 0], x_0[:100, 1], c='r')\n",
        "plt.scatter(x_1[:100, 0], x_1[:100, 1], c='g')\n",
        "plt.scatter(x_2[:100, 0], x_2[:100, 1], c='b')\n",
        "plt.scatter(x_3[:100, 0], x_3[:100, 1], c='c')\n",
        "plt.scatter(x_4[:100, 0], x_4[:100, 1], c='y')"
      ],
      "execution_count": 19,
      "outputs": [
        {
          "output_type": "execute_result",
          "data": {
            "text/plain": [
              "<matplotlib.collections.PathCollection at 0x7f68b02b8c10>"
            ]
          },
          "metadata": {},
          "execution_count": 19
        },
        {
          "output_type": "display_data",
          "data": {
            "image/png": "[encoded data removed]",
            "text/plain": [
              "<Figure size 432x288 with 1 Axes>"
            ]
          },
          "metadata": {
            "needs_background": "light"
          }
        }
      ]
    },
    {
      "cell_type": "code",
      "metadata": {
        "id": "21CZYBsb_xZx"
      },
      "source": [
        "# Convolution AE\n",
        "# encoder\n",
        "inputs = Input(shape=(32, 32, 3))\n",
        "x = Conv2D(16, 3, strides=2, activation='relu', padding='same')(inputs)\n",
        "x = Conv2D(16, 3, strides=2, activation='relu', padding='same')(x)\n",
        "x = Conv2D(8, 3, strides=2, activation='sigmoid', padding='same')(x)\n",
        "# bottle_neck\n",
        "x = Flatten()(x)\n",
        "encoder = Dense(2, activation='relu')(x)\n",
        "\n",
        "# decoder\n",
        "x = Dense(x.shape[-1], activation='relu')(encoder)\n",
        "x = tf.keras.layers.Reshape((4, 4, -1))(x)\n",
        "x = Conv2DTranspose(16, 3, strides=2, padding='same', activation='relu')(x)\n",
        "x = Conv2DTranspose(16, 3, strides=2, padding='same', activation='relu')(x)\n",
        "decoder = Conv2DTranspose(3, 3, padding='same', strides=2, activation='sigmoid')(x)\n",
        "\n",
        "# autoencoder\n",
        "autoencoder = Model(inputs, decoder)\n",
        "autoencoder.compile(loss='binary_crossentropy', optimizer='adam')"
      ],
      "execution_count": 80,
      "outputs": []
    },
    {
      "cell_type": "code",
      "metadata": {
        "colab": {
          "base_uri": "https://localhost:8080/"
        },
        "id": "lrzuf13wG50g",
        "outputId": "3f8c6f80-5b8c-4683-9c48-c34e2accb6ea"
      },
      "source": [
        "autoencoder.summary()"
      ],
      "execution_count": 81,
      "outputs": [
        {
          "output_type": "stream",
          "name": "stdout",
          "text": [
            "Model: \"model_1\"\n",
            "_________________________________________________________________\n",
            "Layer (type)                 Output Shape              Param #   \n",
            "=================================================================\n",
            "input_2 (InputLayer)         [(None, 32, 32, 3)]       0         \n",
            "_________________________________________________________________\n",
            "conv2d_3 (Conv2D)            (None, 16, 16, 16)        448       \n",
            "_________________________________________________________________\n",
            "conv2d_4 (Conv2D)            (None, 8, 8, 16)          2320      \n",
            "_________________________________________________________________\n",
            "conv2d_5 (Conv2D)            (None, 4, 4, 8)           1160      \n",
            "_________________________________________________________________\n",
            "flatten_1 (Flatten)          (None, 128)               0         \n",
            "_________________________________________________________________\n",
            "dense_2 (Dense)              (None, 2)                 258       \n",
            "_________________________________________________________________\n",
            "dense_3 (Dense)              (None, 128)               384       \n",
            "_________________________________________________________________\n",
            "reshape_1 (Reshape)          (None, 4, 4, 8)           0         \n",
            "_________________________________________________________________\n",
            "conv2d_transpose_3 (Conv2DTr (None, 8, 8, 16)          1168      \n",
            "_________________________________________________________________\n",
            "conv2d_transpose_4 (Conv2DTr (None, 16, 16, 16)        2320      \n",
            "_________________________________________________________________\n",
            "conv2d_transpose_5 (Conv2DTr (None, 32, 32, 3)         435       \n",
            "=================================================================\n",
            "Total params: 8,493\n",
            "Trainable params: 8,493\n",
            "Non-trainable params: 0\n",
            "_________________________________________________________________\n"
          ]
        }
      ]
    },
    {
      "cell_type": "code",
      "metadata": {
        "colab": {
          "base_uri": "https://localhost:8080/"
        },
        "id": "3yceFOx-HiRD",
        "outputId": "aefda194-532b-44e9-959e-56c670966891"
      },
      "source": [
        "# data\n",
        "(x_train, _), (x_test, y_test) = cifar10.load_data()"
      ],
      "execution_count": 8,
      "outputs": [
        {
          "output_type": "stream",
          "name": "stdout",
          "text": [
            "Downloading data from https://www.cs.toronto.edu/~kriz/cifar-10-python.tar.gz\n",
            "170500096/170498071 [==============================] - 2s 0us/step\n",
            "170508288/170498071 [==============================] - 2s 0us/step\n"
          ]
        }
      ]
    },
    {
      "cell_type": "code",
      "metadata": {
        "id": "Hz8uVaP9Mdes"
      },
      "source": [
        "x_train = x_train.astype('float32')/255.\n",
        "x_test = x_test.astype('float32')/255."
      ],
      "execution_count": 9,
      "outputs": []
    },
    {
      "cell_type": "code",
      "metadata": {
        "id": "5Il8QT1cMoMJ"
      },
      "source": [
        "from sklearn.model_selection import train_test_split\n",
        "x_train, x_val = train_test_split(x_train, test_size=10000)"
      ],
      "execution_count": 10,
      "outputs": []
    },
    {
      "cell_type": "code",
      "metadata": {
        "colab": {
          "base_uri": "https://localhost:8080/"
        },
        "id": "kS9UiYsDMwBK",
        "outputId": "43619c88-8de5-460a-dd3d-406c55f633ea"
      },
      "source": [
        "print(x_train.shape, x_val.shape, x_test.shape)"
      ],
      "execution_count": 11,
      "outputs": [
        {
          "output_type": "stream",
          "name": "stdout",
          "text": [
            "(40000, 32, 32, 3) (10000, 32, 32, 3) (10000, 32, 32, 3)\n"
          ]
        }
      ]
    },
    {
      "cell_type": "code",
      "metadata": {
        "colab": {
          "base_uri": "https://localhost:8080/"
        },
        "id": "27dsd54FM1Ap",
        "outputId": "faa9394e-c1b6-4d50-e218-486e10db9e26"
      },
      "source": [
        "autoencoder.fit(x_train, x_train,\n",
        "              epochs=25, batch_size=256,\n",
        "              validation_data=(x_val, x_val))"
      ],
      "execution_count": 16,
      "outputs": [
        {
          "output_type": "stream",
          "name": "stdout",
          "text": [
            "Epoch 1/25\n",
            "157/157 [==============================] - 4s 20ms/step - loss: 0.6804 - val_loss: 0.6648\n",
            "Epoch 2/25\n",
            "157/157 [==============================] - 3s 17ms/step - loss: 0.6561 - val_loss: 0.6515\n",
            "Epoch 3/25\n",
            "157/157 [==============================] - 3s 16ms/step - loss: 0.6494 - val_loss: 0.6475\n",
            "Epoch 4/25\n",
            "157/157 [==============================] - 3s 17ms/step - loss: 0.6462 - val_loss: 0.6451\n",
            "Epoch 5/25\n",
            "157/157 [==============================] - 3s 17ms/step - loss: 0.6439 - val_loss: 0.6429\n",
            "Epoch 6/25\n",
            "157/157 [==============================] - 3s 17ms/step - loss: 0.6423 - val_loss: 0.6415\n",
            "Epoch 7/25\n",
            "157/157 [==============================] - 3s 17ms/step - loss: 0.6411 - val_loss: 0.6405\n",
            "Epoch 8/25\n",
            "157/157 [==============================] - 3s 17ms/step - loss: 0.6402 - val_loss: 0.6396\n",
            "Epoch 9/25\n",
            "157/157 [==============================] - 3s 17ms/step - loss: 0.6394 - val_loss: 0.6390\n",
            "Epoch 10/25\n",
            "157/157 [==============================] - 3s 17ms/step - loss: 0.6388 - val_loss: 0.6385\n",
            "Epoch 11/25\n",
            "157/157 [==============================] - 3s 17ms/step - loss: 0.6383 - val_loss: 0.6380\n",
            "Epoch 12/25\n",
            "157/157 [==============================] - 3s 16ms/step - loss: 0.6379 - val_loss: 0.6376\n",
            "Epoch 13/25\n",
            "157/157 [==============================] - 3s 17ms/step - loss: 0.6375 - val_loss: 0.6375\n",
            "Epoch 14/25\n",
            "157/157 [==============================] - 3s 17ms/step - loss: 0.6372 - val_loss: 0.6370\n",
            "Epoch 15/25\n",
            "157/157 [==============================] - 3s 17ms/step - loss: 0.6370 - val_loss: 0.6370\n",
            "Epoch 16/25\n",
            "157/157 [==============================] - 3s 17ms/step - loss: 0.6367 - val_loss: 0.6366\n",
            "Epoch 17/25\n",
            "157/157 [==============================] - 3s 17ms/step - loss: 0.6366 - val_loss: 0.6367\n",
            "Epoch 18/25\n",
            "157/157 [==============================] - 3s 17ms/step - loss: 0.6364 - val_loss: 0.6363\n",
            "Epoch 19/25\n",
            "157/157 [==============================] - 3s 17ms/step - loss: 0.6363 - val_loss: 0.6362\n",
            "Epoch 20/25\n",
            "157/157 [==============================] - 3s 17ms/step - loss: 0.6361 - val_loss: 0.6361\n",
            "Epoch 21/25\n",
            "157/157 [==============================] - 3s 17ms/step - loss: 0.6360 - val_loss: 0.6360\n",
            "Epoch 22/25\n",
            "157/157 [==============================] - 3s 17ms/step - loss: 0.6360 - val_loss: 0.6359\n",
            "Epoch 23/25\n",
            "157/157 [==============================] - 3s 16ms/step - loss: 0.6358 - val_loss: 0.6358\n",
            "Epoch 24/25\n",
            "157/157 [==============================] - 3s 17ms/step - loss: 0.6358 - val_loss: 0.6359\n",
            "Epoch 25/25\n",
            "157/157 [==============================] - 3s 17ms/step - loss: 0.6357 - val_loss: 0.6357\n"
          ]
        },
        {
          "output_type": "execute_result",
          "data": {
            "text/plain": [
              "<keras.callbacks.History at 0x7f745c2885d0>"
            ]
          },
          "metadata": {},
          "execution_count": 16
        }
      ]
    },
    {
      "cell_type": "code",
      "metadata": {
        "colab": {
          "base_uri": "https://localhost:8080/"
        },
        "id": "liuziu7kfSAt",
        "outputId": "894cdad5-6bf2-4125-880d-e31f690dbb57"
      },
      "source": [
        "model_cnn_AE = Model(inputs, encoder)\n",
        "model_cnn_AE.summary()"
      ],
      "execution_count": 17,
      "outputs": [
        {
          "output_type": "stream",
          "name": "stdout",
          "text": [
            "Model: \"model_3\"\n",
            "_________________________________________________________________\n",
            "Layer (type)                 Output Shape              Param #   \n",
            "=================================================================\n",
            "input_4 (InputLayer)         [(None, 32, 32, 3)]       0         \n",
            "_________________________________________________________________\n",
            "conv2d_9 (Conv2D)            (None, 16, 16, 16)        448       \n",
            "_________________________________________________________________\n",
            "conv2d_10 (Conv2D)           (None, 8, 8, 16)          2320      \n",
            "_________________________________________________________________\n",
            "conv2d_11 (Conv2D)           (None, 4, 4, 8)           1160      \n",
            "_________________________________________________________________\n",
            "flatten_3 (Flatten)          (None, 128)               0         \n",
            "_________________________________________________________________\n",
            "dense_6 (Dense)              (None, 2)                 258       \n",
            "=================================================================\n",
            "Total params: 4,186\n",
            "Trainable params: 4,186\n",
            "Non-trainable params: 0\n",
            "_________________________________________________________________\n"
          ]
        }
      ]
    },
    {
      "cell_type": "code",
      "metadata": {
        "colab": {
          "base_uri": "https://localhost:8080/"
        },
        "id": "6G38uS4JPraJ",
        "outputId": "f53ad017-c511-4632-fae3-8956cc2fe011"
      },
      "source": [
        "x_pred = model_cnn_AE.predict(x_test)\n",
        "print(x_pred.shape)"
      ],
      "execution_count": 18,
      "outputs": [
        {
          "output_type": "stream",
          "name": "stdout",
          "text": [
            "(10000, 2)\n"
          ]
        }
      ]
    },
    {
      "cell_type": "code",
      "metadata": {
        "colab": {
          "base_uri": "https://localhost:8080/"
        },
        "id": "6Skue3MySC2s",
        "outputId": "5fa29b58-da5f-49c3-9371-c0bca4c63050"
      },
      "source": [
        "print(x_pred[0])"
      ],
      "execution_count": 19,
      "outputs": [
        {
          "output_type": "stream",
          "name": "stdout",
          "text": [
            "[3.5639193 2.022832 ]\n"
          ]
        }
      ]
    },
    {
      "cell_type": "code",
      "metadata": {
        "colab": {
          "base_uri": "https://localhost:8080/"
        },
        "id": "1OnKEfk1ZqQQ",
        "outputId": "48dbbebb-92d3-4696-b476-959c6f60c87b"
      },
      "source": [
        "x_0 = x_pred[y_test[:, 0]==0]\n",
        "x_1 = x_pred[y_test[:, 0]==1]\n",
        "x_2 = x_pred[y_test[:, 0]==2]\n",
        "x_3 = x_pred[y_test[:, 0]==3]\n",
        "x_4 = x_pred[y_test[:, 0]==4]\n",
        "print(x_0.shape, x_1.shape, x_2.shape, x_3.shape)"
      ],
      "execution_count": 21,
      "outputs": [
        {
          "output_type": "stream",
          "name": "stdout",
          "text": [
            "(1000, 2) (1000, 2) (1000, 2) (1000, 2)\n"
          ]
        }
      ]
    },
    {
      "cell_type": "code",
      "metadata": {
        "colab": {
          "base_uri": "https://localhost:8080/",
          "height": 282
        },
        "id": "iMUxUrs_Zy4j",
        "outputId": "afb3b6b4-c31f-41f5-9efc-9ddfd118c4c4"
      },
      "source": [
        "plt.scatter(x_0[:100, 0], x_0[:100, 1], c='r')\n",
        "plt.scatter(x_1[:100, 0], x_1[:100, 1], c='g')\n",
        "plt.scatter(x_2[:100, 0], x_2[:100, 1], c='b')\n",
        "plt.scatter(x_3[:100, 0], x_3[:100, 1], c='c')\n",
        "plt.scatter(x_4[:100, 0], x_4[:100, 1], c='y')"
      ],
      "execution_count": 24,
      "outputs": [
        {
          "output_type": "execute_result",
          "data": {
            "text/plain": [
              "<matplotlib.collections.PathCollection at 0x7f745bf14290>"
            ]
          },
          "metadata": {},
          "execution_count": 24
        },
        {
          "output_type": "display_data",
          "data": {
            "image/png": "[encoded data removed]",
            "text/plain": [
              "<Figure size 432x288 with 1 Axes>"
            ]
          },
          "metadata": {
            "needs_background": "light"
          }
        }
      ]
    },
    {
      "cell_type": "code",
      "metadata": {
        "id": "_lGKvQ8rbv5m"
      },
      "source": [
        "# PCA\n",
        "from sklearn.decomposition import PCA"
      ],
      "execution_count": 25,
      "outputs": []
    },
    {
      "cell_type": "code",
      "metadata": {
        "colab": {
          "base_uri": "https://localhost:8080/"
        },
        "id": "-K9hdoaTraer",
        "outputId": "c7685de6-79a3-4778-ff91-8f2d0d1712c3"
      },
      "source": [
        "x = x_test.reshape(x_test.shape[0], -1)\n",
        "pca = PCA(n_components=2)\n",
        "y = pca.fit_transform(x)\n",
        "print(y)"
      ],
      "execution_count": 29,
      "outputs": [
        {
          "output_type": "stream",
          "name": "stdout",
          "text": [
            "[[ -3.6944602    0.87166345]\n",
            " [  9.688773    -9.6900015 ]\n",
            " [  4.423445    -8.88711   ]\n",
            " ...\n",
            " [-15.420832     2.5345204 ]\n",
            " [ -6.107582     1.9473994 ]\n",
            " [ -1.9328625   -1.8537053 ]]\n"
          ]
        }
      ]
    },
    {
      "cell_type": "code",
      "metadata": {
        "colab": {
          "base_uri": "https://localhost:8080/"
        },
        "id": "40_WKRE1shvw",
        "outputId": "d36e9d89-65ed-4871-c811-516691bc202b"
      },
      "source": [
        "print(y.shape)"
      ],
      "execution_count": 30,
      "outputs": [
        {
          "output_type": "stream",
          "name": "stdout",
          "text": [
            "(10000, 2)\n"
          ]
        }
      ]
    },
    {
      "cell_type": "code",
      "metadata": {
        "id": "MFoZ560CtWay"
      },
      "source": [
        "x_0 = y[y_test[:, 0]==0]\n",
        "x_1 = y[y_test[:, 0]==1]\n",
        "x_2 = y[y_test[:, 0]==2]\n",
        "x_3 = y[y_test[:, 0]==3]\n",
        "x_4 = y[y_test[:, 0]==4]"
      ],
      "execution_count": 31,
      "outputs": []
    },
    {
      "cell_type": "code",
      "metadata": {
        "colab": {
          "base_uri": "https://localhost:8080/",
          "height": 282
        },
        "id": "q5q21BtatqPt",
        "outputId": "33771894-efd6-4c51-b418-fc2610db5a82"
      },
      "source": [
        "plt.scatter(x_0[:100, 0], x_0[:100, 1], c='r')\n",
        "plt.scatter(x_1[:100, 0], x_1[:100, 1], c='g')\n",
        "plt.scatter(x_2[:100, 0], x_2[:100, 1], c='b')\n",
        "plt.scatter(x_3[:100, 0], x_3[:100, 1], c='c')\n",
        "plt.scatter(x_4[:100, 0], x_4[:100, 1], c='y')"
      ],
      "execution_count": 32,
      "outputs": [
        {
          "output_type": "execute_result",
          "data": {
            "text/plain": [
              "<matplotlib.collections.PathCollection at 0x7f745bad55d0>"
            ]
          },
          "metadata": {},
          "execution_count": 32
        },
        {
          "output_type": "display_data",
          "data": {
            "image/png": "[encoded data removed]",
            "text/plain": [
              "<Figure size 432x288 with 1 Axes>"
            ]
          },
          "metadata": {
            "needs_background": "light"
          }
        }
      ]
    },
    {
      "cell_type": "code",
      "metadata": {
        "id": "zU7utjMTtsMQ"
      },
      "source": [
        ""
      ],
      "execution_count": null,
      "outputs": []
    }
  ]
}