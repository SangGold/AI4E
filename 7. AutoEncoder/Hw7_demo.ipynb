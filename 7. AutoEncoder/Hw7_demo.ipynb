{
  "nbformat": 4,
  "nbformat_minor": 0,
  "metadata": {
    "colab": {
      "name": "Hw7.ipynb",
      "provenance": []
    },
    "kernelspec": {
      "name": "python3",
      "display_name": "Python 3"
    },
    "language_info": {
      "name": "python"
    },
    "accelerator": "GPU"
  },
  "cells": [
    {
      "cell_type": "markdown",
      "metadata": {
        "id": "_IC3JS6UB_ql"
      },
      "source": [
        "2. Tự tạo dataset, thực hiện denoise ảnh cifar-10"
      ]
    },
    {
      "cell_type": "markdown",
      "metadata": {
        "id": "NN7rpamZCY61"
      },
      "source": [
        "3. Giảm chiều dữ liệu cifar-10 về 2d, visualize và so sánh giữa PCA, neural network AE và convolutional AE."
      ]
    },
    {
      "cell_type": "code",
      "metadata": {
        "id": "9an-tic1DNFq"
      },
      "source": [
        "from keras.datasets import cifar10, mnist\n",
        "import tensorflow as tf\n",
        "import numpy as np\n",
        "from tensorflow.keras.models import Model\n",
        "from tensorflow.keras.layers import Dense, Conv2D, Input, MaxPooling2D"
      ],
      "execution_count": 1,
      "outputs": []
    },
    {
      "cell_type": "code",
      "metadata": {
        "colab": {
          "base_uri": "https://localhost:8080/"
        },
        "id": "np9CDtasB3CB",
        "outputId": "155b4faf-8112-423d-deb0-d833778bc963"
      },
      "source": [
        "# cifar10 784 -> 2 dim:\n",
        "# neural network AE\n",
        "node = 1024\n",
        "inputs = Input(shape=(node, ))\n",
        "encoder = Dense(2, activation='relu')(inputs)\n",
        "\n",
        "# fc2 = Dense(512, activation='relu')(encoder)\n",
        "decoder = Dense(node, activation='sigmoid')(encoder)\n",
        "\n",
        "model_nn_AE = Model(inputs, decoder)\n",
        "model_nn_AE.compile(loss='binary_crossentropy', \n",
        "                    optimizer=tf.keras.optimizers.Adam())\n",
        "model_nn_AE.summary()"
      ],
      "execution_count": 2,
      "outputs": [
        {
          "output_type": "stream",
          "name": "stdout",
          "text": [
            "Model: \"model\"\n",
            "_________________________________________________________________\n",
            "Layer (type)                 Output Shape              Param #   \n",
            "=================================================================\n",
            "input_1 (InputLayer)         [(None, 1024)]            0         \n",
            "_________________________________________________________________\n",
            "dense (Dense)                (None, 2)                 2050      \n",
            "_________________________________________________________________\n",
            "dense_1 (Dense)              (None, 1024)              3072      \n",
            "=================================================================\n",
            "Total params: 5,122\n",
            "Trainable params: 5,122\n",
            "Non-trainable params: 0\n",
            "_________________________________________________________________\n"
          ]
        }
      ]
    },
    {
      "cell_type": "code",
      "metadata": {
        "id": "_jP-qbHwFNDn",
        "colab": {
          "base_uri": "https://localhost:8080/"
        },
        "outputId": "d0a2f3d4-72a0-4905-8002-be247e36022f"
      },
      "source": [
        "# data\n",
        "(x_train, _), (x_test, y_test) = cifar10.load_data()"
      ],
      "execution_count": 3,
      "outputs": [
        {
          "output_type": "stream",
          "name": "stdout",
          "text": [
            "Downloading data from https://www.cs.toronto.edu/~kriz/cifar-10-python.tar.gz\n",
            "170500096/170498071 [==============================] - 11s 0us/step\n",
            "170508288/170498071 [==============================] - 11s 0us/step\n"
          ]
        }
      ]
    },
    {
      "cell_type": "code",
      "metadata": {
        "id": "AYiwIhTjZCkV"
      },
      "source": [
        "def preprocess(x):\n",
        "    x = x.astype('float32') / 255.\n",
        "    return x.reshape(-1, np.prod(x.shape[1:3]), 3)\n",
        "\n",
        "x_train = preprocess(x_train)\n",
        "x_test = preprocess(x_test)"
      ],
      "execution_count": 4,
      "outputs": []
    },
    {
      "cell_type": "code",
      "metadata": {
        "colab": {
          "base_uri": "https://localhost:8080/"
        },
        "id": "vkpaABSld7Jt",
        "outputId": "c9e3114c-2392-44d0-ab18-0b71c50e37d9"
      },
      "source": [
        "print(x_train[0])\n",
        "print(x_train.shape)"
      ],
      "execution_count": 5,
      "outputs": [
        {
          "output_type": "stream",
          "name": "stdout",
          "text": [
            "[[0.23137255 0.24313726 0.24705882]\n",
            " [0.16862746 0.18039216 0.1764706 ]\n",
            " [0.19607843 0.1882353  0.16862746]\n",
            " ...\n",
            " [0.84705883 0.72156864 0.54901963]\n",
            " [0.5921569  0.4627451  0.32941177]\n",
            " [0.48235294 0.36078432 0.28235295]]\n",
            "(50000, 1024, 3)\n"
          ]
        }
      ]
    },
    {
      "cell_type": "code",
      "metadata": {
        "colab": {
          "base_uri": "https://localhost:8080/"
        },
        "id": "ivVwk-79c4gV",
        "outputId": "f4a43b62-2dd0-4e13-8e90-45213f752459"
      },
      "source": [
        "# convert to gray\n",
        "x_train = tf.image.rgb_to_grayscale(x_train)\n",
        "x_test = tf.image.rgb_to_grayscale(x_test)\n",
        "print(x_train.shape)"
      ],
      "execution_count": 6,
      "outputs": [
        {
          "output_type": "stream",
          "name": "stdout",
          "text": [
            "(50000, 1024, 1)\n"
          ]
        }
      ]
    },
    {
      "cell_type": "code",
      "metadata": {
        "id": "3EyKHNMeeicG"
      },
      "source": [
        "x_train = np.array(x_train).reshape(-1, 1024)\n",
        "x_test = np.array(x_test).reshape(-1, 1024)"
      ],
      "execution_count": 7,
      "outputs": []
    },
    {
      "cell_type": "code",
      "metadata": {
        "id": "ooekvemBZSoC"
      },
      "source": [
        "from sklearn.model_selection import train_test_split\n",
        "x_train, x_val = train_test_split(x_train, test_size=10000)"
      ],
      "execution_count": 8,
      "outputs": []
    },
    {
      "cell_type": "code",
      "metadata": {
        "colab": {
          "base_uri": "https://localhost:8080/"
        },
        "id": "e5xHwxm_Zgvd",
        "outputId": "9cdc99c8-9f32-4b53-fa23-7d0df317ceb8"
      },
      "source": [
        "print(x_train.shape, x_val.shape, x_test.shape)"
      ],
      "execution_count": 9,
      "outputs": [
        {
          "output_type": "stream",
          "name": "stdout",
          "text": [
            "(40000, 1024) (10000, 1024) (10000, 1024)\n"
          ]
        }
      ]
    },
    {
      "cell_type": "code",
      "metadata": {
        "colab": {
          "base_uri": "https://localhost:8080/"
        },
        "id": "-XFIE1MiHFXv",
        "outputId": "dffb5930-7851-4228-f712-ed1e661b90f7"
      },
      "source": [
        "Epoch = 20\n",
        "model_nn_AE.fit(x_train, x_train, epochs=Epoch, \n",
        "                batch_size=256, validation_data=(x_val, x_val))"
      ],
      "execution_count": 10,
      "outputs": [
        {
          "output_type": "stream",
          "name": "stdout",
          "text": [
            "Epoch 1/20\n",
            "157/157 [==============================] - 2s 6ms/step - loss: 0.6826 - val_loss: 0.6753\n",
            "Epoch 2/20\n",
            "157/157 [==============================] - 1s 5ms/step - loss: 0.6732 - val_loss: 0.6714\n",
            "Epoch 3/20\n",
            "157/157 [==============================] - 1s 5ms/step - loss: 0.6701 - val_loss: 0.6688\n",
            "Epoch 4/20\n",
            "157/157 [==============================] - 1s 5ms/step - loss: 0.6678 - val_loss: 0.6670\n",
            "Epoch 5/20\n",
            "157/157 [==============================] - 1s 5ms/step - loss: 0.6655 - val_loss: 0.6610\n",
            "Epoch 6/20\n",
            "157/157 [==============================] - 1s 5ms/step - loss: 0.6539 - val_loss: 0.6513\n",
            "Epoch 7/20\n",
            "157/157 [==============================] - 1s 5ms/step - loss: 0.6500 - val_loss: 0.6492\n",
            "Epoch 8/20\n",
            "157/157 [==============================] - 1s 5ms/step - loss: 0.6483 - val_loss: 0.6478\n",
            "Epoch 9/20\n",
            "157/157 [==============================] - 1s 5ms/step - loss: 0.6469 - val_loss: 0.6464\n",
            "Epoch 10/20\n",
            "157/157 [==============================] - 1s 5ms/step - loss: 0.6457 - val_loss: 0.6453\n",
            "Epoch 11/20\n",
            "157/157 [==============================] - 1s 5ms/step - loss: 0.6446 - val_loss: 0.6443\n",
            "Epoch 12/20\n",
            "157/157 [==============================] - 1s 5ms/step - loss: 0.6435 - val_loss: 0.6432\n",
            "Epoch 13/20\n",
            "157/157 [==============================] - 1s 5ms/step - loss: 0.6426 - val_loss: 0.6424\n",
            "Epoch 14/20\n",
            "157/157 [==============================] - 1s 5ms/step - loss: 0.6418 - val_loss: 0.6416\n",
            "Epoch 15/20\n",
            "157/157 [==============================] - 1s 5ms/step - loss: 0.6411 - val_loss: 0.6410\n",
            "Epoch 16/20\n",
            "157/157 [==============================] - 1s 5ms/step - loss: 0.6406 - val_loss: 0.6406\n",
            "Epoch 17/20\n",
            "157/157 [==============================] - 1s 5ms/step - loss: 0.6402 - val_loss: 0.6402\n",
            "Epoch 18/20\n",
            "157/157 [==============================] - 1s 5ms/step - loss: 0.6399 - val_loss: 0.6400\n",
            "Epoch 19/20\n",
            "157/157 [==============================] - 1s 5ms/step - loss: 0.6397 - val_loss: 0.6398\n",
            "Epoch 20/20\n",
            "157/157 [==============================] - 1s 5ms/step - loss: 0.6395 - val_loss: 0.6397\n"
          ]
        },
        {
          "output_type": "execute_result",
          "data": {
            "text/plain": [
              "<keras.callbacks.History at 0x7fd34bbf1cd0>"
            ]
          },
          "metadata": {},
          "execution_count": 10
        }
      ]
    },
    {
      "cell_type": "code",
      "metadata": {
        "id": "-MEUmy7TI2Xe"
      },
      "source": [
        "model_encoder_nn = Model(inputs, encoder)"
      ],
      "execution_count": 11,
      "outputs": []
    },
    {
      "cell_type": "code",
      "metadata": {
        "id": "4Zb4mDTAUK5G",
        "colab": {
          "base_uri": "https://localhost:8080/"
        },
        "outputId": "18eed7b6-7b18-44a0-c172-9510b93e2472"
      },
      "source": [
        "model_encoder_nn.summary()"
      ],
      "execution_count": 55,
      "outputs": [
        {
          "output_type": "stream",
          "name": "stdout",
          "text": [
            "Model: \"model_6\"\n",
            "_________________________________________________________________\n",
            "Layer (type)                 Output Shape              Param #   \n",
            "=================================================================\n",
            "input_5 (InputLayer)         [(None, 1024)]            0         \n",
            "_________________________________________________________________\n",
            "dense_8 (Dense)              (None, 2)                 2050      \n",
            "=================================================================\n",
            "Total params: 2,050\n",
            "Trainable params: 2,050\n",
            "Non-trainable params: 0\n",
            "_________________________________________________________________\n"
          ]
        }
      ]
    },
    {
      "cell_type": "code",
      "metadata": {
        "id": "SHxXv4vrOEnN"
      },
      "source": [
        "x_test = x_test[:1000,]"
      ],
      "execution_count": 12,
      "outputs": []
    },
    {
      "cell_type": "code",
      "metadata": {
        "colab": {
          "base_uri": "https://localhost:8080/"
        },
        "id": "9R-nQIJrYaV6",
        "outputId": "aa477bfe-f9cd-48f0-ed3b-ee0263aa9a3d"
      },
      "source": [
        "print(x_test.shape)\n",
        "print(x_test[0])"
      ],
      "execution_count": 13,
      "outputs": [
        {
          "output_type": "stream",
          "name": "stdout",
          "text": [
            "(1000, 1024)\n",
            "[0.46492627 0.46290237 0.48323336 ... 0.26081806 0.29088864 0.22802316]\n"
          ]
        }
      ]
    },
    {
      "cell_type": "code",
      "metadata": {
        "colab": {
          "base_uri": "https://localhost:8080/"
        },
        "id": "iN1em4dpKR3h",
        "outputId": "e7e55d16-cef7-4a64-ca27-cc4574bc17d9"
      },
      "source": [
        "x_pred = model_encoder_nn.predict(x_test)\n",
        "print(x_pred.shape)"
      ],
      "execution_count": 14,
      "outputs": [
        {
          "output_type": "stream",
          "name": "stdout",
          "text": [
            "(1000, 2)\n"
          ]
        }
      ]
    },
    {
      "cell_type": "code",
      "metadata": {
        "colab": {
          "base_uri": "https://localhost:8080/"
        },
        "id": "5IxgWDXSSsup",
        "outputId": "2dff0b7b-e760-413a-8470-82f3d2b14256"
      },
      "source": [
        "print(x_pred[100])"
      ],
      "execution_count": 15,
      "outputs": [
        {
          "output_type": "stream",
          "name": "stdout",
          "text": [
            "[3.982005  6.3081007]\n"
          ]
        }
      ]
    },
    {
      "cell_type": "code",
      "metadata": {
        "colab": {
          "base_uri": "https://localhost:8080/"
        },
        "id": "4-tJTsOON8Tu",
        "outputId": "8ba9fadd-4bf0-457c-f66f-1a979de937c9"
      },
      "source": [
        "y_test = y_test[:1000]\n",
        "print(y_test.shape)"
      ],
      "execution_count": 16,
      "outputs": [
        {
          "output_type": "stream",
          "name": "stdout",
          "text": [
            "(1000, 1)\n"
          ]
        }
      ]
    },
    {
      "cell_type": "code",
      "metadata": {
        "id": "b4mG5eNrKjqW"
      },
      "source": [
        "import matplotlib.pyplot as plt"
      ],
      "execution_count": 17,
      "outputs": []
    },
    {
      "cell_type": "code",
      "metadata": {
        "colab": {
          "base_uri": "https://localhost:8080/"
        },
        "id": "nKTYrq00Nxjg",
        "outputId": "72377bdf-b978-45b3-e121-d6547cf17051"
      },
      "source": [
        "x_0 = x_pred[y_test[:, 0]==0]\n",
        "x_1 = x_pred[y_test[:, 0]==1]\n",
        "x_2 = x_pred[y_test[:, 0]==2]\n",
        "x_3 = x_pred[y_test[:, 0]==3]\n",
        "print(x_0.shape, x_1.shape, x_2.shape, x_3.shape)"
      ],
      "execution_count": 18,
      "outputs": [
        {
          "output_type": "stream",
          "name": "stdout",
          "text": [
            "(103, 2) (89, 2) (100, 2) (103, 2)\n"
          ]
        }
      ]
    },
    {
      "cell_type": "code",
      "metadata": {
        "colab": {
          "base_uri": "https://localhost:8080/",
          "height": 282
        },
        "id": "UhUDZUrvK9Cd",
        "outputId": "6865f4ef-ca4e-4ef7-c2f4-bf5379473966"
      },
      "source": [
        "plt.scatter(x_0[:, 0], x_0[:, 1], c='r')\n",
        "plt.scatter(x_1[:, 0], x_1[:, 1], c='g')\n",
        "plt.scatter(x_2[:, 0], x_2[:, 1], c='b')\n",
        "plt.scatter(x_3[:, 0], x_3[:, 1], c='c')"
      ],
      "execution_count": 19,
      "outputs": [
        {
          "output_type": "execute_result",
          "data": {
            "text/plain": [
              "<matplotlib.collections.PathCollection at 0x7fd34a383590>"
            ]
          },
          "metadata": {},
          "execution_count": 19
        },
        {
          "output_type": "display_data",
          "data": {
            "image/png": "[encoded data removed]",
            "text/plain": [
              "<Figure size 432x288 with 1 Axes>"
            ]
          },
          "metadata": {
            "needs_background": "light"
          }
        }
      ]
    }
  ]
}