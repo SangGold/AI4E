{
 "cells": [
  {
   "cell_type": "code",
   "execution_count": 22,
   "id": "bb19d8b7",
   "metadata": {},
   "outputs": [],
   "source": [
    "import tensorflow as tf\n",
    "import numpy as np"
   ]
  },
  {
   "cell_type": "code",
   "execution_count": 18,
   "id": "f995e040",
   "metadata": {},
   "outputs": [],
   "source": [
    "def residual_connection(inputs,n_channels):\n",
    "    x = tf.keras.layers.Conv2D(n_channels,(3,3),padding='same')(inputs)\n",
    "    x = tf.keras.layers.Conv2D(n_channels,(3,3),padding='same')(x)\n",
    "    return x+inputs\n",
    "\n",
    "    "
   ]
  },
  {
   "cell_type": "code",
   "execution_count": 39,
   "id": "fe82a7eb",
   "metadata": {},
   "outputs": [],
   "source": [
    "def upsize(x,upsize=2):\n",
    "    x = tf.keras.layers.Conv2D(x.shape[-1]*upsize,(3,3),padding='same')(x)\n",
    "    return x"
   ]
  },
  {
   "cell_type": "code",
   "execution_count": 44,
   "id": "6efc596f",
   "metadata": {},
   "outputs": [],
   "source": [
    "class MyModel(tf.keras.Model):\n",
    "    def __init__(self,n_classes):\n",
    "        super(MyModel,self).__init__()\n",
    "        self.Conv2D_7 = tf.keras.layers.Conv2D(64,(7,7),strides=2,padding='same')\n",
    "        self.maxpool = tf.keras.layers.MaxPool2D((3,3),strides=2,padding='same')\n",
    "        self.avgpool = tf.keras.layers.GlobalAveragePooling2D()\n",
    "        self.fc = tf.keras.layers.Dense(n_classes)\n",
    "    \n",
    "    def call(self,inputs):\n",
    "        x = self.Conv2D_7(inputs)\n",
    "        x = self.maxpool(x)\n",
    "        \n",
    "        for i in range(3):\n",
    "            x = residual_connection(x,64)\n",
    "        \n",
    "        print(x.shape) # (1, 56, 56, 64)\n",
    "        x = self.maxpool(x)\n",
    "        x = upsize(x)\n",
    "        print(x.shape) # (1, 28, 28, 128)\n",
    "        \n",
    "        for i in range(4):\n",
    "            x = residual_connection(x,128)\n",
    "        \n",
    "        print(x.shape) # (1, 28, 28, 128)\n",
    "        x = self.maxpool(x)\n",
    "        x = upsize(x)\n",
    "        print(x.shape) # (1, 14, 14, 256)\n",
    "        \n",
    "        for i in range(5):\n",
    "            x = residual_connection(x,256)\n",
    "        \n",
    "        print(x.shape) # (1, 14, 14, 256)\n",
    "        x = self.maxpool(x)\n",
    "        x = upsize(x) \n",
    "        print(x.shape) # (1, 7, 7, 512)\n",
    "        \n",
    "        for i in range(3):\n",
    "            x = residual_connection(x,512)\n",
    "            \n",
    "        x = self.avgpool(x)\n",
    "        x = self.fc(x)\n",
    "        return x\n",
    "        "
   ]
  },
  {
   "cell_type": "code",
   "execution_count": 45,
   "id": "9de9ffb2",
   "metadata": {},
   "outputs": [],
   "source": [
    "model = MyModel(1000)"
   ]
  },
  {
   "cell_type": "code",
   "execution_count": 46,
   "id": "ad555f49",
   "metadata": {},
   "outputs": [],
   "source": [
    "x = np.random.randn(1,224,224,3)"
   ]
  },
  {
   "cell_type": "code",
   "execution_count": 47,
   "id": "4ac85d62",
   "metadata": {},
   "outputs": [
    {
     "name": "stdout",
     "output_type": "stream",
     "text": [
      "WARNING:tensorflow:Layer my_model_8 is casting an input tensor from dtype float64 to the layer's dtype of float32, which is new behavior in TensorFlow 2.  The layer has dtype float32 because its dtype defaults to floatx.\n",
      "\n",
      "If you intended to run this layer in float32, you can safely ignore this warning. If in doubt, this warning is likely only an issue if you are porting a TensorFlow 1.X model to TensorFlow 2.\n",
      "\n",
      "To change all layers to have dtype float64 by default, call `tf.keras.backend.set_floatx('float64')`. To change just this layer, pass dtype='float64' to the layer constructor. If you are the author of this layer, you can disable autocasting by passing autocast=False to the base Layer constructor.\n",
      "\n",
      "(1, 56, 56, 64)\n",
      "(1, 28, 28, 128)\n",
      "(1, 28, 28, 128)\n",
      "(1, 14, 14, 256)\n",
      "(1, 14, 14, 256)\n",
      "(1, 7, 7, 512)\n",
      "(1, 1000)\n"
     ]
    }
   ],
   "source": [
    "print(model(x).shape) # (1, 1000)"
   ]
  },
  {
   "cell_type": "code",
   "execution_count": 48,
   "id": "4b5c1b3c",
   "metadata": {},
   "outputs": [
    {
     "name": "stdout",
     "output_type": "stream",
     "text": [
      "Model: \"my_model_8\"\n",
      "_________________________________________________________________\n",
      "Layer (type)                 Output Shape              Param #   \n",
      "=================================================================\n",
      "conv2d_123 (Conv2D)          multiple                  9472      \n",
      "_________________________________________________________________\n",
      "max_pooling2d_6 (MaxPooling2 multiple                  0         \n",
      "_________________________________________________________________\n",
      "global_average_pooling2d_2 ( multiple                  0         \n",
      "_________________________________________________________________\n",
      "dense_6 (Dense)              multiple                  513000    \n",
      "=================================================================\n",
      "Total params: 522,472\n",
      "Trainable params: 522,472\n",
      "Non-trainable params: 0\n",
      "_________________________________________________________________\n"
     ]
    }
   ],
   "source": [
    "model.summary()"
   ]
  },
  {
   "cell_type": "code",
   "execution_count": null,
   "id": "37d62625",
   "metadata": {},
   "outputs": [],
   "source": []
  }
 ],
 "metadata": {
  "kernelspec": {
   "display_name": "python3.6",
   "language": "python",
   "name": "python3.6"
  },
  "language_info": {
   "codemirror_mode": {
    "name": "ipython",
    "version": 3
   },
   "file_extension": ".py",
   "mimetype": "text/x-python",
   "name": "python",
   "nbconvert_exporter": "python",
   "pygments_lexer": "ipython3",
   "version": "3.6.10"
  }
 },
 "nbformat": 4,
 "nbformat_minor": 5
}
