{
 "cells": [
  {
   "cell_type": "code",
   "execution_count": 2,
   "id": "WaJjRC_vjrNq",
   "metadata": {
    "id": "WaJjRC_vjrNq"
   },
   "outputs": [],
   "source": [
    "import tensorflow as tf\n",
    "from tensorflow import keras\n",
    "from tensorflow.keras.activations import relu\n",
    "from tensorflow.keras.layers import *\n",
    "from tensorflow.keras import Model\n",
    "from tensorflow.keras import layers as Layers"
   ]
  },
  {
   "cell_type": "code",
   "execution_count": 3,
   "id": "shsH_BXIjfXy",
   "metadata": {
    "id": "shsH_BXIjfXy"
   },
   "outputs": [],
   "source": [
    "class ResBlock(Model):\n",
    "    def __init__(self, channels, stride=1):\n",
    "        super(ResBlock, self).__init__(name='ResBlock')\n",
    "        self.flag = (stride != 1)\n",
    "        self.conv1 = Conv2D(channels, 3, stride, padding='same')\n",
    "        self.bn1 = BatchNormalization()\n",
    "        self.conv2 = Conv2D(channels, 3, padding='same')\n",
    "        self.bn2 = BatchNormalization()\n",
    "        self.relu = ReLU()\n",
    "        if self.flag:\n",
    "            self.bn3 = BatchNormalization()\n",
    "            self.conv3 = Conv2D(channels, 1, stride)\n",
    "\n",
    "    def call(self, x):\n",
    "        x1 = self.conv1(x)\n",
    "        x1 = self.bn1(x1)\n",
    "        x1 = self.relu(x1)\n",
    "        x1 = self.conv2(x1)\n",
    "        x1 = self.bn2(x1)\n",
    "        if self.flag:\n",
    "            x = self.conv3(x)\n",
    "            x = self.bn3(x)\n",
    "        x1 = Layers.add([x, x1])\n",
    "        x1 = self.relu(x1)\n",
    "        return x1\n",
    "\n",
    "\n",
    "class ResNet34(Model):\n",
    "    def __init__(self):\n",
    "        super(ResNet34, self).__init__(name='ResNet34')\n",
    "        self.conv1 = Conv2D(64, 7, 2, padding='same')\n",
    "        self.bn = BatchNormalization()\n",
    "        self.relu = ReLU()\n",
    "        self.mp1 = MaxPooling2D(3, 2)\n",
    "\n",
    "        self.conv2_1 = ResBlock(64)\n",
    "        self.conv2_2 = ResBlock(64)\n",
    "        self.conv2_3 = ResBlock(64)\n",
    "\n",
    "        self.conv3_1 = ResBlock(128, 2)\n",
    "        self.conv3_2 = ResBlock(128)\n",
    "        self.conv3_3 = ResBlock(128)\n",
    "        self.conv3_4 = ResBlock(128)\n",
    "\n",
    "        self.conv4_1 = ResBlock(256, 2)\n",
    "        self.conv4_2 = ResBlock(256)\n",
    "        self.conv4_3 = ResBlock(256)\n",
    "        self.conv4_4 = ResBlock(256)\n",
    "        self.conv4_5 = ResBlock(256)\n",
    "        self.conv4_6 = ResBlock(256)\n",
    "\n",
    "        self.conv5_1 = ResBlock(512, 2)\n",
    "        self.conv5_2 = ResBlock(512)\n",
    "        self.conv5_3 = ResBlock(512)\n",
    "\n",
    "        self.pool = GlobalAveragePooling2D()\n",
    "        self.fc1 = Dense(512, activation='relu')\n",
    "        self.dp1 = Dropout(0.5)\n",
    "        self.fc2 = Dense(512, activation='relu')\n",
    "        self.dp2 = Dropout(0.5)\n",
    "        self.fc3 = Dense(10, activation='softmax')\n",
    "\n",
    "    def call(self, x):\n",
    "        x = self.conv1(x)\n",
    "        x = self.bn(x)\n",
    "        x = self.relu(x)\n",
    "        x = self.mp1(x)\n",
    "\n",
    "        x = self.conv2_1(x)\n",
    "        x = self.conv2_2(x)\n",
    "        x = self.conv2_3(x)\n",
    "\n",
    "        x = self.conv3_1(x)\n",
    "        x = self.conv3_2(x)\n",
    "        x = self.conv3_3(x)\n",
    "        x = self.conv3_4(x)\n",
    "\n",
    "        x = self.conv4_1(x)\n",
    "        x = self.conv4_2(x)\n",
    "        x = self.conv4_3(x)\n",
    "        x = self.conv4_4(x)\n",
    "        x = self.conv4_5(x)\n",
    "        x = self.conv4_6(x)\n",
    "\n",
    "        x = self.conv5_1(x)\n",
    "        x = self.conv5_2(x)\n",
    "        x = self.conv5_3(x)\n",
    "\n",
    "        x = self.pool(x)\n",
    "        x = self.fc1(x)\n",
    "        x = self.dp1(x)\n",
    "        x = self.fc2(x)\n",
    "        x = self.dp2(x)\n",
    "        x = self.fc3(x)\n",
    "        return x"
   ]
  },
  {
   "cell_type": "code",
   "execution_count": 4,
   "id": "oSN3f8OVjwi6",
   "metadata": {
    "colab": {
     "base_uri": "https://localhost:8080/"
    },
    "id": "oSN3f8OVjwi6",
    "outputId": "f9fca7e6-0b74-412b-fa4e-ffb96677ccad"
   },
   "outputs": [
    {
     "name": "stdout",
     "output_type": "stream",
     "text": [
      "Model: \"ResNet34\"\n",
      "_________________________________________________________________\n",
      "Layer (type)                 Output Shape              Param #   \n",
      "=================================================================\n",
      "conv2d (Conv2D)              multiple                  9472      \n",
      "_________________________________________________________________\n",
      "batch_normalization (BatchNo multiple                  256       \n",
      "_________________________________________________________________\n",
      "re_lu (ReLU)                 multiple                  0         \n",
      "_________________________________________________________________\n",
      "max_pooling2d (MaxPooling2D) multiple                  0         \n",
      "_________________________________________________________________\n",
      "ResBlock (ResBlock)          multiple                  74368     \n",
      "_________________________________________________________________\n",
      "ResBlock (ResBlock)          multiple                  74368     \n",
      "_________________________________________________________________\n",
      "ResBlock (ResBlock)          multiple                  74368     \n",
      "_________________________________________________________________\n",
      "ResBlock (ResBlock)          multiple                  231296    \n",
      "_________________________________________________________________\n",
      "ResBlock (ResBlock)          multiple                  296192    \n",
      "_________________________________________________________________\n",
      "ResBlock (ResBlock)          multiple                  296192    \n",
      "_________________________________________________________________\n",
      "ResBlock (ResBlock)          multiple                  296192    \n",
      "_________________________________________________________________\n",
      "ResBlock (ResBlock)          multiple                  921344    \n",
      "_________________________________________________________________\n",
      "ResBlock (ResBlock)          multiple                  1182208   \n",
      "_________________________________________________________________\n",
      "ResBlock (ResBlock)          multiple                  1182208   \n",
      "_________________________________________________________________\n",
      "ResBlock (ResBlock)          multiple                  1182208   \n",
      "_________________________________________________________________\n",
      "ResBlock (ResBlock)          multiple                  1182208   \n",
      "_________________________________________________________________\n",
      "ResBlock (ResBlock)          multiple                  1182208   \n",
      "_________________________________________________________________\n",
      "ResBlock (ResBlock)          multiple                  3677696   \n",
      "_________________________________________________________________\n",
      "ResBlock (ResBlock)          multiple                  4723712   \n",
      "_________________________________________________________________\n",
      "ResBlock (ResBlock)          multiple                  4723712   \n",
      "_________________________________________________________________\n",
      "global_average_pooling2d (Gl multiple                  0         \n",
      "_________________________________________________________________\n",
      "dense (Dense)                multiple                  262656    \n",
      "_________________________________________________________________\n",
      "dropout (Dropout)            multiple                  0         \n",
      "_________________________________________________________________\n",
      "dense_1 (Dense)              multiple                  262656    \n",
      "_________________________________________________________________\n",
      "dropout_1 (Dropout)          multiple                  0         \n",
      "_________________________________________________________________\n",
      "dense_2 (Dense)              multiple                  5130      \n",
      "=================================================================\n",
      "Total params: 21,840,650\n",
      "Trainable params: 21,823,626\n",
      "Non-trainable params: 17,024\n",
      "_________________________________________________________________\n"
     ]
    }
   ],
   "source": [
    "model = ResNet34()\n",
    "model.build(input_shape=(None, 32, 32, 3))\n",
    "model.summary()"
   ]
  },
  {
   "cell_type": "code",
   "execution_count": 5,
   "id": "37d62625",
   "metadata": {
    "id": "37d62625"
   },
   "outputs": [],
   "source": [
    "from tensorflow.keras.datasets import cifar10"
   ]
  },
  {
   "cell_type": "code",
   "execution_count": 1,
   "id": "2f1cf5bb",
   "metadata": {},
   "outputs": [
    {
     "name": "stdout",
     "output_type": "stream",
     "text": [
      "WARNING:tensorflow:From C:\\Users\\MYPC~1\\AppData\\Local\\Temp/ipykernel_11148/3326022288.py:2: is_gpu_available (from tensorflow.python.framework.test_util) is deprecated and will be removed in a future version.\n",
      "Instructions for updating:\n",
      "Use `tf.config.list_physical_devices('GPU')` instead.\n"
     ]
    },
    {
     "data": {
      "text/plain": [
       "False"
      ]
     },
     "execution_count": 1,
     "metadata": {},
     "output_type": "execute_result"
    }
   ],
   "source": [
    "import tensorflow as tf\n",
    "tf.test.is_gpu_available()"
   ]
  },
  {
   "cell_type": "code",
   "execution_count": 7,
   "id": "wjKRZJKXsMwO",
   "metadata": {
    "id": "wjKRZJKXsMwO"
   },
   "outputs": [],
   "source": [
    "(x_train, y_train), (x_test, y_test) = cifar10.load_data()"
   ]
  },
  {
   "cell_type": "code",
   "execution_count": 8,
   "id": "3a0Df8DMsYrk",
   "metadata": {
    "id": "3a0Df8DMsYrk"
   },
   "outputs": [],
   "source": [
    "x_val , y_val = x_train[40000:50000, :], y_train[40000:50000]\n",
    "x_train, y_train = x_train[:40000, :], y_train[:40000]"
   ]
  },
  {
   "cell_type": "code",
   "execution_count": 9,
   "id": "Q1j-rvjFJZsb",
   "metadata": {
    "id": "Q1j-rvjFJZsb"
   },
   "outputs": [],
   "source": [
    "x_train = x_train/255.0\n",
    "x_val = x_val/255.0\n",
    "x_test = x_test/255.0"
   ]
  },
  {
   "cell_type": "code",
   "execution_count": 10,
   "id": "HuA0M9ObkAQg",
   "metadata": {
    "colab": {
     "base_uri": "https://localhost:8080/"
    },
    "id": "HuA0M9ObkAQg",
    "outputId": "aa01188e-0b67-451a-9946-c19b0fb66574"
   },
   "outputs": [
    {
     "name": "stdout",
     "output_type": "stream",
     "text": [
      "[0. 0. 0. 0. 0. 0. 1. 0. 0. 0.]\n"
     ]
    }
   ],
   "source": [
    "# one-hot encoding\n",
    "y_train = tf.keras.utils.to_categorical(y_train, 10)\n",
    "y_val = tf.keras.utils.to_categorical(y_val, 10)\n",
    "y_test = tf.keras.utils.to_categorical(y_test, 10)\n",
    "print(y_train[0])"
   ]
  },
  {
   "cell_type": "code",
   "execution_count": 11,
   "id": "lFoC5M1bklnX",
   "metadata": {
    "colab": {
     "base_uri": "https://localhost:8080/"
    },
    "id": "lFoC5M1bklnX",
    "outputId": "e9428a5f-0d9b-412d-f3fd-e413d6402034"
   },
   "outputs": [
    {
     "name": "stdout",
     "output_type": "stream",
     "text": [
      "(40000, 32, 32, 3) (10000, 32, 32, 3) (10000, 32, 32, 3)\n"
     ]
    }
   ],
   "source": [
    "print(x_train.shape, x_val.shape, x_test.shape)"
   ]
  },
  {
   "cell_type": "code",
   "execution_count": 12,
   "id": "xO8L3Db5kuzF",
   "metadata": {
    "id": "xO8L3Db5kuzF"
   },
   "outputs": [],
   "source": [
    "model.compile(loss='categorical_crossentropy',\n",
    "              optimizer=tf.keras.optimizers.Adam(),\n",
    "              metrics=['accuracy'])"
   ]
  },
  {
   "cell_type": "code",
   "execution_count": 13,
   "id": "FHdilMs5lMti",
   "metadata": {
    "colab": {
     "base_uri": "https://localhost:8080/",
     "height": 428
    },
    "id": "FHdilMs5lMti",
    "outputId": "229e99e2-bd4d-4f5a-98f8-5eeb9b8dc805"
   },
   "outputs": [
    {
     "name": "stdout",
     "output_type": "stream",
     "text": [
      "Epoch 1/50\n",
      "313/313 [==============================] - 38s 104ms/step - loss: 1.8183 - accuracy: 0.3437 - val_loss: 2.3363 - val_accuracy: 0.2068\n",
      "Epoch 2/50\n",
      "313/313 [==============================] - 30s 97ms/step - loss: 1.4098 - accuracy: 0.4992 - val_loss: 1.8083 - val_accuracy: 0.3356\n",
      "Epoch 3/50\n",
      "313/313 [==============================] - 31s 98ms/step - loss: 1.2356 - accuracy: 0.5724 - val_loss: 1.8176 - val_accuracy: 0.3927\n",
      "Epoch 4/50\n",
      "313/313 [==============================] - 31s 98ms/step - loss: 1.1918 - accuracy: 0.5923 - val_loss: 1.9397 - val_accuracy: 0.3939\n",
      "Epoch 5/50\n",
      "313/313 [==============================] - 31s 99ms/step - loss: 1.0753 - accuracy: 0.6352 - val_loss: 1.3838 - val_accuracy: 0.4965\n",
      "Epoch 6/50\n",
      "313/313 [==============================] - 31s 98ms/step - loss: 0.9992 - accuracy: 0.6629 - val_loss: 1.3362 - val_accuracy: 0.5622\n",
      "Epoch 7/50\n",
      "313/313 [==============================] - 31s 98ms/step - loss: 0.9734 - accuracy: 0.6726 - val_loss: 1.3698 - val_accuracy: 0.5254\n",
      "Epoch 8/50\n",
      "313/313 [==============================] - 31s 99ms/step - loss: 0.8279 - accuracy: 0.7208 - val_loss: 1.1270 - val_accuracy: 0.6169\n",
      "Epoch 9/50\n",
      "313/313 [==============================] - 31s 98ms/step - loss: 0.7821 - accuracy: 0.7365 - val_loss: 1.4066 - val_accuracy: 0.5155\n",
      "Epoch 10/50\n",
      "313/313 [==============================] - 31s 98ms/step - loss: 0.7384 - accuracy: 0.7544 - val_loss: 1.1367 - val_accuracy: 0.6258\n",
      "Epoch 11/50\n",
      "313/313 [==============================] - 33s 104ms/step - loss: 0.6177 - accuracy: 0.7975 - val_loss: 1.0388 - val_accuracy: 0.6631\n",
      "Epoch 12/50\n",
      "313/313 [==============================] - 30s 97ms/step - loss: 0.6235 - accuracy: 0.7972 - val_loss: 1.2109 - val_accuracy: 0.6296\n",
      "Epoch 13/50\n",
      "313/313 [==============================] - 31s 98ms/step - loss: 0.5214 - accuracy: 0.8278 - val_loss: 1.0441 - val_accuracy: 0.6792\n",
      "Epoch 14/50\n",
      "313/313 [==============================] - 31s 98ms/step - loss: 0.4650 - accuracy: 0.8503 - val_loss: 0.9047 - val_accuracy: 0.7159\n",
      "Epoch 15/50\n",
      "313/313 [==============================] - 30s 97ms/step - loss: 0.4493 - accuracy: 0.8508 - val_loss: 1.2309 - val_accuracy: 0.6493\n",
      "Epoch 16/50\n",
      "313/313 [==============================] - 30s 97ms/step - loss: 0.3899 - accuracy: 0.8752 - val_loss: 1.0713 - val_accuracy: 0.7001\n",
      "Epoch 17/50\n",
      "313/313 [==============================] - 31s 98ms/step - loss: 0.3201 - accuracy: 0.8970 - val_loss: 1.2386 - val_accuracy: 0.6548\n",
      "Epoch 18/50\n",
      "313/313 [==============================] - 30s 97ms/step - loss: 0.2818 - accuracy: 0.9096 - val_loss: 1.1106 - val_accuracy: 0.6990\n",
      "Epoch 19/50\n",
      "313/313 [==============================] - 30s 97ms/step - loss: 0.3947 - accuracy: 0.8735 - val_loss: 1.0071 - val_accuracy: 0.7064\n",
      "Epoch 20/50\n",
      "313/313 [==============================] - 31s 98ms/step - loss: 0.2434 - accuracy: 0.9225 - val_loss: 1.4904 - val_accuracy: 0.6547\n",
      "Epoch 21/50\n",
      "313/313 [==============================] - 31s 98ms/step - loss: 0.2812 - accuracy: 0.9100 - val_loss: 1.0644 - val_accuracy: 0.6735\n",
      "Epoch 22/50\n",
      "313/313 [==============================] - 31s 98ms/step - loss: 0.2322 - accuracy: 0.9266 - val_loss: 1.3013 - val_accuracy: 0.6901\n",
      "Epoch 23/50\n",
      "313/313 [==============================] - 31s 98ms/step - loss: 0.1516 - accuracy: 0.9520 - val_loss: 1.2013 - val_accuracy: 0.7114\n",
      "Epoch 24/50\n",
      "313/313 [==============================] - 31s 98ms/step - loss: 0.1377 - accuracy: 0.9564 - val_loss: 1.1583 - val_accuracy: 0.7370\n",
      "Epoch 25/50\n",
      "313/313 [==============================] - 30s 97ms/step - loss: 0.1442 - accuracy: 0.9554 - val_loss: 1.2285 - val_accuracy: 0.7239\n",
      "Epoch 26/50\n",
      "313/313 [==============================] - 30s 97ms/step - loss: 0.1237 - accuracy: 0.9607 - val_loss: 1.2735 - val_accuracy: 0.7186\n",
      "Epoch 27/50\n",
      "313/313 [==============================] - 30s 97ms/step - loss: 0.1208 - accuracy: 0.9612 - val_loss: 1.5030 - val_accuracy: 0.7003\n",
      "Epoch 28/50\n",
      "313/313 [==============================] - 31s 100ms/step - loss: 0.1729 - accuracy: 0.9462 - val_loss: 1.5351 - val_accuracy: 0.6774\n",
      "Epoch 29/50\n",
      "313/313 [==============================] - 31s 98ms/step - loss: 0.2794 - accuracy: 0.9132 - val_loss: 1.0194 - val_accuracy: 0.7359\n",
      "Epoch 30/50\n",
      "313/313 [==============================] - 31s 98ms/step - loss: 0.1355 - accuracy: 0.9577 - val_loss: 1.2641 - val_accuracy: 0.7286\n",
      "Epoch 31/50\n",
      "313/313 [==============================] - 31s 98ms/step - loss: 0.0810 - accuracy: 0.9748 - val_loss: 1.3199 - val_accuracy: 0.7377\n",
      "Epoch 32/50\n",
      "313/313 [==============================] - 31s 100ms/step - loss: 0.0755 - accuracy: 0.9760 - val_loss: 1.7418 - val_accuracy: 0.6940\n",
      "Epoch 33/50\n",
      "313/313 [==============================] - 31s 100ms/step - loss: 0.0783 - accuracy: 0.9760 - val_loss: 1.3948 - val_accuracy: 0.7107\n",
      "Epoch 34/50\n",
      "313/313 [==============================] - 31s 100ms/step - loss: 0.0941 - accuracy: 0.9714 - val_loss: 1.1952 - val_accuracy: 0.7540\n",
      "Epoch 35/50\n",
      "313/313 [==============================] - 31s 99ms/step - loss: 0.3520 - accuracy: 0.8916 - val_loss: 1.2122 - val_accuracy: 0.6853\n",
      "Epoch 36/50\n",
      "313/313 [==============================] - 31s 100ms/step - loss: 0.1828 - accuracy: 0.9443 - val_loss: 1.1105 - val_accuracy: 0.7424\n",
      "Epoch 37/50\n",
      "313/313 [==============================] - 32s 102ms/step - loss: 0.1973 - accuracy: 0.9403 - val_loss: 1.5115 - val_accuracy: 0.6478\n",
      "Epoch 38/50\n",
      "313/313 [==============================] - 31s 100ms/step - loss: 0.1364 - accuracy: 0.9568 - val_loss: 1.1715 - val_accuracy: 0.7375\n",
      "Epoch 39/50\n",
      "313/313 [==============================] - 31s 100ms/step - loss: 0.0799 - accuracy: 0.9745 - val_loss: 1.4010 - val_accuracy: 0.7456\n",
      "Epoch 40/50\n",
      "313/313 [==============================] - 31s 100ms/step - loss: 0.0501 - accuracy: 0.9841 - val_loss: 1.6005 - val_accuracy: 0.7363\n",
      "Epoch 41/50\n",
      "313/313 [==============================] - 31s 101ms/step - loss: 0.0473 - accuracy: 0.9857 - val_loss: 1.4491 - val_accuracy: 0.7478\n",
      "Epoch 42/50\n",
      "313/313 [==============================] - 31s 101ms/step - loss: 0.0459 - accuracy: 0.9866 - val_loss: 1.6932 - val_accuracy: 0.7125\n",
      "Epoch 43/50\n",
      "313/313 [==============================] - 31s 100ms/step - loss: 0.1100 - accuracy: 0.9668 - val_loss: 1.3558 - val_accuracy: 0.7177\n",
      "Epoch 44/50\n",
      "313/313 [==============================] - 31s 101ms/step - loss: 0.0670 - accuracy: 0.9801 - val_loss: 1.6187 - val_accuracy: 0.7139\n",
      "Epoch 45/50\n",
      "313/313 [==============================] - 31s 100ms/step - loss: 0.0494 - accuracy: 0.9847 - val_loss: 1.3552 - val_accuracy: 0.7529\n",
      "Epoch 46/50\n",
      "313/313 [==============================] - 32s 101ms/step - loss: 0.0459 - accuracy: 0.9858 - val_loss: 1.5390 - val_accuracy: 0.7421\n",
      "Epoch 47/50\n",
      "313/313 [==============================] - 32s 101ms/step - loss: 0.0474 - accuracy: 0.9863 - val_loss: 1.7543 - val_accuracy: 0.6993\n",
      "Epoch 48/50\n",
      "313/313 [==============================] - 32s 102ms/step - loss: 0.0586 - accuracy: 0.9823 - val_loss: 1.5004 - val_accuracy: 0.7169\n",
      "Epoch 49/50\n",
      "313/313 [==============================] - 34s 107ms/step - loss: 0.0652 - accuracy: 0.9815 - val_loss: 1.4798 - val_accuracy: 0.7361\n",
      "Epoch 50/50\n",
      "313/313 [==============================] - 32s 103ms/step - loss: 0.0499 - accuracy: 0.9846 - val_loss: 1.5290 - val_accuracy: 0.7345\n"
     ]
    }
   ],
   "source": [
    "H = model.fit(x_train, y_train,\n",
    "              batch_size=128, epochs=50, verbose=1,\n",
    "              validation_data=(x_val, y_val))"
   ]
  },
  {
   "cell_type": "code",
   "execution_count": 16,
   "id": "326f07e9",
   "metadata": {},
   "outputs": [
    {
     "data": {
      "image/png": "[encoded data removed]",
      "text/plain": [
       "<Figure size 432x288 with 1 Axes>"
      ]
     },
     "metadata": {
      "needs_background": "light"
     },
     "output_type": "display_data"
    }
   ],
   "source": [
    "import matplotlib.pyplot as plt\n",
    "import numpy as np\n",
    "Epoch = 50\n",
    "plt.plot(np.arange(0, Epoch), H.history['loss'], label='training loss')\n",
    "plt.plot(np.arange(0, Epoch), H.history['val_loss'], label='validation loss')\n",
    "plt.plot(np.arange(0, Epoch), H.history['accuracy'], label='accuracy')\n",
    "plt.plot(np.arange(0, Epoch), H.history['val_accuracy'], label='validation accuracy')\n",
    "plt.title('Accuracy and Loss')\n",
    "plt.xlabel('Epochs')\n",
    "plt.ylabel('Loss|Accuracy')\n",
    "plt.legend()\n",
    "plt.show()"
   ]
  },
  {
   "cell_type": "code",
   "execution_count": 15,
   "id": "7e437015",
   "metadata": {},
   "outputs": [
    {
     "name": "stdout",
     "output_type": "stream",
     "text": [
      "Collecting matplotlib\n",
      "  Downloading matplotlib-3.3.4-cp36-cp36m-win_amd64.whl (8.5 MB)\n",
      "Collecting cycler>=0.10\n",
      "  Using cached cycler-0.10.0-py2.py3-none-any.whl (6.5 kB)\n",
      "Requirement already satisfied: python-dateutil>=2.1 in c:\\users\\my pc\\anaconda3\\envs\\gpu2\\lib\\site-packages (from matplotlib) (2.8.1)\n",
      "Collecting pillow>=6.2.0\n",
      "  Downloading Pillow-8.4.0-cp36-cp36m-win_amd64.whl (3.2 MB)\n",
      "Collecting pyparsing!=2.0.4,!=2.1.2,!=2.1.6,>=2.0.3\n",
      "  Using cached pyparsing-2.4.7-py2.py3-none-any.whl (67 kB)\n",
      "Collecting kiwisolver>=1.0.1\n",
      "  Downloading kiwisolver-1.3.1-cp36-cp36m-win_amd64.whl (51 kB)\n",
      "Requirement already satisfied: numpy>=1.15 in c:\\users\\my pc\\anaconda3\\envs\\gpu2\\lib\\site-packages (from matplotlib) (1.19.5)\n",
      "Requirement already satisfied: six in c:\\users\\my pc\\anaconda3\\envs\\gpu2\\lib\\site-packages (from cycler>=0.10->matplotlib) (1.15.0)\n",
      "Installing collected packages: pyparsing, pillow, kiwisolver, cycler, matplotlib\n",
      "Successfully installed cycler-0.10.0 kiwisolver-1.3.1 matplotlib-3.3.4 pillow-8.4.0 pyparsing-2.4.7\n"
     ]
    }
   ],
   "source": [
    "!pip install matplotlib"
   ]
  },
  {
   "cell_type": "code",
   "execution_count": 17,
   "id": "b8b3e590",
   "metadata": {},
   "outputs": [
    {
     "name": "stdout",
     "output_type": "stream",
     "text": [
      "[1.5627598762512207, 0.7337999939918518]\n"
     ]
    }
   ],
   "source": [
    "score = model.evaluate(x_test, y_test, verbose=0)\n",
    "print(score)"
   ]
  }
 ],
 "metadata": {
  "accelerator": "GPU",
  "colab": {
   "name": "resnet.ipynb",
   "provenance": []
  },
  "kernelspec": {
   "display_name": "gpu2",
   "language": "python",
   "name": "gpu2"
  },
  "language_info": {
   "codemirror_mode": {
    "name": "ipython",
    "version": 3
   },
   "file_extension": ".py",
   "mimetype": "text/x-python",
   "name": "python",
   "nbconvert_exporter": "python",
   "pygments_lexer": "ipython3",
   "version": "3.8.11"
  }
 },
 "nbformat": 4,
 "nbformat_minor": 5
}
