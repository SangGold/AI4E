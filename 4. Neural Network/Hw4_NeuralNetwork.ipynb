{
  "nbformat": 4,
  "nbformat_minor": 0,
  "metadata": {
    "colab": {
      "name": "Hw4-NeuralNetwork.ipynb",
      "provenance": []
    },
    "kernelspec": {
      "name": "python3",
      "display_name": "Python 3"
    },
    "language_info": {
      "name": "python"
    }
  },
  "cells": [
    {
      "cell_type": "markdown",
      "metadata": {
        "id": "tc-Zc5XNV2CR"
      },
      "source": [
        "1. Xem lại công thức tính node trong hidden layer, biếu diễn bài toán dưới dạng ma trận. Hiểu hết và chạy lại code (softmax, cross_entropy, batch update)."
      ]
    },
    {
      "cell_type": "markdown",
      "metadata": {
        "id": "qQkBcbkaEUx-"
      },
      "source": [
        "Giả sử có n điểm dữ liệu trong mỗi batch size, mỗi điểm dữ liệu có d feature:\n",
        "\n",
        "$X = \\begin{bmatrix}\n",
        "x_1^{[1]} & x_2^{[1]} &...& x_d^{[1]}\\\\\n",
        "x_1^{[2]} & x_2^{[2]} &...& x_d^{[2]}\\\\\n",
        "... & ... &... & ...\\\\\n",
        "x_1^{[n]} & x_2^{[n]} &...& x_d^{[n]}\\\\\n",
        "\\end{bmatrix}\n",
        "$\n",
        "\n",
        "Qua layer 1 ta được ma trận:\n",
        "\n",
        " $Z^{(1)} = \\begin{bmatrix}\n",
        " -(z^{(1)[1]})^T-\\\\\n",
        " -(z^{(1)[2]})^T-\\\\\n",
        " ...\\\\\n",
        " -(z^{(1)[n]})^T-\\\\\n",
        " \\end{bmatrix} = \n",
        " \\begin{bmatrix}\n",
        "(x^{[1]}*W^{(1)} + (b^{(1)})^T\\\\\n",
        "(x^{[2]}*W^{(1)} + (b^{(1)})^T\\\\\n",
        "...\\\\\n",
        "(x^{[n]}*W^{(1)} + (b^{(1)})^T\\\\\n",
        " \\end{bmatrix} = X*W^{(1)} + (b^{(1)})^T$ (theo cơ chế broadcasting)\n",
        "\n",
        "Tương tự như vậy lần lượt với các layer sau:\n",
        "\n",
        "**Feedforward:**\n",
        "$\n",
        "A^{(1)} = \\sigma(Z^{(1)})\\\\\n",
        "Z^{(2)} = A^{(1)}*W^{(2)} + (b^{(2)})^T\\\\\n",
        "A^{(2)} = \\sigma(Z^{(2)})\\\\\n",
        "Z^{(3)} = A^{(2)}*W^{(3)} + (b^{(3)})^T\\\\\n",
        "\\hat Y = A^{(3)} =\\sigma(Z^{(3)}) \n",
        "$"
      ]
    },
    {
      "cell_type": "code",
      "metadata": {
        "id": "8bMowsLHV5So"
      },
      "source": [
        "import keras\n",
        "import numpy as np\n",
        "from keras.datasets import mnist\n",
        "from keras.models import Sequential\n",
        "from keras.layers import Dense, Dropout, Flatten\n",
        "from tensorflow.keras.optimizers import SGD\n",
        "import tensorflow as tf\n",
        "from sklearn.model_selection import train_test_split as tts\n",
        "import matplotlib.pyplot as plt\n"
      ],
      "execution_count": null,
      "outputs": []
    },
    {
      "cell_type": "code",
      "metadata": {
        "id": "tJOWb9W92wF3",
        "colab": {
          "base_uri": "https://localhost:8080/"
        },
        "outputId": "49afe0de-7357-489c-9f21-187faf86bd6c"
      },
      "source": [
        "# data split\n",
        "(X_train, y_train), (X_test, y_test) = mnist.load_data()\n",
        "X_train, X_val, y_train, y_val = tts(X_train, y_train, test_size=0.15)\n",
        "# print(X_val.shape)\n",
        "print(X_train.shape)\n",
        "print(y_train.shape)"
      ],
      "execution_count": null,
      "outputs": [
        {
          "output_type": "stream",
          "name": "stdout",
          "text": [
            "(51000, 28, 28)\n",
            "(51000,)\n"
          ]
        }
      ]
    },
    {
      "cell_type": "code",
      "metadata": {
        "id": "EcgSCvNkZ5u6"
      },
      "source": [
        "X_train = X_train.astype('float32') # convert uint8 to float32\n",
        "X_test = X_test.astype('float32')\n",
        "X_val = X_val.astype('float32')\n",
        "img_rows, img_cols = X_train[0].shape[0], X_train[0].shape[1]\n",
        "# nomalize\n",
        "X_train /= 255\n",
        "X_val /= 255\n",
        "X_test /= 255"
      ],
      "execution_count": null,
      "outputs": []
    },
    {
      "cell_type": "code",
      "metadata": {
        "id": "lCtKYow_G0ES",
        "colab": {
          "base_uri": "https://localhost:8080/"
        },
        "outputId": "ebcad671-5754-4098-99c4-33f1d79bd6a4"
      },
      "source": [
        "X_train = X_train.reshape(-1, 784) # flatten each image\n",
        "X_test = X_test.reshape(-1, 784)\n",
        "X_val = X_val.reshape(-1, 784)\n",
        "print(X_test.shape)\n",
        "print(X_train.shape)\n",
        "print(y_train.shape)"
      ],
      "execution_count": null,
      "outputs": [
        {
          "output_type": "stream",
          "name": "stdout",
          "text": [
            "(10000, 784)\n",
            "(51000, 784)\n",
            "(51000,)\n"
          ]
        }
      ]
    },
    {
      "cell_type": "code",
      "metadata": {
        "id": "vUrDNW8xeGfw"
      },
      "source": [
        "batch_size = 128\n",
        "numOfClass = 10\n",
        "epoch = 20"
      ],
      "execution_count": null,
      "outputs": []
    },
    {
      "cell_type": "code",
      "metadata": {
        "colab": {
          "base_uri": "https://localhost:8080/"
        },
        "id": "8RewKIWLfXeW",
        "outputId": "c3bf4fca-a754-47f6-985c-efe8dbdf855b"
      },
      "source": [
        "# one-hot encoding\n",
        "y_train = tf.keras.utils.to_categorical(y_train, numOfClass)\n",
        "y_val = tf.keras.utils.to_categorical(y_val, numOfClass)\n",
        "y_test = tf.keras.utils.to_categorical(y_test, numOfClass)\n",
        "print(y_train.shape)\n",
        "print(y_train[0])"
      ],
      "execution_count": null,
      "outputs": [
        {
          "output_type": "stream",
          "name": "stdout",
          "text": [
            "(51000, 10)\n",
            "[0. 0. 0. 0. 0. 1. 0. 0. 0. 0.]\n"
          ]
        }
      ]
    },
    {
      "cell_type": "code",
      "metadata": {
        "colab": {
          "base_uri": "https://localhost:8080/"
        },
        "id": "JGG5mKgZiLzU",
        "outputId": "f9cba173-912b-4b9a-8b31-8a750a5ae696"
      },
      "source": [
        "# model\n",
        "model = Sequential()\n",
        "# input shape\n",
        "model.add(Dense(512, activation='relu', input_shape=(784,)))\n",
        "model.add(Dense(32, activation='relu'))\n",
        "model.add(Dense(numOfClass, activation='softmax'))\n",
        "\n",
        "model.summary()"
      ],
      "execution_count": null,
      "outputs": [
        {
          "output_type": "stream",
          "name": "stdout",
          "text": [
            "Model: \"sequential_12\"\n",
            "_________________________________________________________________\n",
            "Layer (type)                 Output Shape              Param #   \n",
            "=================================================================\n",
            "dense_33 (Dense)             (None, 512)               401920    \n",
            "_________________________________________________________________\n",
            "dense_34 (Dense)             (None, 32)                16416     \n",
            "_________________________________________________________________\n",
            "dense_35 (Dense)             (None, 10)                330       \n",
            "=================================================================\n",
            "Total params: 418,666\n",
            "Trainable params: 418,666\n",
            "Non-trainable params: 0\n",
            "_________________________________________________________________\n"
          ]
        }
      ]
    },
    {
      "cell_type": "code",
      "metadata": {
        "id": "1AtYp-tdjJRC"
      },
      "source": [
        "# define loss function\n",
        "model.compile(loss='categorical_crossentropy',\n",
        "              optimizer=SGD(),\n",
        "              metrics=['accuracy'])"
      ],
      "execution_count": null,
      "outputs": []
    },
    {
      "cell_type": "code",
      "metadata": {
        "colab": {
          "base_uri": "https://localhost:8080/"
        },
        "id": "fGRDZfo8jpmH",
        "outputId": "8a2211c7-4db6-43c6-a210-f543d978a5d7"
      },
      "source": [
        "# train model\n",
        "H = model.fit(X_train, y_train,\n",
        "              batch_size=batch_size,\n",
        "              epochs=epoch,\n",
        "              verbose=1,\n",
        "              validation_data=(X_test, y_test))"
      ],
      "execution_count": null,
      "outputs": [
        {
          "output_type": "stream",
          "name": "stdout",
          "text": [
            "Epoch 1/20\n",
            "399/399 [==============================] - 4s 9ms/step - loss: 1.1688 - accuracy: 0.7200 - val_loss: 0.5840 - val_accuracy: 0.8708\n",
            "Epoch 2/20\n",
            "399/399 [==============================] - 3s 9ms/step - loss: 0.4987 - accuracy: 0.8764 - val_loss: 0.3941 - val_accuracy: 0.9014\n",
            "Epoch 3/20\n",
            "399/399 [==============================] - 4s 9ms/step - loss: 0.3865 - accuracy: 0.8959 - val_loss: 0.3345 - val_accuracy: 0.9090\n",
            "Epoch 4/20\n",
            "399/399 [==============================] - 3s 9ms/step - loss: 0.3386 - accuracy: 0.9065 - val_loss: 0.3030 - val_accuracy: 0.9145\n",
            "Epoch 5/20\n",
            "399/399 [==============================] - 4s 9ms/step - loss: 0.3091 - accuracy: 0.9141 - val_loss: 0.2798 - val_accuracy: 0.9226\n",
            "Epoch 6/20\n",
            "399/399 [==============================] - 3s 8ms/step - loss: 0.2876 - accuracy: 0.9197 - val_loss: 0.2684 - val_accuracy: 0.9262\n",
            "Epoch 7/20\n",
            "399/399 [==============================] - 3s 9ms/step - loss: 0.2704 - accuracy: 0.9235 - val_loss: 0.2540 - val_accuracy: 0.9301\n",
            "Epoch 8/20\n",
            "399/399 [==============================] - 3s 9ms/step - loss: 0.2558 - accuracy: 0.9285 - val_loss: 0.2414 - val_accuracy: 0.9314\n",
            "Epoch 9/20\n",
            "399/399 [==============================] - 3s 9ms/step - loss: 0.2432 - accuracy: 0.9317 - val_loss: 0.2304 - val_accuracy: 0.9345\n",
            "Epoch 10/20\n",
            "399/399 [==============================] - 3s 8ms/step - loss: 0.2318 - accuracy: 0.9348 - val_loss: 0.2231 - val_accuracy: 0.9375\n",
            "Epoch 11/20\n",
            "399/399 [==============================] - 3s 9ms/step - loss: 0.2216 - accuracy: 0.9376 - val_loss: 0.2146 - val_accuracy: 0.9385\n",
            "Epoch 12/20\n",
            "399/399 [==============================] - 3s 8ms/step - loss: 0.2124 - accuracy: 0.9397 - val_loss: 0.2084 - val_accuracy: 0.9399\n",
            "Epoch 13/20\n",
            "399/399 [==============================] - 3s 9ms/step - loss: 0.2039 - accuracy: 0.9425 - val_loss: 0.2004 - val_accuracy: 0.9421\n",
            "Epoch 14/20\n",
            "399/399 [==============================] - 3s 9ms/step - loss: 0.1961 - accuracy: 0.9446 - val_loss: 0.1940 - val_accuracy: 0.9433\n",
            "Epoch 15/20\n",
            "399/399 [==============================] - 3s 9ms/step - loss: 0.1887 - accuracy: 0.9467 - val_loss: 0.1864 - val_accuracy: 0.9450\n",
            "Epoch 16/20\n",
            "399/399 [==============================] - 3s 9ms/step - loss: 0.1818 - accuracy: 0.9485 - val_loss: 0.1831 - val_accuracy: 0.9456\n",
            "Epoch 17/20\n",
            "399/399 [==============================] - 3s 9ms/step - loss: 0.1757 - accuracy: 0.9505 - val_loss: 0.1767 - val_accuracy: 0.9479\n",
            "Epoch 18/20\n",
            "399/399 [==============================] - 3s 9ms/step - loss: 0.1695 - accuracy: 0.9522 - val_loss: 0.1727 - val_accuracy: 0.9500\n",
            "Epoch 19/20\n",
            "399/399 [==============================] - 3s 9ms/step - loss: 0.1637 - accuracy: 0.9541 - val_loss: 0.1670 - val_accuracy: 0.9513\n",
            "Epoch 20/20\n",
            "399/399 [==============================] - 4s 9ms/step - loss: 0.1586 - accuracy: 0.9557 - val_loss: 0.1619 - val_accuracy: 0.9526\n"
          ]
        }
      ]
    },
    {
      "cell_type": "code",
      "metadata": {
        "colab": {
          "base_uri": "https://localhost:8080/"
        },
        "id": "53-bgZ31szOG",
        "outputId": "82742ef2-6730-40bb-d687-0c5e8b6ae0ff"
      },
      "source": [
        "# score\n",
        "score = model.evaluate(X_test, y_test, verbose=0)\n",
        "print('Test loss:', score[0])\n",
        "print('Test accuracy', score[1])"
      ],
      "execution_count": null,
      "outputs": [
        {
          "output_type": "stream",
          "name": "stdout",
          "text": [
            "Test loss: 0.1619136929512024\n",
            "Test accuracy 0.9526000022888184\n"
          ]
        }
      ]
    },
    {
      "cell_type": "code",
      "metadata": {
        "colab": {
          "base_uri": "https://localhost:8080/",
          "height": 295
        },
        "id": "iAdkG7EhySqY",
        "outputId": "53fb1ed1-399e-4b37-c02e-a27ce9227110"
      },
      "source": [
        "# visualize\n",
        "plt.plot(np.arange(0, epoch), H.history['loss'], label='training loss')\n",
        "plt.plot(np.arange(0, epoch), H.history['val_loss'], label='validation loss')\n",
        "plt.plot(np.arange(0, epoch), H.history['accuracy'], label='accuracy')\n",
        "plt.plot(np.arange(0, epoch), H.history['val_accuracy'], label='validation accuracy')\n",
        "plt.title('Accuracy and Loss')\n",
        "plt.xlabel('Epoch')\n",
        "plt.ylabel('Loss|Accuracy')\n",
        "plt.legend()\n",
        "plt.show()"
      ],
      "execution_count": null,
      "outputs": [
        {
          "output_type": "display_data",
          "data": {
            "image/png": "[encoded data removed]",
            "text/plain": [
              "<Figure size 432x288 with 1 Axes>"
            ]
          },
          "metadata": {
            "needs_background": "light"
          }
        }
      ]
    },
    {
      "cell_type": "markdown",
      "metadata": {
        "id": "c4BpZQozL_Qs"
      },
      "source": [
        "2. Chỉnh các hyperparameter: learning rate, activation function, số hidden layer, số node. Thử dùng các model đơn giản hơn (không có hidden layer, 1 hidden layer) hay phức tạp hơn (nhiều hidden layer và node hơn), vẽ loss function theo epoch tương ứng."
      ]
    },
    {
      "cell_type": "code",
      "metadata": {
        "id": "uMx8tmMHMCNu"
      },
      "source": [
        "# giữ nguyên model, chỉnh learning rate = 0.001\n",
        "model.compile(loss='categorical_crossentropy', optimizer=SGD(learning_rate=0.001),\n",
        "              metrics=['accuracy'])"
      ],
      "execution_count": null,
      "outputs": []
    },
    {
      "cell_type": "code",
      "metadata": {
        "colab": {
          "base_uri": "https://localhost:8080/"
        },
        "id": "9MBV3mSINk_8",
        "outputId": "24f62d63-dc0a-4591-e692-2b08b5dc3f24"
      },
      "source": [
        "# train model\n",
        "H = model.fit(X_train, y_train,\n",
        "              batch_size=batch_size,\n",
        "              epochs=epoch,\n",
        "              verbose=1,\n",
        "              validation_data=(X_test, y_test))"
      ],
      "execution_count": null,
      "outputs": [
        {
          "output_type": "stream",
          "name": "stdout",
          "text": [
            "Epoch 1/20\n",
            "399/399 [==============================] - 4s 9ms/step - loss: 2.2280 - accuracy: 0.2220 - val_loss: 2.1018 - val_accuracy: 0.3754\n",
            "Epoch 2/20\n",
            "399/399 [==============================] - 4s 9ms/step - loss: 1.9919 - accuracy: 0.4497 - val_loss: 1.8587 - val_accuracy: 0.5132\n",
            "Epoch 3/20\n",
            "399/399 [==============================] - 3s 9ms/step - loss: 1.7314 - accuracy: 0.5578 - val_loss: 1.5807 - val_accuracy: 0.6057\n",
            "Epoch 4/20\n",
            "399/399 [==============================] - 4s 9ms/step - loss: 1.4630 - accuracy: 0.6523 - val_loss: 1.3242 - val_accuracy: 0.7019\n",
            "Epoch 5/20\n",
            "399/399 [==============================] - 3s 9ms/step - loss: 1.2315 - accuracy: 0.7332 - val_loss: 1.1135 - val_accuracy: 0.7689\n",
            "Epoch 6/20\n",
            "399/399 [==============================] - 3s 9ms/step - loss: 1.0487 - accuracy: 0.7807 - val_loss: 0.9537 - val_accuracy: 0.8051\n",
            "Epoch 7/20\n",
            "399/399 [==============================] - 3s 9ms/step - loss: 0.9113 - accuracy: 0.8086 - val_loss: 0.8347 - val_accuracy: 0.8276\n",
            "Epoch 8/20\n",
            "399/399 [==============================] - 3s 9ms/step - loss: 0.8087 - accuracy: 0.8263 - val_loss: 0.7456 - val_accuracy: 0.8400\n",
            "Epoch 9/20\n",
            "399/399 [==============================] - 3s 9ms/step - loss: 0.7306 - accuracy: 0.8387 - val_loss: 0.6773 - val_accuracy: 0.8519\n",
            "Epoch 10/20\n",
            "399/399 [==============================] - 3s 9ms/step - loss: 0.6699 - accuracy: 0.8481 - val_loss: 0.6236 - val_accuracy: 0.8603\n",
            "Epoch 11/20\n",
            "399/399 [==============================] - 3s 9ms/step - loss: 0.6219 - accuracy: 0.8555 - val_loss: 0.5810 - val_accuracy: 0.8664\n",
            "Epoch 12/20\n",
            "399/399 [==============================] - 4s 9ms/step - loss: 0.5835 - accuracy: 0.8608 - val_loss: 0.5465 - val_accuracy: 0.8711\n",
            "Epoch 13/20\n",
            "399/399 [==============================] - 3s 9ms/step - loss: 0.5522 - accuracy: 0.8655 - val_loss: 0.5181 - val_accuracy: 0.8777\n",
            "Epoch 14/20\n",
            "399/399 [==============================] - 3s 9ms/step - loss: 0.5262 - accuracy: 0.8701 - val_loss: 0.4946 - val_accuracy: 0.8804\n",
            "Epoch 15/20\n",
            "399/399 [==============================] - 3s 9ms/step - loss: 0.5042 - accuracy: 0.8739 - val_loss: 0.4744 - val_accuracy: 0.8846\n",
            "Epoch 16/20\n",
            "399/399 [==============================] - 4s 9ms/step - loss: 0.4855 - accuracy: 0.8770 - val_loss: 0.4573 - val_accuracy: 0.8873\n",
            "Epoch 17/20\n",
            "399/399 [==============================] - 4s 9ms/step - loss: 0.4692 - accuracy: 0.8796 - val_loss: 0.4424 - val_accuracy: 0.8908\n",
            "Epoch 18/20\n",
            "399/399 [==============================] - 4s 9ms/step - loss: 0.4549 - accuracy: 0.8825 - val_loss: 0.4291 - val_accuracy: 0.8934\n",
            "Epoch 19/20\n",
            "399/399 [==============================] - 4s 9ms/step - loss: 0.4424 - accuracy: 0.8845 - val_loss: 0.4177 - val_accuracy: 0.8941\n",
            "Epoch 20/20\n",
            "399/399 [==============================] - 3s 9ms/step - loss: 0.4311 - accuracy: 0.8869 - val_loss: 0.4074 - val_accuracy: 0.8955\n"
          ]
        }
      ]
    },
    {
      "cell_type": "code",
      "metadata": {
        "colab": {
          "base_uri": "https://localhost:8080/",
          "height": 295
        },
        "id": "2zLLaW2YOYjr",
        "outputId": "a91a4089-4e3e-4065-a45f-892fbee635c5"
      },
      "source": [
        "# visualize\n",
        "plt.plot(np.arange(0, epoch), H.history['loss'], label='training loss')\n",
        "plt.plot(np.arange(0, epoch), H.history['val_loss'], label='validation loss')\n",
        "plt.plot(np.arange(0, epoch), H.history['accuracy'], label='accuracy')\n",
        "plt.plot(np.arange(0, epoch), H.history['val_accuracy'], label='validation accuracy')\n",
        "plt.title('Accuracy and Loss')\n",
        "plt.xlabel('Epoch')\n",
        "plt.ylabel('Loss|Accuracy')\n",
        "plt.legend()\n",
        "plt.show()"
      ],
      "execution_count": null,
      "outputs": [
        {
          "output_type": "display_data",
          "data": {
            "image/png": "[encoded data removed]",
            "text/plain": [
              "<Figure size 432x288 with 1 Axes>"
            ]
          },
          "metadata": {
            "needs_background": "light"
          }
        }
      ]
    },
    {
      "cell_type": "code",
      "metadata": {
        "colab": {
          "base_uri": "https://localhost:8080/"
        },
        "id": "6B0ojYKmOkwk",
        "outputId": "32d9479e-65c1-4cf1-fa14-395670c53ae4"
      },
      "source": [
        "# giữ nguyên model, chỉnh learning rate = 0.1\n",
        "model.compile(loss='categorical_crossentropy', optimizer=SGD(learning_rate=0.1),\n",
        "              metrics=['accuracy'])\n",
        "# train model\n",
        "H = model.fit(X_train, y_train,\n",
        "              batch_size=batch_size,\n",
        "              epochs=epoch,\n",
        "              verbose=1,\n",
        "              validation_data=(X_test, y_test))"
      ],
      "execution_count": null,
      "outputs": [
        {
          "output_type": "stream",
          "name": "stdout",
          "text": [
            "Epoch 1/20\n",
            "399/399 [==============================] - 4s 9ms/step - loss: 0.4440 - accuracy: 0.8747 - val_loss: 0.2346 - val_accuracy: 0.9347\n",
            "Epoch 2/20\n",
            "399/399 [==============================] - 4s 9ms/step - loss: 0.2060 - accuracy: 0.9407 - val_loss: 0.1780 - val_accuracy: 0.9479\n",
            "Epoch 3/20\n",
            "399/399 [==============================] - 3s 9ms/step - loss: 0.1505 - accuracy: 0.9575 - val_loss: 0.1435 - val_accuracy: 0.9568\n",
            "Epoch 4/20\n",
            "399/399 [==============================] - 3s 9ms/step - loss: 0.1185 - accuracy: 0.9660 - val_loss: 0.1188 - val_accuracy: 0.9649\n",
            "Epoch 5/20\n",
            "399/399 [==============================] - 4s 9ms/step - loss: 0.0959 - accuracy: 0.9720 - val_loss: 0.1158 - val_accuracy: 0.9650\n",
            "Epoch 6/20\n",
            "399/399 [==============================] - 3s 9ms/step - loss: 0.0789 - accuracy: 0.9777 - val_loss: 0.0957 - val_accuracy: 0.9713\n",
            "Epoch 7/20\n",
            "399/399 [==============================] - 4s 9ms/step - loss: 0.0675 - accuracy: 0.9810 - val_loss: 0.0875 - val_accuracy: 0.9733\n",
            "Epoch 8/20\n",
            "399/399 [==============================] - 3s 9ms/step - loss: 0.0574 - accuracy: 0.9840 - val_loss: 0.0839 - val_accuracy: 0.9747\n",
            "Epoch 9/20\n",
            "399/399 [==============================] - 3s 8ms/step - loss: 0.0491 - accuracy: 0.9864 - val_loss: 0.0839 - val_accuracy: 0.9741\n",
            "Epoch 10/20\n",
            "399/399 [==============================] - 3s 9ms/step - loss: 0.0422 - accuracy: 0.9886 - val_loss: 0.0763 - val_accuracy: 0.9760\n",
            "Epoch 11/20\n",
            "399/399 [==============================] - 3s 9ms/step - loss: 0.0362 - accuracy: 0.9907 - val_loss: 0.0709 - val_accuracy: 0.9772\n",
            "Epoch 12/20\n",
            "399/399 [==============================] - 3s 9ms/step - loss: 0.0316 - accuracy: 0.9921 - val_loss: 0.0953 - val_accuracy: 0.9697\n",
            "Epoch 13/20\n",
            "399/399 [==============================] - 4s 9ms/step - loss: 0.0270 - accuracy: 0.9936 - val_loss: 0.0701 - val_accuracy: 0.9777\n",
            "Epoch 14/20\n",
            "399/399 [==============================] - 3s 9ms/step - loss: 0.0236 - accuracy: 0.9949 - val_loss: 0.0854 - val_accuracy: 0.9736\n",
            "Epoch 15/20\n",
            "399/399 [==============================] - 4s 9ms/step - loss: 0.0202 - accuracy: 0.9961 - val_loss: 0.0671 - val_accuracy: 0.9786\n",
            "Epoch 16/20\n",
            "399/399 [==============================] - 4s 9ms/step - loss: 0.0177 - accuracy: 0.9965 - val_loss: 0.0684 - val_accuracy: 0.9787\n",
            "Epoch 17/20\n",
            "399/399 [==============================] - 4s 9ms/step - loss: 0.0154 - accuracy: 0.9972 - val_loss: 0.0718 - val_accuracy: 0.9783\n",
            "Epoch 18/20\n",
            "399/399 [==============================] - 3s 9ms/step - loss: 0.0135 - accuracy: 0.9977 - val_loss: 0.0692 - val_accuracy: 0.9796\n",
            "Epoch 19/20\n",
            "399/399 [==============================] - 4s 9ms/step - loss: 0.0115 - accuracy: 0.9982 - val_loss: 0.0669 - val_accuracy: 0.9797\n",
            "Epoch 20/20\n",
            "399/399 [==============================] - 3s 9ms/step - loss: 0.0101 - accuracy: 0.9988 - val_loss: 0.0673 - val_accuracy: 0.9801\n"
          ]
        }
      ]
    },
    {
      "cell_type": "code",
      "metadata": {
        "colab": {
          "base_uri": "https://localhost:8080/",
          "height": 295
        },
        "id": "PxFCph74PHM1",
        "outputId": "aecf3c84-2efc-4bf9-8aa9-1506d6415c64"
      },
      "source": [
        "# visualize\n",
        "plt.plot(np.arange(0, epoch), H.history['loss'], label='training loss')\n",
        "plt.plot(np.arange(0, epoch), H.history['val_loss'], label='validation loss')\n",
        "plt.plot(np.arange(0, epoch), H.history['accuracy'], label='accuracy')\n",
        "plt.plot(np.arange(0, epoch), H.history['val_accuracy'], label='validation accuracy')\n",
        "plt.title('Accuracy and Loss')\n",
        "plt.xlabel('Epoch')\n",
        "plt.ylabel('Loss|Accuracy')\n",
        "plt.legend()\n",
        "plt.show()"
      ],
      "execution_count": null,
      "outputs": [
        {
          "output_type": "display_data",
          "data": {
            "image/png": "[encoded data removed]",
            "text/plain": [
              "<Figure size 432x288 with 1 Axes>"
            ]
          },
          "metadata": {
            "needs_background": "light"
          }
        }
      ]
    },
    {
      "cell_type": "code",
      "metadata": {
        "colab": {
          "base_uri": "https://localhost:8080/"
        },
        "id": "rsAHvJKePMwM",
        "outputId": "14742bdb-b876-426f-ef4a-571f13b5636e"
      },
      "source": [
        "# giữ nguyên layer , node, learning rate, thay đổi activation -> sigmoid:\n",
        "model = Sequential()\n",
        "# input shape\n",
        "model.add(Dense(512, activation='sigmoid', input_shape=(784,)))\n",
        "model.add(Dense(32, activation='sigmoid'))\n",
        "model.add(Dense(numOfClass, activation='softmax'))\n",
        "\n",
        "model.summary()"
      ],
      "execution_count": null,
      "outputs": [
        {
          "output_type": "stream",
          "name": "stdout",
          "text": [
            "Model: \"sequential_14\"\n",
            "_________________________________________________________________\n",
            "Layer (type)                 Output Shape              Param #   \n",
            "=================================================================\n",
            "dense_39 (Dense)             (None, 512)               401920    \n",
            "_________________________________________________________________\n",
            "dense_40 (Dense)             (None, 32)                16416     \n",
            "_________________________________________________________________\n",
            "dense_41 (Dense)             (None, 10)                330       \n",
            "=================================================================\n",
            "Total params: 418,666\n",
            "Trainable params: 418,666\n",
            "Non-trainable params: 0\n",
            "_________________________________________________________________\n"
          ]
        }
      ]
    },
    {
      "cell_type": "code",
      "metadata": {
        "colab": {
          "base_uri": "https://localhost:8080/",
          "height": 995
        },
        "id": "1WUo0k83QQo5",
        "outputId": "e805298b-6375-40d5-b73f-b596922ce336"
      },
      "source": [
        "model.compile(loss='categorical_crossentropy', optimizer=SGD(),\n",
        "              metrics=['accuracy'])\n",
        "# train model\n",
        "H = model.fit(X_train, y_train,\n",
        "              batch_size=batch_size,\n",
        "              epochs=epoch,\n",
        "              verbose=1,\n",
        "              validation_data=(X_test, y_test))\n",
        "# visualize\n",
        "plt.plot(np.arange(0, epoch), H.history['loss'], label='training loss')\n",
        "plt.plot(np.arange(0, epoch), H.history['val_loss'], label='validation loss')\n",
        "plt.plot(np.arange(0, epoch), H.history['accuracy'], label='accuracy')\n",
        "plt.plot(np.arange(0, epoch), H.history['val_accuracy'], label='validation accuracy')\n",
        "plt.title('Accuracy and Loss')\n",
        "plt.xlabel('Epoch')\n",
        "plt.ylabel('Loss|Accuracy')\n",
        "plt.legend()\n",
        "plt.show()"
      ],
      "execution_count": null,
      "outputs": [
        {
          "output_type": "stream",
          "name": "stdout",
          "text": [
            "Epoch 1/20\n",
            "399/399 [==============================] - 4s 9ms/step - loss: 2.2921 - accuracy: 0.1902 - val_loss: 2.2556 - val_accuracy: 0.1930\n",
            "Epoch 2/20\n",
            "399/399 [==============================] - 3s 9ms/step - loss: 2.2288 - accuracy: 0.3130 - val_loss: 2.1952 - val_accuracy: 0.3466\n",
            "Epoch 3/20\n",
            "399/399 [==============================] - 4s 9ms/step - loss: 2.1603 - accuracy: 0.4507 - val_loss: 2.1157 - val_accuracy: 0.5173\n",
            "Epoch 4/20\n",
            "399/399 [==============================] - 3s 9ms/step - loss: 2.0707 - accuracy: 0.5551 - val_loss: 2.0112 - val_accuracy: 0.6089\n",
            "Epoch 5/20\n",
            "399/399 [==============================] - 3s 9ms/step - loss: 1.9540 - accuracy: 0.6218 - val_loss: 1.8781 - val_accuracy: 0.6543\n",
            "Epoch 6/20\n",
            "399/399 [==============================] - 3s 9ms/step - loss: 1.8106 - accuracy: 0.6555 - val_loss: 1.7230 - val_accuracy: 0.6882\n",
            "Epoch 7/20\n",
            "399/399 [==============================] - 3s 9ms/step - loss: 1.6521 - accuracy: 0.6915 - val_loss: 1.5602 - val_accuracy: 0.7042\n",
            "Epoch 8/20\n",
            "399/399 [==============================] - 4s 9ms/step - loss: 1.4939 - accuracy: 0.7192 - val_loss: 1.4049 - val_accuracy: 0.7382\n",
            "Epoch 9/20\n",
            "399/399 [==============================] - 4s 9ms/step - loss: 1.3472 - accuracy: 0.7417 - val_loss: 1.2671 - val_accuracy: 0.7606\n",
            "Epoch 10/20\n",
            "399/399 [==============================] - 3s 9ms/step - loss: 1.2184 - accuracy: 0.7603 - val_loss: 1.1474 - val_accuracy: 0.7737\n",
            "Epoch 11/20\n",
            "399/399 [==============================] - 3s 9ms/step - loss: 1.1087 - accuracy: 0.7755 - val_loss: 1.0471 - val_accuracy: 0.7885\n",
            "Epoch 12/20\n",
            "399/399 [==============================] - 3s 9ms/step - loss: 1.0165 - accuracy: 0.7879 - val_loss: 0.9629 - val_accuracy: 0.7945\n",
            "Epoch 13/20\n",
            "399/399 [==============================] - 3s 9ms/step - loss: 0.9392 - accuracy: 0.7980 - val_loss: 0.8922 - val_accuracy: 0.8099\n",
            "Epoch 14/20\n",
            "399/399 [==============================] - 3s 9ms/step - loss: 0.8743 - accuracy: 0.8076 - val_loss: 0.8323 - val_accuracy: 0.8202\n",
            "Epoch 15/20\n",
            "399/399 [==============================] - 3s 9ms/step - loss: 0.8191 - accuracy: 0.8157 - val_loss: 0.7813 - val_accuracy: 0.8235\n",
            "Epoch 16/20\n",
            "399/399 [==============================] - 3s 9ms/step - loss: 0.7718 - accuracy: 0.8232 - val_loss: 0.7370 - val_accuracy: 0.8304\n",
            "Epoch 17/20\n",
            "399/399 [==============================] - 4s 9ms/step - loss: 0.7312 - accuracy: 0.8295 - val_loss: 0.6996 - val_accuracy: 0.8368\n",
            "Epoch 18/20\n",
            "399/399 [==============================] - 3s 9ms/step - loss: 0.6959 - accuracy: 0.8352 - val_loss: 0.6664 - val_accuracy: 0.8407\n",
            "Epoch 19/20\n",
            "399/399 [==============================] - 4s 9ms/step - loss: 0.6653 - accuracy: 0.8404 - val_loss: 0.6374 - val_accuracy: 0.8462\n",
            "Epoch 20/20\n",
            "399/399 [==============================] - 4s 9ms/step - loss: 0.6384 - accuracy: 0.8446 - val_loss: 0.6120 - val_accuracy: 0.8519\n"
          ]
        },
        {
          "output_type": "display_data",
          "data": {
            "image/png": "[encoded data removed]",
            "text/plain": [
              "<Figure size 432x288 with 1 Axes>"
            ]
          },
          "metadata": {
            "needs_background": "light"
          }
        }
      ]
    },
    {
      "cell_type": "code",
      "metadata": {
        "colab": {
          "base_uri": "https://localhost:8080/"
        },
        "id": "sycPK35lRDuM",
        "outputId": "f602c17e-882e-4150-87b9-411ae6dfc1e6"
      },
      "source": [
        "# giữ nguyên activation, learning rate, giảm số layer còn 1 layer với 128 nodes:\n",
        "model = Sequential()\n",
        "# input shape\n",
        "model.add(Dense(128, activation='relu', input_shape=(784,)))\n",
        "# model.add(Dense(32, activation='sigmoid'))\n",
        "model.add(Dense(numOfClass, activation='softmax'))\n",
        "\n",
        "model.summary()"
      ],
      "execution_count": null,
      "outputs": [
        {
          "output_type": "stream",
          "name": "stdout",
          "text": [
            "Model: \"sequential_17\"\n",
            "_________________________________________________________________\n",
            "Layer (type)                 Output Shape              Param #   \n",
            "=================================================================\n",
            "dense_46 (Dense)             (None, 128)               100480    \n",
            "_________________________________________________________________\n",
            "dense_47 (Dense)             (None, 10)                1290      \n",
            "=================================================================\n",
            "Total params: 101,770\n",
            "Trainable params: 101,770\n",
            "Non-trainable params: 0\n",
            "_________________________________________________________________\n"
          ]
        }
      ]
    },
    {
      "cell_type": "code",
      "metadata": {
        "colab": {
          "base_uri": "https://localhost:8080/",
          "height": 995
        },
        "id": "jkJmPjNHRYnc",
        "outputId": "1366e782-e30e-45f7-f2f4-d2c8d6e9bf23"
      },
      "source": [
        "model.compile(loss='categorical_crossentropy', optimizer=SGD(),\n",
        "              metrics=['accuracy'])\n",
        "# train model\n",
        "H = model.fit(X_train, y_train,\n",
        "              batch_size=batch_size,\n",
        "              epochs=epoch,\n",
        "              verbose=1,\n",
        "              validation_data=(X_test, y_test))\n",
        "# visualize\n",
        "plt.plot(np.arange(0, epoch), H.history['loss'], label='training loss')\n",
        "plt.plot(np.arange(0, epoch), H.history['val_loss'], label='validation loss')\n",
        "plt.plot(np.arange(0, epoch), H.history['accuracy'], label='accuracy')\n",
        "plt.plot(np.arange(0, epoch), H.history['val_accuracy'], label='validation accuracy')\n",
        "plt.title('Accuracy and Loss')\n",
        "plt.xlabel('Epoch')\n",
        "plt.ylabel('Loss|Accuracy')\n",
        "plt.legend()\n",
        "plt.show()"
      ],
      "execution_count": null,
      "outputs": [
        {
          "output_type": "stream",
          "name": "stdout",
          "text": [
            "Epoch 1/20\n",
            "399/399 [==============================] - 2s 5ms/step - loss: 1.3009 - accuracy: 0.6864 - val_loss: 0.7260 - val_accuracy: 0.8421\n",
            "Epoch 2/20\n",
            "399/399 [==============================] - 2s 4ms/step - loss: 0.6088 - accuracy: 0.8543 - val_loss: 0.4961 - val_accuracy: 0.8762\n",
            "Epoch 3/20\n",
            "399/399 [==============================] - 2s 4ms/step - loss: 0.4742 - accuracy: 0.8769 - val_loss: 0.4176 - val_accuracy: 0.8907\n",
            "Epoch 4/20\n",
            "399/399 [==============================] - 2s 4ms/step - loss: 0.4160 - accuracy: 0.8881 - val_loss: 0.3771 - val_accuracy: 0.8985\n",
            "Epoch 5/20\n",
            "399/399 [==============================] - 2s 4ms/step - loss: 0.3821 - accuracy: 0.8962 - val_loss: 0.3514 - val_accuracy: 0.9040\n",
            "Epoch 6/20\n",
            "399/399 [==============================] - 2s 4ms/step - loss: 0.3587 - accuracy: 0.9006 - val_loss: 0.3321 - val_accuracy: 0.9092\n",
            "Epoch 7/20\n",
            "399/399 [==============================] - 2s 4ms/step - loss: 0.3407 - accuracy: 0.9047 - val_loss: 0.3173 - val_accuracy: 0.9120\n",
            "Epoch 8/20\n",
            "399/399 [==============================] - 2s 4ms/step - loss: 0.3264 - accuracy: 0.9080 - val_loss: 0.3055 - val_accuracy: 0.9137\n",
            "Epoch 9/20\n",
            "399/399 [==============================] - 2s 4ms/step - loss: 0.3143 - accuracy: 0.9114 - val_loss: 0.2955 - val_accuracy: 0.9186\n",
            "Epoch 10/20\n",
            "399/399 [==============================] - 2s 5ms/step - loss: 0.3039 - accuracy: 0.9138 - val_loss: 0.2871 - val_accuracy: 0.9202\n",
            "Epoch 11/20\n",
            "399/399 [==============================] - 2s 4ms/step - loss: 0.2945 - accuracy: 0.9167 - val_loss: 0.2800 - val_accuracy: 0.9212\n",
            "Epoch 12/20\n",
            "399/399 [==============================] - 2s 4ms/step - loss: 0.2863 - accuracy: 0.9192 - val_loss: 0.2720 - val_accuracy: 0.9234\n",
            "Epoch 13/20\n",
            "399/399 [==============================] - 2s 4ms/step - loss: 0.2786 - accuracy: 0.9214 - val_loss: 0.2660 - val_accuracy: 0.9245\n",
            "Epoch 14/20\n",
            "399/399 [==============================] - 2s 4ms/step - loss: 0.2718 - accuracy: 0.9233 - val_loss: 0.2601 - val_accuracy: 0.9262\n",
            "Epoch 15/20\n",
            "399/399 [==============================] - 2s 4ms/step - loss: 0.2651 - accuracy: 0.9252 - val_loss: 0.2543 - val_accuracy: 0.9277\n",
            "Epoch 16/20\n",
            "399/399 [==============================] - 2s 4ms/step - loss: 0.2592 - accuracy: 0.9270 - val_loss: 0.2491 - val_accuracy: 0.9278\n",
            "Epoch 17/20\n",
            "399/399 [==============================] - 2s 4ms/step - loss: 0.2535 - accuracy: 0.9293 - val_loss: 0.2450 - val_accuracy: 0.9307\n",
            "Epoch 18/20\n",
            "399/399 [==============================] - 2s 4ms/step - loss: 0.2483 - accuracy: 0.9307 - val_loss: 0.2396 - val_accuracy: 0.9313\n",
            "Epoch 19/20\n",
            "399/399 [==============================] - 2s 4ms/step - loss: 0.2431 - accuracy: 0.9325 - val_loss: 0.2358 - val_accuracy: 0.9331\n",
            "Epoch 20/20\n",
            "399/399 [==============================] - 2s 4ms/step - loss: 0.2383 - accuracy: 0.9340 - val_loss: 0.2321 - val_accuracy: 0.9332\n"
          ]
        },
        {
          "output_type": "display_data",
          "data": {
            "image/png": "[encoded data removed]",
            "text/plain": [
              "<Figure size 432x288 with 1 Axes>"
            ]
          },
          "metadata": {
            "needs_background": "light"
          }
        }
      ]
    },
    {
      "cell_type": "code",
      "metadata": {
        "colab": {
          "base_uri": "https://localhost:8080/"
        },
        "id": "l6mKPTZ-SPNA",
        "outputId": "6759b4ae-44ed-46ba-c0ff-e8fe44bc75b1"
      },
      "source": [
        "# giữ nguyên activation, learning rate, xóa hết hidden layer\n",
        "model = Sequential()\n",
        "# input shape\n",
        "# model.add(Dense(512, activation='relu', input_shape=(784,)))\n",
        "# model.add(Dense(32, activation='sigmoid'))\n",
        "model.add(Dense(numOfClass, activation='softmax', input_shape=(784,)))\n",
        "\n",
        "model.summary()"
      ],
      "execution_count": null,
      "outputs": [
        {
          "output_type": "stream",
          "name": "stdout",
          "text": [
            "Model: \"sequential_20\"\n",
            "_________________________________________________________________\n",
            "Layer (type)                 Output Shape              Param #   \n",
            "=================================================================\n",
            "dense_49 (Dense)             (None, 10)                7850      \n",
            "=================================================================\n",
            "Total params: 7,850\n",
            "Trainable params: 7,850\n",
            "Non-trainable params: 0\n",
            "_________________________________________________________________\n"
          ]
        }
      ]
    },
    {
      "cell_type": "code",
      "metadata": {
        "colab": {
          "base_uri": "https://localhost:8080/",
          "height": 995
        },
        "id": "pM9WeWp7TAeC",
        "outputId": "77e106e5-6dbb-4ea0-cd75-0129b8599873"
      },
      "source": [
        "model.compile(loss='categorical_crossentropy', optimizer=SGD(),\n",
        "              metrics=['accuracy'])\n",
        "# train model\n",
        "H = model.fit(X_train, y_train,\n",
        "              batch_size=batch_size,\n",
        "              epochs=epoch,\n",
        "              verbose=1,\n",
        "              validation_data=(X_test, y_test))\n",
        "# visualize\n",
        "plt.plot(np.arange(0, epoch), H.history['loss'], label='training loss')\n",
        "plt.plot(np.arange(0, epoch), H.history['val_loss'], label='validation loss')\n",
        "plt.plot(np.arange(0, epoch), H.history['accuracy'], label='accuracy')\n",
        "plt.plot(np.arange(0, epoch), H.history['val_accuracy'], label='validation accuracy')\n",
        "plt.title('Accuracy and Loss')\n",
        "plt.xlabel('Epoch')\n",
        "plt.ylabel('Loss|Accuracy')\n",
        "plt.legend()\n",
        "plt.show()"
      ],
      "execution_count": null,
      "outputs": [
        {
          "output_type": "stream",
          "name": "stdout",
          "text": [
            "Epoch 1/20\n",
            "399/399 [==============================] - 1s 3ms/step - loss: 1.3453 - accuracy: 0.6807 - val_loss: 0.8713 - val_accuracy: 0.8248\n",
            "Epoch 2/20\n",
            "399/399 [==============================] - 1s 3ms/step - loss: 0.7644 - accuracy: 0.8335 - val_loss: 0.6476 - val_accuracy: 0.8565\n",
            "Epoch 3/20\n",
            "399/399 [==============================] - 1s 3ms/step - loss: 0.6229 - accuracy: 0.8531 - val_loss: 0.5569 - val_accuracy: 0.8696\n",
            "Epoch 4/20\n",
            "399/399 [==============================] - 1s 3ms/step - loss: 0.5547 - accuracy: 0.8635 - val_loss: 0.5059 - val_accuracy: 0.8771\n",
            "Epoch 5/20\n",
            "399/399 [==============================] - 1s 3ms/step - loss: 0.5132 - accuracy: 0.8700 - val_loss: 0.4728 - val_accuracy: 0.8832\n",
            "Epoch 6/20\n",
            "399/399 [==============================] - 1s 3ms/step - loss: 0.4847 - accuracy: 0.8752 - val_loss: 0.4490 - val_accuracy: 0.8863\n",
            "Epoch 7/20\n",
            "399/399 [==============================] - 1s 2ms/step - loss: 0.4635 - accuracy: 0.8792 - val_loss: 0.4309 - val_accuracy: 0.8899\n",
            "Epoch 8/20\n",
            "399/399 [==============================] - 1s 3ms/step - loss: 0.4471 - accuracy: 0.8826 - val_loss: 0.4168 - val_accuracy: 0.8926\n",
            "Epoch 9/20\n",
            "399/399 [==============================] - 1s 3ms/step - loss: 0.4339 - accuracy: 0.8849 - val_loss: 0.4054 - val_accuracy: 0.8944\n",
            "Epoch 10/20\n",
            "399/399 [==============================] - 1s 2ms/step - loss: 0.4229 - accuracy: 0.8874 - val_loss: 0.3956 - val_accuracy: 0.8961\n",
            "Epoch 11/20\n",
            "399/399 [==============================] - 1s 2ms/step - loss: 0.4136 - accuracy: 0.8891 - val_loss: 0.3872 - val_accuracy: 0.8977\n",
            "Epoch 12/20\n",
            "399/399 [==============================] - 1s 2ms/step - loss: 0.4057 - accuracy: 0.8908 - val_loss: 0.3802 - val_accuracy: 0.8987\n",
            "Epoch 13/20\n",
            "399/399 [==============================] - 1s 2ms/step - loss: 0.3987 - accuracy: 0.8925 - val_loss: 0.3740 - val_accuracy: 0.8996\n",
            "Epoch 14/20\n",
            "399/399 [==============================] - 1s 3ms/step - loss: 0.3925 - accuracy: 0.8937 - val_loss: 0.3684 - val_accuracy: 0.9012\n",
            "Epoch 15/20\n",
            "399/399 [==============================] - 1s 3ms/step - loss: 0.3870 - accuracy: 0.8948 - val_loss: 0.3635 - val_accuracy: 0.9027\n",
            "Epoch 16/20\n",
            "399/399 [==============================] - 1s 3ms/step - loss: 0.3821 - accuracy: 0.8959 - val_loss: 0.3594 - val_accuracy: 0.9025\n",
            "Epoch 17/20\n",
            "399/399 [==============================] - 1s 2ms/step - loss: 0.3776 - accuracy: 0.8969 - val_loss: 0.3554 - val_accuracy: 0.9038\n",
            "Epoch 18/20\n",
            "399/399 [==============================] - 1s 2ms/step - loss: 0.3736 - accuracy: 0.8977 - val_loss: 0.3516 - val_accuracy: 0.9050\n",
            "Epoch 19/20\n",
            "399/399 [==============================] - 1s 3ms/step - loss: 0.3697 - accuracy: 0.8985 - val_loss: 0.3483 - val_accuracy: 0.9058\n",
            "Epoch 20/20\n",
            "399/399 [==============================] - 1s 3ms/step - loss: 0.3664 - accuracy: 0.8996 - val_loss: 0.3454 - val_accuracy: 0.9064\n"
          ]
        },
        {
          "output_type": "display_data",
          "data": {
            "image/png": "[encoded data removed]",
            "text/plain": [
              "<Figure size 432x288 with 1 Axes>"
            ]
          },
          "metadata": {
            "needs_background": "light"
          }
        }
      ]
    },
    {
      "cell_type": "code",
      "metadata": {
        "colab": {
          "base_uri": "https://localhost:8080/"
        },
        "id": "Faw98tUxTRne",
        "outputId": "3c0e960c-52dd-4543-b9f7-a3dc45599aaf"
      },
      "source": [
        "# model tăng thêm 1 hidden layer, tăng số node layer 3:\n",
        "model = Sequential()\n",
        "# input shape\n",
        "model.add(Dense(512, activation='relu', input_shape=(784,)))\n",
        "model.add(Dense(512, activation='relu'))\n",
        "model.add(Dense(64, activation='sigmoid'))\n",
        "model.add(Dense(numOfClass, activation='softmax', input_shape=(784,)))\n",
        "\n",
        "model.summary()"
      ],
      "execution_count": null,
      "outputs": [
        {
          "output_type": "stream",
          "name": "stdout",
          "text": [
            "Model: \"sequential_23\"\n",
            "_________________________________________________________________\n",
            "Layer (type)                 Output Shape              Param #   \n",
            "=================================================================\n",
            "dense_58 (Dense)             (None, 512)               401920    \n",
            "_________________________________________________________________\n",
            "dense_59 (Dense)             (None, 512)               262656    \n",
            "_________________________________________________________________\n",
            "dense_60 (Dense)             (None, 64)                32832     \n",
            "_________________________________________________________________\n",
            "dense_61 (Dense)             (None, 10)                650       \n",
            "=================================================================\n",
            "Total params: 698,058\n",
            "Trainable params: 698,058\n",
            "Non-trainable params: 0\n",
            "_________________________________________________________________\n"
          ]
        }
      ]
    },
    {
      "cell_type": "code",
      "metadata": {
        "colab": {
          "base_uri": "https://localhost:8080/",
          "height": 995
        },
        "id": "QNsRW6y2Tsbm",
        "outputId": "7fbe6509-63e5-4b6a-97fd-3367ab89d58e"
      },
      "source": [
        "model.compile(loss='categorical_crossentropy', optimizer=SGD(),\n",
        "              metrics=['accuracy'])\n",
        "# train model\n",
        "H = model.fit(X_train, y_train,\n",
        "              batch_size=batch_size,\n",
        "              epochs=epoch,\n",
        "              verbose=1,\n",
        "              validation_data=(X_test, y_test))\n",
        "# visualize\n",
        "plt.plot(np.arange(0, epoch), H.history['loss'], label='training loss')\n",
        "plt.plot(np.arange(0, epoch), H.history['val_loss'], label='validation loss')\n",
        "plt.plot(np.arange(0, epoch), H.history['accuracy'], label='accuracy')\n",
        "plt.plot(np.arange(0, epoch), H.history['val_accuracy'], label='validation accuracy')\n",
        "plt.title('Accuracy and Loss')\n",
        "plt.xlabel('Epoch')\n",
        "plt.ylabel('Loss|Accuracy')\n",
        "plt.legend()\n",
        "plt.show()"
      ],
      "execution_count": null,
      "outputs": [
        {
          "output_type": "stream",
          "name": "stdout",
          "text": [
            "Epoch 1/20\n",
            "399/399 [==============================] - 7s 16ms/step - loss: 2.1205 - accuracy: 0.4953 - val_loss: 1.8516 - val_accuracy: 0.7044\n",
            "Epoch 2/20\n",
            "399/399 [==============================] - 6s 16ms/step - loss: 1.5122 - accuracy: 0.7259 - val_loss: 1.1701 - val_accuracy: 0.7768\n",
            "Epoch 3/20\n",
            "399/399 [==============================] - 6s 16ms/step - loss: 0.9828 - accuracy: 0.7959 - val_loss: 0.8076 - val_accuracy: 0.8331\n",
            "Epoch 4/20\n",
            "399/399 [==============================] - 6s 15ms/step - loss: 0.7296 - accuracy: 0.8383 - val_loss: 0.6353 - val_accuracy: 0.8567\n",
            "Epoch 5/20\n",
            "399/399 [==============================] - 6s 15ms/step - loss: 0.5996 - accuracy: 0.8593 - val_loss: 0.5369 - val_accuracy: 0.8754\n",
            "Epoch 6/20\n",
            "399/399 [==============================] - 6s 16ms/step - loss: 0.5203 - accuracy: 0.8729 - val_loss: 0.4732 - val_accuracy: 0.8848\n",
            "Epoch 7/20\n",
            "399/399 [==============================] - 6s 15ms/step - loss: 0.4665 - accuracy: 0.8830 - val_loss: 0.4292 - val_accuracy: 0.8937\n",
            "Epoch 8/20\n",
            "399/399 [==============================] - 6s 16ms/step - loss: 0.4276 - accuracy: 0.8897 - val_loss: 0.3968 - val_accuracy: 0.9003\n",
            "Epoch 9/20\n",
            "399/399 [==============================] - 6s 15ms/step - loss: 0.3977 - accuracy: 0.8956 - val_loss: 0.3711 - val_accuracy: 0.9046\n",
            "Epoch 10/20\n",
            "399/399 [==============================] - 6s 15ms/step - loss: 0.3739 - accuracy: 0.9000 - val_loss: 0.3500 - val_accuracy: 0.9096\n",
            "Epoch 11/20\n",
            "399/399 [==============================] - 6s 15ms/step - loss: 0.3545 - accuracy: 0.9047 - val_loss: 0.3332 - val_accuracy: 0.9109\n",
            "Epoch 12/20\n",
            "399/399 [==============================] - 6s 15ms/step - loss: 0.3379 - accuracy: 0.9075 - val_loss: 0.3184 - val_accuracy: 0.9139\n",
            "Epoch 13/20\n",
            "399/399 [==============================] - 6s 16ms/step - loss: 0.3235 - accuracy: 0.9114 - val_loss: 0.3062 - val_accuracy: 0.9182\n",
            "Epoch 14/20\n",
            "399/399 [==============================] - 6s 15ms/step - loss: 0.3109 - accuracy: 0.9140 - val_loss: 0.2943 - val_accuracy: 0.9197\n",
            "Epoch 15/20\n",
            "399/399 [==============================] - 6s 16ms/step - loss: 0.2996 - accuracy: 0.9171 - val_loss: 0.2851 - val_accuracy: 0.9209\n",
            "Epoch 16/20\n",
            "399/399 [==============================] - 6s 15ms/step - loss: 0.2893 - accuracy: 0.9198 - val_loss: 0.2754 - val_accuracy: 0.9240\n",
            "Epoch 17/20\n",
            "399/399 [==============================] - 6s 15ms/step - loss: 0.2799 - accuracy: 0.9220 - val_loss: 0.2672 - val_accuracy: 0.9262\n",
            "Epoch 18/20\n",
            "399/399 [==============================] - 6s 16ms/step - loss: 0.2713 - accuracy: 0.9247 - val_loss: 0.2604 - val_accuracy: 0.9279\n",
            "Epoch 19/20\n",
            "399/399 [==============================] - 6s 16ms/step - loss: 0.2633 - accuracy: 0.9264 - val_loss: 0.2524 - val_accuracy: 0.9298\n",
            "Epoch 20/20\n",
            "399/399 [==============================] - 6s 15ms/step - loss: 0.2559 - accuracy: 0.9292 - val_loss: 0.2462 - val_accuracy: 0.9319\n"
          ]
        },
        {
          "output_type": "display_data",
          "data": {
            "image/png": "[encoded data removed]",
            "text/plain": [
              "<Figure size 432x288 with 1 Axes>"
            ]
          },
          "metadata": {
            "needs_background": "light"
          }
        }
      ]
    },
    {
      "cell_type": "markdown",
      "metadata": {
        "id": "uzjh7hVnUfQA"
      },
      "source": [
        "3. Phân loại ảnh trong dữ liệu cifar10"
      ]
    },
    {
      "cell_type": "code",
      "metadata": {
        "id": "o1plCbkkUbgl"
      },
      "source": [
        "from keras.datasets import cifar10\n",
        "# import data"
      ],
      "execution_count": null,
      "outputs": []
    },
    {
      "cell_type": "code",
      "metadata": {
        "colab": {
          "base_uri": "https://localhost:8080/"
        },
        "id": "83gfq4uwVN7Y",
        "outputId": "daa13e10-9d61-48e5-fdce-9cf5d918abcb"
      },
      "source": [
        "(x_train, y_train), (x_test, y_test) = cifar10.load_data()\n",
        "print(x_train.shape, y_train.shape)"
      ],
      "execution_count": null,
      "outputs": [
        {
          "output_type": "stream",
          "name": "stdout",
          "text": [
            "(50000, 32, 32, 3) (50000, 1)\n"
          ]
        }
      ]
    },
    {
      "cell_type": "code",
      "metadata": {
        "colab": {
          "base_uri": "https://localhost:8080/"
        },
        "id": "JLjiT_VBV_OK",
        "outputId": "691c39d9-86ab-48e6-af97-99d0df567454"
      },
      "source": [
        "# nomalize\n",
        "x_train = x_train.astype('float32')\n",
        "x_test = x_test.astype('float32')\n",
        "x_train /= 255\n",
        "x_test /= 255\n",
        "\n",
        "x_train = x_train.reshape(-1, 1024, 3)\n",
        "x_test = x_test.reshape(-1, 1024, 3)\n",
        "print(x_train.shape)"
      ],
      "execution_count": null,
      "outputs": [
        {
          "output_type": "stream",
          "name": "stdout",
          "text": [
            "(50000, 1024, 3)\n"
          ]
        }
      ]
    },
    {
      "cell_type": "code",
      "metadata": {
        "colab": {
          "base_uri": "https://localhost:8080/"
        },
        "id": "gBn4cWRkhXS4",
        "outputId": "98b517b9-9b28-49cf-a2bd-a07e764362e2"
      },
      "source": [
        "# convert to gray\n",
        "x_gray_train = tensorflow.image.rgb_to_grayscale(x_train)\n",
        "x_gray_test = tensorflow.image.rgb_to_grayscale(x_test)\n",
        "print(x_gray_train.shape)"
      ],
      "execution_count": null,
      "outputs": [
        {
          "output_type": "stream",
          "name": "stdout",
          "text": [
            "(50000, 1024, 1)\n"
          ]
        }
      ]
    },
    {
      "cell_type": "code",
      "metadata": {
        "id": "KTnTHVT9opKG"
      },
      "source": [
        "x_gray_train = np.array(x_gray_train).reshape(-1, 1024)\n",
        "x_gray_test = np.array(x_gray_test).reshape(-1, 1024)"
      ],
      "execution_count": null,
      "outputs": []
    },
    {
      "cell_type": "code",
      "metadata": {
        "colab": {
          "base_uri": "https://localhost:8080/"
        },
        "id": "6E3rLIvUYKnS",
        "outputId": "58d921e1-cca8-4037-89b0-f3bc389ef9e8"
      },
      "source": [
        "# one-hot encoding\n",
        "print(y_train[0])\n",
        "y_train = tensorflow.keras.utils.to_categorical(y_train, 10)\n",
        "y_test = tensorflow.keras.utils.to_categorical(y_test, 10)\n",
        "print(y_train[0])"
      ],
      "execution_count": null,
      "outputs": [
        {
          "output_type": "stream",
          "name": "stdout",
          "text": [
            "[6]\n",
            "[0. 0. 0. 0. 0. 0. 1. 0. 0. 0.]\n"
          ]
        }
      ]
    },
    {
      "cell_type": "code",
      "metadata": {
        "colab": {
          "base_uri": "https://localhost:8080/"
        },
        "id": "J6-RBuRBYu3D",
        "outputId": "c7b2cfc1-4d7f-43df-c5cf-38d2f97aef1e"
      },
      "source": [
        "model2 = Sequential()\n",
        "model2.add(Dense(512, activation='relu', input_shape=(1024, )))\n",
        "model2.add(Dropout(0.2))\n",
        "model2.add(Dense(256, activation='relu'))\n",
        "model2.add(Dropout(0.2))\n",
        "model2.add(Dense(128, activation='relu'))\n",
        "model2.add(Dropout(0.2))\n",
        "model2.add(Dense(10, activation='softmax'))\n",
        "\n",
        "model2.summary()"
      ],
      "execution_count": null,
      "outputs": [
        {
          "output_type": "stream",
          "name": "stdout",
          "text": [
            "Model: \"sequential_50\"\n",
            "_________________________________________________________________\n",
            "Layer (type)                 Output Shape              Param #   \n",
            "=================================================================\n",
            "dense_172 (Dense)            (None, 512)               524800    \n",
            "_________________________________________________________________\n",
            "dropout_13 (Dropout)         (None, 512)               0         \n",
            "_________________________________________________________________\n",
            "dense_173 (Dense)            (None, 256)               131328    \n",
            "_________________________________________________________________\n",
            "dropout_14 (Dropout)         (None, 256)               0         \n",
            "_________________________________________________________________\n",
            "dense_174 (Dense)            (None, 128)               32896     \n",
            "_________________________________________________________________\n",
            "dropout_15 (Dropout)         (None, 128)               0         \n",
            "_________________________________________________________________\n",
            "dense_175 (Dense)            (None, 10)                1290      \n",
            "=================================================================\n",
            "Total params: 690,314\n",
            "Trainable params: 690,314\n",
            "Non-trainable params: 0\n",
            "_________________________________________________________________\n"
          ]
        }
      ]
    },
    {
      "cell_type": "code",
      "metadata": {
        "colab": {
          "base_uri": "https://localhost:8080/"
        },
        "id": "OQDUiPgIZFIx",
        "outputId": "ef80bef6-ca05-4597-835d-7a46bab4b6d5"
      },
      "source": [
        "Epoch = 40\n",
        "model2.compile(loss='categorical_crossentropy',\n",
        "               optimizer=SGD(learning_rate=0.1),\n",
        "               metrics=['accuracy'])\n",
        "H2 = model2.fit(x_gray_train, y_train,\n",
        "                batch_size=128,\n",
        "                epochs=Epoch,\n",
        "                verbose=1,\n",
        "                validation_data=(x_gray_test, y_test))"
      ],
      "execution_count": null,
      "outputs": [
        {
          "output_type": "stream",
          "name": "stdout",
          "text": [
            "Epoch 1/40\n",
            "391/391 [==============================] - 7s 16ms/step - loss: 2.1176 - accuracy: 0.2220 - val_loss: 1.9905 - val_accuracy: 0.2898\n",
            "Epoch 2/40\n",
            "391/391 [==============================] - 6s 16ms/step - loss: 1.9977 - accuracy: 0.2823 - val_loss: 1.9169 - val_accuracy: 0.3202\n",
            "Epoch 3/40\n",
            "391/391 [==============================] - 6s 16ms/step - loss: 1.9325 - accuracy: 0.3089 - val_loss: 1.8935 - val_accuracy: 0.3329\n",
            "Epoch 4/40\n",
            "391/391 [==============================] - 6s 16ms/step - loss: 1.8895 - accuracy: 0.3242 - val_loss: 1.8195 - val_accuracy: 0.3563\n",
            "Epoch 5/40\n",
            "391/391 [==============================] - 6s 16ms/step - loss: 1.8583 - accuracy: 0.3380 - val_loss: 1.8333 - val_accuracy: 0.3501\n",
            "Epoch 6/40\n",
            "391/391 [==============================] - 6s 16ms/step - loss: 1.8279 - accuracy: 0.3483 - val_loss: 1.7746 - val_accuracy: 0.3627\n",
            "Epoch 7/40\n",
            "391/391 [==============================] - 6s 16ms/step - loss: 1.8001 - accuracy: 0.3585 - val_loss: 1.7465 - val_accuracy: 0.3806\n",
            "Epoch 8/40\n",
            "391/391 [==============================] - 6s 16ms/step - loss: 1.7767 - accuracy: 0.3679 - val_loss: 1.7165 - val_accuracy: 0.3882\n",
            "Epoch 9/40\n",
            "391/391 [==============================] - 6s 16ms/step - loss: 1.7592 - accuracy: 0.3713 - val_loss: 1.7540 - val_accuracy: 0.3759\n",
            "Epoch 10/40\n",
            "391/391 [==============================] - 6s 16ms/step - loss: 1.7381 - accuracy: 0.3828 - val_loss: 1.7171 - val_accuracy: 0.3851\n",
            "Epoch 11/40\n",
            "391/391 [==============================] - 6s 16ms/step - loss: 1.7182 - accuracy: 0.3882 - val_loss: 1.7064 - val_accuracy: 0.3962\n",
            "Epoch 12/40\n",
            "391/391 [==============================] - 6s 16ms/step - loss: 1.7087 - accuracy: 0.3883 - val_loss: 1.6778 - val_accuracy: 0.4042\n",
            "Epoch 13/40\n",
            "391/391 [==============================] - 6s 16ms/step - loss: 1.6886 - accuracy: 0.3969 - val_loss: 1.7009 - val_accuracy: 0.3855\n",
            "Epoch 14/40\n",
            "391/391 [==============================] - 6s 16ms/step - loss: 1.6755 - accuracy: 0.4009 - val_loss: 1.6744 - val_accuracy: 0.3967\n",
            "Epoch 15/40\n",
            "391/391 [==============================] - 6s 16ms/step - loss: 1.6630 - accuracy: 0.4091 - val_loss: 1.6538 - val_accuracy: 0.4080\n",
            "Epoch 16/40\n",
            "391/391 [==============================] - 6s 16ms/step - loss: 1.6530 - accuracy: 0.4093 - val_loss: 1.6584 - val_accuracy: 0.4000\n",
            "Epoch 17/40\n",
            "391/391 [==============================] - 6s 16ms/step - loss: 1.6375 - accuracy: 0.4161 - val_loss: 1.6799 - val_accuracy: 0.3909\n",
            "Epoch 18/40\n",
            "391/391 [==============================] - 6s 16ms/step - loss: 1.6239 - accuracy: 0.4219 - val_loss: 1.6698 - val_accuracy: 0.4046\n",
            "Epoch 19/40\n",
            "391/391 [==============================] - 6s 16ms/step - loss: 1.6123 - accuracy: 0.4240 - val_loss: 1.6132 - val_accuracy: 0.4260\n",
            "Epoch 20/40\n",
            "391/391 [==============================] - 6s 16ms/step - loss: 1.6105 - accuracy: 0.4260 - val_loss: 1.6047 - val_accuracy: 0.4299\n",
            "Epoch 21/40\n",
            "391/391 [==============================] - 6s 16ms/step - loss: 1.5916 - accuracy: 0.4346 - val_loss: 1.6144 - val_accuracy: 0.4193\n",
            "Epoch 22/40\n",
            "391/391 [==============================] - 6s 16ms/step - loss: 1.5822 - accuracy: 0.4361 - val_loss: 1.6658 - val_accuracy: 0.4084\n",
            "Epoch 23/40\n",
            "391/391 [==============================] - 6s 16ms/step - loss: 1.5722 - accuracy: 0.4401 - val_loss: 1.5785 - val_accuracy: 0.4343\n",
            "Epoch 24/40\n",
            "391/391 [==============================] - 6s 16ms/step - loss: 1.5644 - accuracy: 0.4439 - val_loss: 1.6734 - val_accuracy: 0.3963\n",
            "Epoch 25/40\n",
            "391/391 [==============================] - 6s 16ms/step - loss: 1.5549 - accuracy: 0.4492 - val_loss: 1.6181 - val_accuracy: 0.4152\n",
            "Epoch 26/40\n",
            "391/391 [==============================] - 6s 16ms/step - loss: 1.5448 - accuracy: 0.4498 - val_loss: 1.5773 - val_accuracy: 0.4374\n",
            "Epoch 27/40\n",
            "391/391 [==============================] - 6s 16ms/step - loss: 1.5304 - accuracy: 0.4521 - val_loss: 1.7317 - val_accuracy: 0.3808\n",
            "Epoch 28/40\n",
            "391/391 [==============================] - 6s 16ms/step - loss: 1.5254 - accuracy: 0.4569 - val_loss: 1.6051 - val_accuracy: 0.4308\n",
            "Epoch 29/40\n",
            "391/391 [==============================] - 6s 16ms/step - loss: 1.5208 - accuracy: 0.4596 - val_loss: 1.5663 - val_accuracy: 0.4450\n",
            "Epoch 30/40\n",
            "391/391 [==============================] - 6s 16ms/step - loss: 1.5110 - accuracy: 0.4633 - val_loss: 1.5527 - val_accuracy: 0.4480\n",
            "Epoch 31/40\n",
            "391/391 [==============================] - 6s 16ms/step - loss: 1.4994 - accuracy: 0.4658 - val_loss: 1.5793 - val_accuracy: 0.4367\n",
            "Epoch 32/40\n",
            "391/391 [==============================] - 6s 16ms/step - loss: 1.4903 - accuracy: 0.4695 - val_loss: 1.5545 - val_accuracy: 0.4452\n",
            "Epoch 33/40\n",
            "391/391 [==============================] - 6s 16ms/step - loss: 1.4854 - accuracy: 0.4698 - val_loss: 1.5445 - val_accuracy: 0.4530\n",
            "Epoch 34/40\n",
            "391/391 [==============================] - 6s 16ms/step - loss: 1.4793 - accuracy: 0.4709 - val_loss: 1.6421 - val_accuracy: 0.4213\n",
            "Epoch 35/40\n",
            "391/391 [==============================] - 6s 16ms/step - loss: 1.4708 - accuracy: 0.4737 - val_loss: 1.5838 - val_accuracy: 0.4398\n",
            "Epoch 36/40\n",
            "391/391 [==============================] - 6s 16ms/step - loss: 1.4639 - accuracy: 0.4773 - val_loss: 1.5429 - val_accuracy: 0.4522\n",
            "Epoch 37/40\n",
            "391/391 [==============================] - 6s 16ms/step - loss: 1.4533 - accuracy: 0.4815 - val_loss: 1.5340 - val_accuracy: 0.4569\n",
            "Epoch 38/40\n",
            "391/391 [==============================] - 6s 16ms/step - loss: 1.4464 - accuracy: 0.4854 - val_loss: 1.5357 - val_accuracy: 0.4536\n",
            "Epoch 39/40\n",
            "391/391 [==============================] - 6s 16ms/step - loss: 1.4383 - accuracy: 0.4878 - val_loss: 1.5305 - val_accuracy: 0.4526\n",
            "Epoch 40/40\n",
            "391/391 [==============================] - 6s 16ms/step - loss: 1.4358 - accuracy: 0.4876 - val_loss: 1.5360 - val_accuracy: 0.4550\n"
          ]
        }
      ]
    },
    {
      "cell_type": "code",
      "metadata": {
        "colab": {
          "base_uri": "https://localhost:8080/",
          "height": 295
        },
        "id": "IhMOy0jReH0W",
        "outputId": "067ce65c-ca91-4700-bcf0-cb42ab7bb3d9"
      },
      "source": [
        "# visualize\n",
        "plt.plot(np.arange(0, Epoch), H2.history['loss'], label='training loss')\n",
        "plt.plot(np.arange(0, Epoch), H2.history['val_loss'], label='validation loss')\n",
        "plt.plot(np.arange(0, Epoch), H2.history['accuracy'], label='accuracy')\n",
        "plt.plot(np.arange(0, Epoch), H2.history['val_accuracy'], label='validation accuracy')\n",
        "plt.title('Accuracy and Loss')\n",
        "plt.xlabel('Epoch')\n",
        "plt.ylabel('Loss|Accuracy')\n",
        "plt.legend()\n",
        "plt.show()"
      ],
      "execution_count": null,
      "outputs": [
        {
          "output_type": "display_data",
          "data": {
            "image/png": "[encoded data removed]",
            "text/plain": [
              "<Figure size 432x288 with 1 Axes>"
            ]
          },
          "metadata": {
            "needs_background": "light"
          }
        }
      ]
    },
    {
      "cell_type": "markdown",
      "metadata": {
        "id": "W0f_awTixvZV"
      },
      "source": [
        "4. [Optional] Code feedforward bằng numpy và kiểm tra tính chính xác của hàm bằng model tương ứng keras, có thể khởi tạo weight, bias trong layer bằng 1 trong keras, rồi so sánh với code mình implement xem output giống nhau không?"
      ]
    },
    {
      "cell_type": "markdown",
      "metadata": {
        "id": "T19vHDE6x-ER"
      },
      "source": [
        "$$\n",
        "Z^{(1)} = X*W^{(1)} + (b^{(1)})^T\\\\\n",
        "A^{(1)} = \\sigma(Z^{(1)})\\\\\n",
        "Z^{(2)} = A^{(1)}*W^{(2)} + (b^{(2)})^T\\\\\n",
        "A^{(2)} = \\sigma(Z^{(2)})\\\\\n",
        "Z^{(3)} = A^{(2)}*W^{(3)} + (b^{(3)})^T\\\\\n",
        "\\hat Y = A^{(3)} =\\sigma(Z^{(3)}) \n",
        "$$"
      ]
    },
    {
      "cell_type": "code",
      "metadata": {
        "id": "ti1XvZdWy0Jm"
      },
      "source": [
        "# code bằng keras:\n",
        "from keras.datasets import mnist\n",
        "import keras\n",
        "import tensorflow as tf\n",
        "from keras.layers import Dense\n",
        "from tensorflow.keras.models import Sequential\n",
        "import numpy as np"
      ],
      "execution_count": 23,
      "outputs": []
    },
    {
      "cell_type": "code",
      "metadata": {
        "colab": {
          "base_uri": "https://localhost:8080/"
        },
        "id": "XoZ7R-SgzkFo",
        "outputId": "db5e9863-7258-4052-8ccc-74678ba593af"
      },
      "source": [
        "(x_train, y_train), (x_test, y_test) = mnist.load_data()\n",
        "print(x_train.shape, x_test.shape)"
      ],
      "execution_count": 44,
      "outputs": [
        {
          "output_type": "stream",
          "name": "stdout",
          "text": [
            "(60000, 28, 28) (10000, 28, 28)\n"
          ]
        }
      ]
    },
    {
      "cell_type": "code",
      "metadata": {
        "id": "VP4jhUdfz-mf"
      },
      "source": [
        "# convert, nomalize\n",
        "x_train = x_train.astype('float32')\n",
        "x_test = x_test.astype('float32')\n",
        "x_train /= 255\n",
        "x_test /= 255\n",
        "# reshape\n",
        "x_train = x_train.reshape(-1, 28*28)\n",
        "x_test = x_test.reshape(-1, 28*28)"
      ],
      "execution_count": 45,
      "outputs": []
    },
    {
      "cell_type": "code",
      "metadata": {
        "colab": {
          "base_uri": "https://localhost:8080/"
        },
        "id": "l58sIvsM712H",
        "outputId": "095990ac-a2d6-4aa5-c618-e366a8aca238"
      },
      "source": [
        "print(x_train.shape)"
      ],
      "execution_count": 46,
      "outputs": [
        {
          "output_type": "stream",
          "name": "stdout",
          "text": [
            "(60000, 784)\n"
          ]
        }
      ]
    },
    {
      "cell_type": "code",
      "metadata": {
        "id": "NjpyWs1d0mXC"
      },
      "source": [
        "# one-hot encoding labels\n",
        "y_train = tf.keras.utils.to_categorical(y_train, 10)\n",
        "y_test = tf.keras.utils.to_categorical(y_test, 10)"
      ],
      "execution_count": 47,
      "outputs": []
    },
    {
      "cell_type": "code",
      "metadata": {
        "colab": {
          "base_uri": "https://localhost:8080/"
        },
        "id": "JIQH-aXg02MX",
        "outputId": "f4ecd73c-9208-4866-a4f8-3bb029602daa"
      },
      "source": [
        "# model\n",
        "model = Sequential()\n",
        "weight_1 = np.ones((784, 512), dtype='float32')\n",
        "model.add(Dense(512, activation='relu', input_shape=(28*28, ), kernel_initializer=keras.initializers.Constant(weight_1)))\n",
        "weight_2 = np.ones((512, 128), dtype='float32')\n",
        "model.add(Dense(128, activation='relu', kernel_initializer=keras.initializers.Constant(weight_2)))\n",
        "weight_3 = np.ones((128, 10), dtype='float32')\n",
        "model.add(Dense(10, activation='softmax', kernel_initializer=keras.initializers.Constant(weight_3)))\n",
        "model.summary()"
      ],
      "execution_count": 31,
      "outputs": [
        {
          "output_type": "stream",
          "name": "stdout",
          "text": [
            "Model: \"sequential_8\"\n",
            "_________________________________________________________________\n",
            "Layer (type)                 Output Shape              Param #   \n",
            "=================================================================\n",
            "dense_7 (Dense)              (None, 512)               401920    \n",
            "_________________________________________________________________\n",
            "dense_8 (Dense)              (None, 128)               65664     \n",
            "_________________________________________________________________\n",
            "dense_9 (Dense)              (None, 10)                1290      \n",
            "=================================================================\n",
            "Total params: 468,874\n",
            "Trainable params: 468,874\n",
            "Non-trainable params: 0\n",
            "_________________________________________________________________\n"
          ]
        }
      ]
    },
    {
      "cell_type": "code",
      "metadata": {
        "id": "nKoAlxXX5qmI"
      },
      "source": [
        "from tensorflow.keras.optimizers import SGD"
      ],
      "execution_count": 32,
      "outputs": []
    },
    {
      "cell_type": "code",
      "metadata": {
        "colab": {
          "base_uri": "https://localhost:8080/"
        },
        "id": "2edLqgtb5CRc",
        "outputId": "a15bac88-4ab9-48bd-8339-fb770964e6d4"
      },
      "source": [
        "# training model\n",
        "Epoch = 20\n",
        "model.compile(loss='categorical_crossentropy',\n",
        "              optimizer=SGD(),\n",
        "              metrics=['accuracy'])\n",
        "H = model.fit(x_train, y_train,\n",
        "              batch_size=128,\n",
        "              verbose=1,\n",
        "              epochs=Epoch,\n",
        "              validation_data=(x_test, y_test))"
      ],
      "execution_count": 33,
      "outputs": [
        {
          "output_type": "stream",
          "name": "stdout",
          "text": [
            "Epoch 1/20\n",
            "469/469 [==============================] - 4s 9ms/step - loss: 413765.0312 - accuracy: 0.1121 - val_loss: 2.3017 - val_accuracy: 0.1135\n",
            "Epoch 2/20\n",
            "469/469 [==============================] - 4s 8ms/step - loss: 2.3015 - accuracy: 0.1124 - val_loss: 2.3013 - val_accuracy: 0.1135\n",
            "Epoch 3/20\n",
            "469/469 [==============================] - 4s 8ms/step - loss: 2.3013 - accuracy: 0.1124 - val_loss: 2.3011 - val_accuracy: 0.1135\n",
            "Epoch 4/20\n",
            "469/469 [==============================] - 4s 8ms/step - loss: 2.3012 - accuracy: 0.1124 - val_loss: 2.3011 - val_accuracy: 0.1135\n",
            "Epoch 5/20\n",
            "469/469 [==============================] - 4s 8ms/step - loss: 2.3012 - accuracy: 0.1124 - val_loss: 2.3010 - val_accuracy: 0.1135\n",
            "Epoch 6/20\n",
            "469/469 [==============================] - 4s 8ms/step - loss: 2.3012 - accuracy: 0.1124 - val_loss: 2.3010 - val_accuracy: 0.1135\n",
            "Epoch 7/20\n",
            "469/469 [==============================] - 4s 8ms/step - loss: 2.3012 - accuracy: 0.1124 - val_loss: 2.3010 - val_accuracy: 0.1135\n",
            "Epoch 8/20\n",
            "469/469 [==============================] - 4s 8ms/step - loss: 2.3012 - accuracy: 0.1124 - val_loss: 2.3010 - val_accuracy: 0.1135\n",
            "Epoch 9/20\n",
            "469/469 [==============================] - 4s 8ms/step - loss: 2.3012 - accuracy: 0.1124 - val_loss: 2.3010 - val_accuracy: 0.1135\n",
            "Epoch 10/20\n",
            "469/469 [==============================] - 4s 8ms/step - loss: 2.3012 - accuracy: 0.1124 - val_loss: 2.3010 - val_accuracy: 0.1135\n",
            "Epoch 11/20\n",
            "469/469 [==============================] - 4s 8ms/step - loss: 2.3012 - accuracy: 0.1124 - val_loss: 2.3010 - val_accuracy: 0.1135\n",
            "Epoch 12/20\n",
            "469/469 [==============================] - 4s 8ms/step - loss: 2.3012 - accuracy: 0.1124 - val_loss: 2.3010 - val_accuracy: 0.1135\n",
            "Epoch 13/20\n",
            "469/469 [==============================] - 4s 8ms/step - loss: 2.3012 - accuracy: 0.1124 - val_loss: 2.3010 - val_accuracy: 0.1135\n",
            "Epoch 14/20\n",
            "469/469 [==============================] - 4s 8ms/step - loss: 2.3012 - accuracy: 0.1124 - val_loss: 2.3010 - val_accuracy: 0.1135\n",
            "Epoch 15/20\n",
            "469/469 [==============================] - 4s 8ms/step - loss: 2.3012 - accuracy: 0.1124 - val_loss: 2.3010 - val_accuracy: 0.1135\n",
            "Epoch 16/20\n",
            "469/469 [==============================] - 4s 8ms/step - loss: 2.3012 - accuracy: 0.1124 - val_loss: 2.3010 - val_accuracy: 0.1135\n",
            "Epoch 17/20\n",
            "469/469 [==============================] - 4s 8ms/step - loss: 2.3012 - accuracy: 0.1124 - val_loss: 2.3010 - val_accuracy: 0.1135\n",
            "Epoch 18/20\n",
            "469/469 [==============================] - 4s 8ms/step - loss: 2.3012 - accuracy: 0.1124 - val_loss: 2.3010 - val_accuracy: 0.1135\n",
            "Epoch 19/20\n",
            "469/469 [==============================] - 4s 8ms/step - loss: 2.3012 - accuracy: 0.1124 - val_loss: 2.3010 - val_accuracy: 0.1135\n",
            "Epoch 20/20\n",
            "469/469 [==============================] - 4s 8ms/step - loss: 2.3012 - accuracy: 0.1124 - val_loss: 2.3010 - val_accuracy: 0.1135\n"
          ]
        }
      ]
    },
    {
      "cell_type": "code",
      "metadata": {
        "colab": {
          "base_uri": "https://localhost:8080/"
        },
        "id": "fuVgej-N7o-l",
        "outputId": "0cbcbb84-0128-4f5a-b1fc-ac940d066306"
      },
      "source": [
        "# code feedforward bằng numpy:\n",
        "for i in range(0, 200//128 + 1):\n",
        "    X = x_train[i*128:i*128+128] # batch_size = 128 (128x784 784x512)\n",
        "    b_1 = np.ones(512)\n",
        "    Z_1 = np.dot(X, weight_1) + b_1 # Z(1) = X*W(1) + b(1)\n",
        "    A_1 = np.where(Z_1 > 0, Z_1, 0) # A(1) = sigma(Z(1))\n",
        "    b_2 = np.ones(128)\n",
        "    Z_2 = np.dot(A_1, weight_2) + b_2 # Z(2) = A(1)*W(2) + b(2)\n",
        "    A_2 = np.where(Z_2 > 0, Z_2, 0)\n",
        "    b_3 = np.ones(10)\n",
        "    Z_3 = np.dot(A_2, weight_3) + b_3\n",
        "    print(Z_3[0])\n",
        "    A_3 = np.power(np.e, Z_3[0]) / (np.sum(np.power(np.e, Z_3[0])))\n",
        "    # # A_3 = A_3 / (np.sum(A_3))\n",
        "    # print(A_3)\n",
        "\n"
      ],
      "execution_count": 124,
      "outputs": [
        {
          "output_type": "stream",
          "name": "stdout",
          "text": [
            "[7139698. 7139698. 7139698. 7139698. 7139698. 7139698. 7139698. 7139698.\n",
            " 7139698. 7139698.]\n",
            "[5195206.5 5195206.5 5195206.5 5195206.5 5195206.5 5195206.5 5195206.5\n",
            " 5195206.5 5195206.5 5195206.5]\n"
          ]
        },
        {
          "output_type": "stream",
          "name": "stderr",
          "text": [
            "/usr/local/lib/python3.7/dist-packages/ipykernel_launcher.py:13: RuntimeWarning: overflow encountered in power\n",
            "  del sys.path[0]\n",
            "/usr/local/lib/python3.7/dist-packages/ipykernel_launcher.py:13: RuntimeWarning: invalid value encountered in true_divide\n",
            "  del sys.path[0]\n"
          ]
        }
      ]
    },
    {
      "cell_type": "code",
      "metadata": {
        "colab": {
          "base_uri": "https://localhost:8080/"
        },
        "id": "8s64NVVMGawD",
        "outputId": "89232762-e189-4ee3-f6cf-ba954de0be6c"
      },
      "source": [
        "a = np.array([[-1, 2],\n",
        "             [3, 2]])\n",
        "a = np.where(a > 0, a, 0)\n",
        "print(a)"
      ],
      "execution_count": 105,
      "outputs": [
        {
          "output_type": "stream",
          "name": "stdout",
          "text": [
            "[[0 2]\n",
            " [3 2]]\n"
          ]
        }
      ]
    }
  ]
}