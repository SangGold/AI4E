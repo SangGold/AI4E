{
  "nbformat": 4,
  "nbformat_minor": 0,
  "metadata": {
    "colab": {
      "name": "Logistic Regression.ipynb",
      "provenance": [],
      "collapsed_sections": []
    },
    "kernelspec": {
      "name": "python3",
      "display_name": "Python 3"
    },
    "language_info": {
      "name": "python"
    }
  },
  "cells": [
    {
      "cell_type": "markdown",
      "metadata": {
        "id": "0qEyotUMse--"
      },
      "source": [
        "1. Biểu diễn lại bài toán, tính lại đạo hàm loss function với từng biến w.\n"
      ]
    },
    {
      "cell_type": "markdown",
      "metadata": {
        "id": "CtZamClatMVs"
      },
      "source": [
        "Từ điểm các điểm dữ liệu $(x_1^{(i)}, x_2^{(i)})$ ứng với các giá trị $y^{(i)}$, ta mong muốn vẽ được 1 mặt phẳng trong không gian 3 chiều phân cách các điểm dữ liệu thành 2 phần.\n",
        "\n",
        "Tìm $z = w_0 + w_1*x_1 + w_2*x_2$ \n",
        "Tuy nhiên với hàm $z$ như trên, giá trị $\\hat{y} = z$ sẽ chạy từ trừ vô cùng đến vô cùng.\n",
        "\n",
        "Từ đó chọn 1 hàm cho $\\hat{y}$ đi qua để giá trị thu được nằm trong khoảng $(0, 1)$.\n",
        "\n",
        "Chọn $\\hat{y} = \\sigma{(z)=} 1/(1 + e^{-z})$. \n",
        "\n",
        "Từ đó, giá trị $\\hat{y}$ thể hiện xác suất cho vay.\n",
        "\n",
        "Định nghĩa Loss Function:\n",
        "$L = -[y*log(\\hat{y}) + (1-y)*log(1-\\hat{y})]$\n",
        "\n",
        "Minimize loss function: dùng chain rule:\n",
        "$\\dfrac {\\partial L} {\\partial w_1} = \\dfrac {\\partial L} {\\partial \\hat{y}}.\\dfrac {\\partial \\hat{y}} {\\partial z}.\\dfrac {\\partial z} {\\partial w_1}$\n",
        "\n",
        "Trong đó:\n",
        "$\\dfrac {\\partial L} {\\partial \\hat{y}} = (\\hat{y} - y)/(\\hat{y}*(1-\\hat{y}))$\n",
        "\n",
        "$\\dfrac {\\partial \\hat{y}} {\\partial z} = \\hat{y}*(1 - \\hat{y})$\n",
        "\n",
        "$\\dfrac {\\partial z} {\\partial w_1} = x_1$\n",
        "\n",
        "Tương tự với đạo hàm của L với các $w_0$ và $w_2$:\n",
        "\n",
        "$\\dfrac {\\partial z} {\\partial w_0} = 1; \\dfrac {\\partial z} {\\partial w_2} = x_2$\n",
        "\n",
        "Suy ra đạo hàm của Loss function với các w là:\n",
        "\n",
        "$$\\begin{cases}\n",
        "\\dfrac {\\partial L} {\\partial w_0} = (\\hat{y} - y)\\\\\n",
        "\\dfrac {\\partial L} {\\partial w_1} = (\\hat{y} - y)*x_1\\\\\n",
        "\\dfrac {\\partial L} {\\partial w_2} = (\\hat{y} - y)*x_2\n",
        "\\end{cases}$$\n"
      ]
    },
    {
      "cell_type": "markdown",
      "metadata": {
        "id": "WKEIJAzuFos7"
      },
      "source": [
        "3. Thử chỉnh learning_rate với code mẫu, vẽ loss function theo epoch để xem độ tăng giảm của loss function."
      ]
    },
    {
      "cell_type": "code",
      "metadata": {
        "id": "_rgcpDM1kC-h"
      },
      "source": [
        "import numpy as np\n",
        "import pandas as pd\n",
        "import matplotlib.pyplot as plt"
      ],
      "execution_count": 77,
      "outputs": []
    },
    {
      "cell_type": "code",
      "metadata": {
        "colab": {
          "base_uri": "https://localhost:8080/"
        },
        "id": "YPGPimhvF68n",
        "outputId": "52cbcd35-af50-4ffd-96e4-82fdd0e16f46"
      },
      "source": [
        "# Load data từ file\n",
        "data = pd.read_csv('/content/drive/MyDrive/Colab Notebooks/Logistic Regression/dataset.csv').values\n",
        "N, dim = data.shape\n",
        "x = data[:, 0:dim-1].reshape(-1, dim-1)\n",
        "y = data[:, dim-1].reshape(-1, 1)\n",
        "print(N, dim)"
      ],
      "execution_count": 78,
      "outputs": [
        {
          "output_type": "stream",
          "name": "stdout",
          "text": [
            "20 3\n"
          ]
        }
      ]
    },
    {
      "cell_type": "code",
      "metadata": {
        "id": "_MSglmNjG8e9"
      },
      "source": [
        "# Define ham Sigmoid:\n",
        "def sigmoid(x):\n",
        "    return 1/(1 + np.exp(-x))"
      ],
      "execution_count": 79,
      "outputs": []
    },
    {
      "cell_type": "code",
      "metadata": {
        "id": "AxpkMlnMIGVi"
      },
      "source": [
        "# Vẽ data bằng Scatter\n",
        "x_chovay = x[y[:, 0]==1]\n",
        "x_tuchoi = x[y[:, 0]==0]"
      ],
      "execution_count": 80,
      "outputs": []
    },
    {
      "cell_type": "code",
      "metadata": {
        "colab": {
          "base_uri": "https://localhost:8080/",
          "height": 279
        },
        "id": "d69ZOUm9IgaE",
        "outputId": "97d94536-4d07-4434-a5df-e11713c95b28"
      },
      "source": [
        "plt.scatter(x_chovay[:, 0], x_chovay[:, 1], label ='cho vay')\n",
        "plt.scatter(x_tuchoi[:, 0], x_tuchoi[:, 1], label ='tu choi')\n",
        "plt.legend()\n",
        "plt.xlabel('Luong')\n",
        "plt.ylabel('Nam kinh nghiem')\n",
        "plt.show()"
      ],
      "execution_count": 81,
      "outputs": [
        {
          "output_type": "display_data",
          "data": {
            "image/png": "[encoded data removed]",
            "text/plain": [
              "<Figure size 432x288 with 1 Axes>"
            ]
          },
          "metadata": {
            "needs_background": "light"
          }
        }
      ]
    },
    {
      "cell_type": "code",
      "metadata": {
        "id": "Kw3f9uxaJuQ0"
      },
      "source": [
        "# thêm 1 cột 1 vào dữ liệu x\n",
        "b = np.ones((N, 1))\n",
        "print(b)\n",
        "print(x)\n",
        "x = np.hstack((b, x))\n",
        "print(x)"
      ],
      "execution_count": null,
      "outputs": []
    },
    {
      "cell_type": "code",
      "metadata": {
        "colab": {
          "base_uri": "https://localhost:8080/",
          "height": 296
        },
        "id": "M0b2K5HwKqet",
        "outputId": "91d65b68-9bfd-457b-95fd-b10b7900850f"
      },
      "source": [
        "import copy\n",
        "w1 = np.array([0., 0.1, 0.1]).reshape(-1, 1)\n",
        "w2 = w1.copy()\n",
        "# chạy theo số epoch\n",
        "epoch = 100\n",
        "cost1 = np.zeros((epoch, 1))\n",
        "cost2 = cost1.copy()\n",
        "lr1 = 0.02\n",
        "lr2 = 0.005\n",
        "\n",
        "for i in range(epoch):\n",
        "    # tính giá trị dự đoán\n",
        "    y_hat = sigmoid(np.dot(x, w1))\n",
        "    cost1[i] = -np.sum(y*(np.log(y_hat)) + (1-y)*(np.log(1-y_hat)) )\n",
        "    # gradient descent\n",
        "    w1 = w1 - lr1 * np.dot(x.T, (y_hat - y))\n",
        "    # với lr2\n",
        "    y_hat = sigmoid(np.dot(x, w2))\n",
        "    cost2[i] = -np.sum(y*(np.log(y_hat)) + (1-y)*(np.log(1-y_hat)) )\n",
        "    w2 = w2 - lr2 * np.dot(x.T, (y_hat - y))\n",
        "plt.plot(cost1, label='lr1')\n",
        "plt.plot(cost2, label='lr2')\n",
        "plt.legend()\n",
        "plt.xlabel('Epoch')\n",
        "plt.ylabel('Loss')"
      ],
      "execution_count": 83,
      "outputs": [
        {
          "output_type": "execute_result",
          "data": {
            "text/plain": [
              "Text(0, 0.5, 'Loss')"
            ]
          },
          "metadata": {},
          "execution_count": 83
        },
        {
          "output_type": "display_data",
          "data": {
            "image/png": "[encoded data removed]",
            "text/plain": [
              "<Figure size 432x288 with 1 Axes>"
            ]
          },
          "metadata": {
            "needs_background": "light"
          }
        }
      ]
    },
    {
      "cell_type": "code",
      "metadata": {
        "colab": {
          "base_uri": "https://localhost:8080/"
        },
        "id": "78ggqB_xL1NG",
        "outputId": "09357d17-6606-4a01-f29f-60c18180d58c"
      },
      "source": [
        "print(w2)"
      ],
      "execution_count": 84,
      "outputs": [
        {
          "output_type": "stream",
          "name": "stdout",
          "text": [
            "[[-0.49772299]\n",
            " [-0.08687666]\n",
            " [ 1.30818209]]\n"
          ]
        }
      ]
    },
    {
      "cell_type": "markdown",
      "metadata": {
        "id": "A709wk80O4uY"
      },
      "source": [
        "4. Thử giải bài toán XOR bằng logistic regression (chạy code thật) Giải thích tại sao lại không tìm được? Trong model đổi hàm linear trong sigmoid bằng hàm non-linear để giải bài toán XOR (parabol, ellipse, (x-a)/(x-b)"
      ]
    },
    {
      "cell_type": "code",
      "metadata": {
        "id": "johf0I0wO9w4"
      },
      "source": [
        "# prepare dữ liệu\n",
        "X = np.array([[0, 0],\n",
        "              [0, 1],\n",
        "              [1, 0],\n",
        "              [1, 1]])\n",
        "Y = np.array([0, 1, 1, 0]).reshape(-1, 1)"
      ],
      "execution_count": 86,
      "outputs": []
    },
    {
      "cell_type": "code",
      "metadata": {
        "colab": {
          "base_uri": "https://localhost:8080/",
          "height": 282
        },
        "id": "golrlJkMRuVR",
        "outputId": "1b539541-c442-4ae1-aef1-a3c08d775b81"
      },
      "source": [
        "X_zero = X[Y[:, 0]==0]\n",
        "X_one = X[Y[:, 0]==1]\n",
        "plt.scatter(X_zero[:, 0], X_zero[:, 1])\n",
        "plt.scatter(X_one[:, 0], X_one[:, 1])"
      ],
      "execution_count": 87,
      "outputs": [
        {
          "output_type": "execute_result",
          "data": {
            "text/plain": [
              "<matplotlib.collections.PathCollection at 0x7fa87821b990>"
            ]
          },
          "metadata": {},
          "execution_count": 87
        },
        {
          "output_type": "display_data",
          "data": {
            "image/png": "[encoded data removed]",
            "text/plain": [
              "<Figure size 432x288 with 1 Axes>"
            ]
          },
          "metadata": {
            "needs_background": "light"
          }
        }
      ]
    },
    {
      "cell_type": "code",
      "metadata": {
        "colab": {
          "base_uri": "https://localhost:8080/"
        },
        "id": "KNv4VnP6TGau",
        "outputId": "b0ef0884-2327-4955-fc2d-bc902051b0ee"
      },
      "source": [
        "# thêm cột 1 vào X\n",
        "b1 = np.ones((4, 1))\n",
        "X = np.hstack((b1, X))\n",
        "print(X)"
      ],
      "execution_count": 88,
      "outputs": [
        {
          "output_type": "stream",
          "name": "stdout",
          "text": [
            "[[1. 0. 0.]\n",
            " [1. 0. 1.]\n",
            " [1. 1. 0.]\n",
            " [1. 1. 1.]]\n"
          ]
        }
      ]
    },
    {
      "cell_type": "code",
      "metadata": {
        "colab": {
          "base_uri": "https://localhost:8080/",
          "height": 404
        },
        "id": "x_IazFvnTsK3",
        "outputId": "8501c45e-4876-42cf-894f-a181bcb1794d"
      },
      "source": [
        "W = np.array([0.1, 0.1, 0.1]).reshape(-1, 1)\n",
        "# chạy theo số epoch\n",
        "Epoch = 50\n",
        "lrate = 0.01\n",
        "\n",
        "loss = np.zeros(Epoch).reshape(-1, 1)\n",
        "for i in range(Epoch):\n",
        "    # tinh gia tri du doan:\n",
        "     Y_hat = sigmoid(np.dot(X, W))\n",
        "     # cap nhat W theo learning rate:\n",
        "     W = W - lrate*(np.dot(X.T, (Y_hat - Y)))\n",
        "    #  print(Y_hat)\n",
        "     # tinh loss:\n",
        "     loss[i] = -np.sum(Y*(np.log(Y_hat) + (1-Y)*(np.log(1-Y_hat)) ) )\n",
        "     \n",
        "# print(loss)\n",
        "print(Y_hat)\n",
        "print(W)\n",
        "plt.plot(loss)"
      ],
      "execution_count": 93,
      "outputs": [
        {
          "output_type": "stream",
          "name": "stdout",
          "text": [
            "[[0.50807164]\n",
            " [0.52227393]\n",
            " [0.52227393]\n",
            " [0.5364403 ]]\n",
            "[[0.03139878]\n",
            " [0.05627822]\n",
            " [0.05627822]]\n"
          ]
        },
        {
          "output_type": "execute_result",
          "data": {
            "text/plain": [
              "[<matplotlib.lines.Line2D at 0x7fa877fbfed0>]"
            ]
          },
          "metadata": {},
          "execution_count": 93
        },
        {
          "output_type": "display_data",
          "data": {
            "image/png": "[encoded data removed]",
            "text/plain": [
              "<Figure size 432x288 with 1 Axes>"
            ]
          },
          "metadata": {
            "needs_background": "light"
          }
        }
      ]
    },
    {
      "cell_type": "markdown",
      "metadata": {
        "id": "Yiih1bWI5ZL0"
      },
      "source": [
        "5. Học, hiểu và replicate lại tutorial này (logistic regression dùng thư viện cũng như các bước để xử lý dữ liệu)"
      ]
    },
    {
      "cell_type": "code",
      "metadata": {
        "colab": {
          "base_uri": "https://localhost:8080/"
        },
        "id": "MNjALKuL5cwa",
        "outputId": "9b8aafad-9d56-44ab-8500-178e4c593b38"
      },
      "source": [
        "# data\n",
        "col_names = ['pregnant', 'glucose', 'bp', 'skin', 'insulin', 'bmi', 'pedigree', 'age', 'label']\n",
        "df = pd.read_csv('/content/drive/MyDrive/Colab Notebooks/Logistic Regression/diabetes.csv')\n",
        "df.columns = col_names\n",
        "\n",
        "print(df.head())"
      ],
      "execution_count": 54,
      "outputs": [
        {
          "output_type": "stream",
          "name": "stdout",
          "text": [
            "   pregnant  glucose  bp  skin  insulin   bmi  pedigree  age  label\n",
            "0         6      148  72    35        0  33.6     0.627   50      1\n",
            "1         1       85  66    29        0  26.6     0.351   31      0\n",
            "2         8      183  64     0        0  23.3     0.672   32      1\n",
            "3         1       89  66    23       94  28.1     0.167   21      0\n",
            "4         0      137  40    35      168  43.1     2.288   33      1\n"
          ]
        }
      ]
    },
    {
      "cell_type": "code",
      "metadata": {
        "colab": {
          "base_uri": "https://localhost:8080/"
        },
        "id": "wJlG0K5o8Xf5",
        "outputId": "37ae59d7-d8cc-46a7-a59b-fa4673dfa84b"
      },
      "source": [
        "feature_cols = ['pregnant', 'insulin', 'bmi', 'age','glucose','bp','pedigree']\n",
        "X = df[feature_cols] # Features\n",
        "Y = df.label # Target variable\n",
        "print(X)\n",
        "print(Y)"
      ],
      "execution_count": 58,
      "outputs": [
        {
          "output_type": "stream",
          "name": "stdout",
          "text": [
            "     pregnant  insulin   bmi  age  glucose  bp  pedigree\n",
            "0           6        0  33.6   50      148  72     0.627\n",
            "1           1        0  26.6   31       85  66     0.351\n",
            "2           8        0  23.3   32      183  64     0.672\n",
            "3           1       94  28.1   21       89  66     0.167\n",
            "4           0      168  43.1   33      137  40     2.288\n",
            "..        ...      ...   ...  ...      ...  ..       ...\n",
            "763        10      180  32.9   63      101  76     0.171\n",
            "764         2        0  36.8   27      122  70     0.340\n",
            "765         5      112  26.2   30      121  72     0.245\n",
            "766         1        0  30.1   47      126  60     0.349\n",
            "767         1        0  30.4   23       93  70     0.315\n",
            "\n",
            "[768 rows x 7 columns]\n",
            "0      1\n",
            "1      0\n",
            "2      1\n",
            "3      0\n",
            "4      1\n",
            "      ..\n",
            "763    0\n",
            "764    0\n",
            "765    0\n",
            "766    1\n",
            "767    0\n",
            "Name: label, Length: 768, dtype: int64\n"
          ]
        }
      ]
    },
    {
      "cell_type": "code",
      "metadata": {
        "id": "NJBF0Mfr-ddJ"
      },
      "source": [
        "from sklearn.model_selection import train_test_split as tts\n",
        "X_train, X_test, y_train, y_test = tts(X, Y, test_size=0.25, random_state=0)\n",
        "from sklearn.linear_model import LogisticRegression\n",
        "\n",
        "logreg = LogisticRegression()\n",
        "logreg.fit(X_train, y_train)\n",
        "y_predict = logreg.predict(X_test)\n"
      ],
      "execution_count": null,
      "outputs": []
    },
    {
      "cell_type": "code",
      "metadata": {
        "colab": {
          "base_uri": "https://localhost:8080/"
        },
        "id": "KXfbRGihEEni",
        "outputId": "b09f13ac-7e03-4540-d3d4-859ca83a9884"
      },
      "source": [
        "from sklearn.metrics import confusion_matrix, accuracy_score, precision_score, recall_score\n",
        "cnf_matrix = confusion_matrix(y_test, y_predict)\n",
        "cnf_matrix"
      ],
      "execution_count": 73,
      "outputs": [
        {
          "output_type": "execute_result",
          "data": {
            "text/plain": [
              "array([[117,  13],\n",
              "       [ 24,  38]])"
            ]
          },
          "metadata": {},
          "execution_count": 73
        }
      ]
    },
    {
      "cell_type": "code",
      "metadata": {
        "colab": {
          "base_uri": "https://localhost:8080/"
        },
        "id": "frjSP2bvFSa7",
        "outputId": "5bbd9d85-08f8-4d53-fca0-96319e1fe371"
      },
      "source": [
        "print(\"Accuracy:\", accuracy_score(y_test, y_predict))"
      ],
      "execution_count": 68,
      "outputs": [
        {
          "output_type": "stream",
          "name": "stdout",
          "text": [
            "Accuracy: 0.8072916666666666\n"
          ]
        }
      ]
    },
    {
      "cell_type": "code",
      "metadata": {
        "colab": {
          "base_uri": "https://localhost:8080/"
        },
        "id": "isaabTmgGKM6",
        "outputId": "6eae257c-ab98-4aa4-ac61-75f68ace57fc"
      },
      "source": [
        "print('Precision:', precision_score(y_test, y_predict))"
      ],
      "execution_count": 71,
      "outputs": [
        {
          "output_type": "stream",
          "name": "stdout",
          "text": [
            "Precision: 0.7450980392156863\n"
          ]
        }
      ]
    },
    {
      "cell_type": "code",
      "metadata": {
        "colab": {
          "base_uri": "https://localhost:8080/"
        },
        "id": "6ocaNY8cG1jN",
        "outputId": "44c03256-b2a9-4d13-8c0b-62512e1f3e45"
      },
      "source": [
        "print('Recall:', recall_score(y_test, y_predict))"
      ],
      "execution_count": 75,
      "outputs": [
        {
          "output_type": "stream",
          "name": "stdout",
          "text": [
            "Recall: 0.6129032258064516\n"
          ]
        }
      ]
    }
  ]
}