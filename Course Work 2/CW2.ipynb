{
  "nbformat": 4,
  "nbformat_minor": 0,
  "metadata": {
    "colab": {
      "name": "CW2.ipynb",
      "provenance": []
    },
    "kernelspec": {
      "name": "python3",
      "display_name": "Python 3"
    },
    "language_info": {
      "name": "python"
    }
  },
  "cells": [
    {
      "cell_type": "code",
      "metadata": {
        "id": "zQAxtxacNN8-"
      },
      "source": [
        "!pip install retina-face"
      ],
      "execution_count": null,
      "outputs": []
    },
    {
      "cell_type": "code",
      "metadata": {
        "id": "dJijlhOKPdsx"
      },
      "source": [
        "from retinaface import RetinaFace\n",
        "import matplotlib.pyplot as plt\n",
        "import cv2\n",
        "import os"
      ],
      "execution_count": 8,
      "outputs": []
    },
    {
      "cell_type": "code",
      "metadata": {
        "id": "X79kb6rgM2Hm"
      },
      "source": [
        "def load_face(folder):\n",
        "    faces = []\n",
        "    for path in os.listdir(folder):\n",
        "        face = RetinaFace.extract_faces(os.path.join(folder, path), align=True)\n",
        "        faces.append(face[0])\n",
        "\n",
        "    return faces"
      ],
      "execution_count": 3,
      "outputs": []
    },
    {
      "cell_type": "code",
      "metadata": {
        "colab": {
          "base_uri": "https://localhost:8080/"
        },
        "id": "IPFMNVsPNcWX",
        "outputId": "8c8c2d3c-9121-44bc-8ac6-9582a123cd55"
      },
      "source": [
        "# detect face\n",
        "list_face = []\n",
        "for i in range(0, 14):\n",
        "    folder = \"/content/drive/MyDrive/Colab Notebooks/dataface/img%d\" %i\n",
        "    list_face.append(load_face(folder=folder))"
      ],
      "execution_count": 4,
      "outputs": [
        {
          "output_type": "stream",
          "name": "stdout",
          "text": [
            "Directory  /root /.deepface created\n",
            "Directory  /root /.deepface/weights created\n",
            "retinaface.h5 will be downloaded from the url https://github.com/serengil/deepface_models/releases/download/v1.0/retinaface.h5\n"
          ]
        },
        {
          "output_type": "stream",
          "name": "stderr",
          "text": [
            "Downloading...\n",
            "From: https://github.com/serengil/deepface_models/releases/download/v1.0/retinaface.h5\n",
            "To: /root/.deepface/weights/retinaface.h5\n",
            "100%|██████████| 119M/119M [00:00<00:00, 191MB/s]\n"
          ]
        }
      ]
    },
    {
      "cell_type": "code",
      "metadata": {
        "colab": {
          "base_uri": "https://localhost:8080/"
        },
        "id": "C5Uq-wu0Omxf",
        "outputId": "a45233d9-28d2-45e3-c3a0-70ac0183db87"
      },
      "source": [
        "import numpy as np\n",
        "print(np.array(list_face).shape)"
      ],
      "execution_count": 5,
      "outputs": [
        {
          "output_type": "stream",
          "name": "stdout",
          "text": [
            "(14,)\n"
          ]
        }
      ]
    },
    {
      "cell_type": "code",
      "metadata": {
        "id": "Wm8JWnonQxuG"
      },
      "source": [
        "!pip install arcface"
      ],
      "execution_count": null,
      "outputs": []
    },
    {
      "cell_type": "code",
      "metadata": {
        "id": "Ng5F6ts23XjM"
      },
      "source": [
        "from arcface import ArcFace"
      ],
      "execution_count": 10,
      "outputs": []
    },
    {
      "cell_type": "code",
      "metadata": {
        "id": "5NKZSg_ZYv26"
      },
      "source": [
        "face_rec = ArcFace.ArcFace()"
      ],
      "execution_count": 11,
      "outputs": []
    },
    {
      "cell_type": "code",
      "metadata": {
        "id": "kNBUkRNf0kCe"
      },
      "source": [
        "# list of embedding vectors\n",
        "list_emb = []\n",
        "\n",
        "for j in range(0, 14):\n",
        "    embs = []\n",
        "    for face in list_face[j]:\n",
        "        embs.append(face_rec.calc_emb(face))\n",
        "\n",
        "    list_emb.append(embs)"
      ],
      "execution_count": 9,
      "outputs": []
    },
    {
      "cell_type": "code",
      "metadata": {
        "colab": {
          "base_uri": "https://localhost:8080/"
        },
        "id": "regxdJYm0XUy",
        "outputId": "1d327c74-1cad-4a5b-e5b7-a4edf895aecb"
      },
      "source": [
        "print(np.array(list_emb).shape)"
      ],
      "execution_count": 21,
      "outputs": [
        {
          "output_type": "stream",
          "name": "stdout",
          "text": [
            "(14,)\n"
          ]
        }
      ]
    },
    {
      "cell_type": "code",
      "metadata": {
        "id": "svm6YHYD2Sy3"
      },
      "source": [
        "import numpy as np"
      ],
      "execution_count": 2,
      "outputs": []
    },
    {
      "cell_type": "code",
      "metadata": {
        "id": "howKr1JJzSbK"
      },
      "source": [
        "# save embedding vectors\n",
        "with open(\"/content/drive/MyDrive/Colab Notebooks/dataface/list_emb.npy\", 'wb') as f:\n",
        "    np.save(f, np.array(list_emb))"
      ],
      "execution_count": 22,
      "outputs": []
    },
    {
      "cell_type": "code",
      "metadata": {
        "colab": {
          "base_uri": "https://localhost:8080/"
        },
        "id": "FD9_Kb8C06N7",
        "outputId": "8e6dd6e2-149a-4501-b278-de12acec270a"
      },
      "source": [
        "# load embedding vectors\n",
        "with open(\"/content/drive/MyDrive/Colab Notebooks/dataface/list_emb.npy\", 'rb') as f:\n",
        "    list_emb = np.load(f, allow_pickle=True)\n",
        "\n",
        "print(list_emb.shape)"
      ],
      "execution_count": 3,
      "outputs": [
        {
          "output_type": "stream",
          "name": "stdout",
          "text": [
            "(14,)\n"
          ]
        }
      ]
    },
    {
      "cell_type": "code",
      "metadata": {
        "id": "kleATBw26Zx4"
      },
      "source": [
        "def min_embs(emb_test, embs):\n",
        "    min = 1000\n",
        "    for emb in embs:\n",
        "        dis = face_rec.get_distance_embeddings(emb_test, emb)\n",
        "        if(dis < min):\n",
        "            min = dis\n",
        "\n",
        "    return min"
      ],
      "execution_count": 4,
      "outputs": []
    },
    {
      "cell_type": "code",
      "metadata": {
        "id": "TJpyP6pOQy3q"
      },
      "source": [
        "folder_test = \"/content/drive/MyDrive/Colab Notebooks/dataface/img_test\"\n",
        "\n",
        "list_path = []\n",
        "faces_test = []\n",
        "for path in os.listdir(folder_test):\n",
        "    face = RetinaFace.extract_faces(os.path.join(folder_test, path), align=True)\n",
        "    faces_test.append(face)\n",
        "    list_path.append(path)\n",
        "\n",
        "# faces_test = load_face(folder=folder_test)\n",
        "\n",
        "embs_test = []\n",
        "for face in faces_test:\n",
        "    embs_test.append(face_rec.calc_emb(face))    # list of embedding test\n"
      ],
      "execution_count": 13,
      "outputs": []
    },
    {
      "cell_type": "code",
      "metadata": {
        "id": "MKPcTBnDI0Mo"
      },
      "source": [
        "# detect label\n",
        "\n",
        "list_label = []\n",
        "list_min_dis = []\n",
        "for emb in embs_test:\n",
        "    min_emb = 1000\n",
        "    min_label = -1\n",
        "    for i in range(0, 14):\n",
        "        min = min_embs(emb, list_emb[i])    # get min of distance between emb_test and list of embedding in class i\n",
        "        if(min < min_emb):\n",
        "            min_emb = min\n",
        "            min_label = i\n",
        "\n",
        "    list_min_dis.append(min_emb)\n",
        "    if(min_emb > 0.5):          # threshold: 0.5\n",
        "        list_label.append(-1)   # unknow\n",
        "    else:\n",
        "        list_label.append(min_label)"
      ],
      "execution_count": 14,
      "outputs": []
    },
    {
      "cell_type": "code",
      "metadata": {
        "colab": {
          "base_uri": "https://localhost:8080/"
        },
        "id": "td1HJp0sNEYT",
        "outputId": "da055e91-1036-43a9-f733-59d3801be3ae"
      },
      "source": [
        "print(list_path)\n",
        "print(list_label)\n",
        "print(list_min_dis)"
      ],
      "execution_count": 15,
      "outputs": [
        {
          "output_type": "stream",
          "name": "stdout",
          "text": [
            "['4_frame72.jpg', '9_frame34.jpg', '11_frame29.jpg', '12_frame74.jpg', '13_frame68.jpg', 'img3.jpg', 'img5.jpg', 'img6.jpg', 'img8.jpg', '12_frame105.jpg', '6_frame14.jpg']\n",
            "[4, 9, 11, 12, 13, -1, -1, -1, -1, 12, 6]\n",
            "[0.10257189, 0.16308057, 0.24654679, 0.13014537, 0.3386658, 0.9120693, 1.0613893, 1.1343672, 1.0421782, 0.29990458, 0.0]\n"
          ]
        }
      ]
    },
    {
      "cell_type": "code",
      "metadata": {
        "id": "c66yuV8w7u8J"
      },
      "source": [
        "list_min = []\n",
        "for i in range(0, 14):\n",
        "    min = min_embs(emb_test, list_emb[i])   # max embedding of class i\n",
        "    list_min.append(min)"
      ],
      "execution_count": null,
      "outputs": []
    },
    {
      "cell_type": "code",
      "metadata": {
        "id": "Sdsdjoimo2VO"
      },
      "source": [
        "from numpy import dot\n",
        "from numpy.linalg import norm\n",
        "\n",
        "def cosine_vec(a, b):\n",
        "    return dot(a, b)/(norm(a)*norm(b))"
      ],
      "execution_count": null,
      "outputs": []
    },
    {
      "cell_type": "code",
      "metadata": {
        "id": "DOg_7pQx5iZM"
      },
      "source": [
        "def min_cosine(emb_test, embs):\n",
        "    min = 1000\n",
        "    for emb in embs:\n",
        "        dis_cos = cosine_vec(emb, emb_test)\n",
        "        if(dis_cos < min):\n",
        "            min = dis_cos\n",
        "    \n",
        "    return min"
      ],
      "execution_count": null,
      "outputs": []
    },
    {
      "cell_type": "code",
      "metadata": {
        "id": "B3rHRkpF5Qmb"
      },
      "source": [
        "list_cosine = []\n",
        "for i in range(0, 14):\n",
        "    min = min_cosine(emb_test, list_emb[i])\n",
        "    list_cosine.append(min)"
      ],
      "execution_count": null,
      "outputs": []
    }
  ]
}