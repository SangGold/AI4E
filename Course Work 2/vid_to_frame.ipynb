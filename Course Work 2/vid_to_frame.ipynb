{
 "cells": [
  {
   "cell_type": "code",
   "execution_count": 29,
   "id": "69ec2404",
   "metadata": {},
   "outputs": [],
   "source": [
    "import cv2\n",
    "video_cap = cv2.VideoCapture('13.mp4')\n",
    "success, img = video_cap.read()\n",
    "count = 0\n",
    "while success:\n",
    "    if(count%9 == 0):\n",
    "        c = count/9\n",
    "        cv2.imwrite(\"13_frame%d.jpg\" %c, img)\n",
    "    success, img = video_cap.read()\n",
    "    count += 1"
   ]
  },
  {
   "cell_type": "code",
   "execution_count": null,
   "id": "92b305f6",
   "metadata": {},
   "outputs": [],
   "source": []
  }
 ],
 "metadata": {
  "kernelspec": {
   "display_name": "gpu2",
   "language": "python",
   "name": "gpu2"
  },
  "language_info": {
   "codemirror_mode": {
    "name": "ipython",
    "version": 3
   },
   "file_extension": ".py",
   "mimetype": "text/x-python",
   "name": "python",
   "nbconvert_exporter": "python",
   "pygments_lexer": "ipython3",
   "version": "3.6.13"
  }
 },
 "nbformat": 4,
 "nbformat_minor": 5
}
