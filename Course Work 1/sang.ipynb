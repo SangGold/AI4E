{
  "nbformat": 4,
  "nbformat_minor": 0,
  "metadata": {
    "colab": {
      "name": "sang.ipynb",
      "provenance": [],
      "collapsed_sections": []
    },
    "kernelspec": {
      "name": "python3",
      "display_name": "Python 3"
    },
    "language_info": {
      "name": "python"
    },
    "accelerator": "GPU"
  },
  "cells": [
    {
      "cell_type": "code",
      "metadata": {
        "id": "dYtX-h24s572"
      },
      "source": [
        "from tensorflow.keras.applications.resnet50 import ResNet50, preprocess_input\n",
        "import tensorflow.keras as keras\n",
        "from tensorflow.keras.models import Model, Sequential\n",
        "from tensorflow.keras.layers import Input, UpSampling2D, Flatten, BatchNormalization, Dense, Dropout, GlobalAveragePooling2D\n",
        "from tensorflow.keras import optimizers\n",
        "from tensorflow.keras.datasets import cifar100\n",
        "import tensorflow as tf\n",
        "from keras.utils import np_utils\n",
        "import numpy as np\n",
        "import matplotlib.pyplot as plt\n",
        "import time\n",
        "from skimage.transform import resize\n",
        "from tensorflow.keras.applications.resnet50 import preprocess_input, decode_predictions\n",
        "from keras.preprocessing.image import ImageDataGenerator"
      ],
      "execution_count": 1,
      "outputs": []
    },
    {
      "cell_type": "code",
      "metadata": {
        "id": "BAXAoNZ6s7nL",
        "colab": {
          "base_uri": "https://localhost:8080/"
        },
        "outputId": "8d495cd8-9fba-4f23-d922-271dc2c33837"
      },
      "source": [
        "num_classes = 100\n",
        "\n",
        "(x_train, y_train), (x_test, y_test) = cifar100.load_data()"
      ],
      "execution_count": 2,
      "outputs": [
        {
          "output_type": "stream",
          "name": "stdout",
          "text": [
            "Downloading data from https://www.cs.toronto.edu/~kriz/cifar-100-python.tar.gz\n",
            "169009152/169001437 [==============================] - 6s 0us/step\n",
            "169017344/169001437 [==============================] - 6s 0us/step\n"
          ]
        }
      ]
    },
    {
      "cell_type": "code",
      "metadata": {
        "colab": {
          "base_uri": "https://localhost:8080/"
        },
        "id": "v5D0L_oCtBIe",
        "outputId": "ada5be2e-8450-469a-dfcd-4af0d5eaaeb4"
      },
      "source": [
        "x_val = x_train[40000:50000, ]\n",
        "x_train = x_train[:40000, ]\n",
        "y_val = y_train[40000:50000]\n",
        "y_train = y_train[:40000]\n",
        "print(x_train.shape, y_train.shape)"
      ],
      "execution_count": 4,
      "outputs": [
        {
          "output_type": "stream",
          "name": "stdout",
          "text": [
            "(40000, 32, 32, 3) (40000, 1)\n"
          ]
        }
      ]
    },
    {
      "cell_type": "code",
      "metadata": {
        "id": "FabH3TVyd_S-"
      },
      "source": [
        "import cv2\n",
        "class DataGenerator(tf.keras.utils.Sequence):\n",
        "    'Generates data for keras'\n",
        "    def __init__(self, images , labels = None,  batch_size = 64,\n",
        "                 dim = (224, 224), n_classes = 100,\n",
        "                 shuffle = True):\n",
        "        self.images = images\n",
        "        self.labels = labels\n",
        "        self.batch_size = batch_size\n",
        "        self.dim = dim\n",
        "        self.n_classes = n_classes\n",
        "        self.shuffle = shuffle\n",
        "        \n",
        "        self.indexes = np.arange(self.images.shape[0]) # (0,1,2,3,...,40000)\n",
        "\n",
        "        self.on_epoch_end()\n",
        "        \n",
        "    def on_epoch_end(self):\n",
        "        'Updates indexes after each epoch'\n",
        "        \n",
        "        if self.shuffle == True:\n",
        "            np.random.shuffle(self.indexes) \n",
        "            \n",
        "    def __len__(self):\n",
        "        'Denotes the number of batches per epoch'\n",
        "        return self.images.shape[0] // self.batch_size \n",
        "        \n",
        "    def __getitem__(self, index):\n",
        "        'Generate batch of data in position index'\n",
        "        # index * batch_size : (index +1) *batch_size\n",
        "\n",
        "        batch_indexes = self.indexes[ index*self.batch_size:(index+1)*self.batch_size]\n",
        "        \n",
        "        images =[]\n",
        "        labels =[] \n",
        "\n",
        "        for i in batch_indexes:\n",
        "\n",
        "          img_i = self.images[i] \n",
        "          img_i = cv2.resize(img_i , self.dim )\n",
        "          img_i = (img_i) / 127. - 1 \n",
        "\n",
        "          # augm.... \n",
        "          images.append(img_i)\n",
        "\n",
        "          label_i = self.labels[i]\n",
        "          labels.append(label_i)\n",
        "      \n",
        "        images = np.stack(images) # batch_size, 224,224,3\n",
        "        labels = np_utils.to_categorical(labels, self.n_classes)\n",
        "\n",
        "        return images, labels "
      ],
      "execution_count": 5,
      "outputs": []
    },
    {
      "cell_type": "code",
      "metadata": {
        "id": "kmWRlVSCtHuQ",
        "colab": {
          "base_uri": "https://localhost:8080/"
        },
        "outputId": "d62f0262-63e6-4103-a952-2099f8584b0a"
      },
      "source": [
        "resnet_model = ResNet50(weights='imagenet', include_top=False,\n",
        "                        input_shape=(224,224,3))\n",
        "avg = GlobalAveragePooling2D()(resnet_model.output)\n",
        "\n",
        "den1 = Dense(256, activation=None)(avg)\n",
        "bn = BatchNormalization()(den1)\n",
        "relu = tf.keras.layers.Activation('relu')(bn)\n",
        "\n",
        "drop1 = Dropout(0.3)(relu)\n",
        "den2 = Dense(num_classes, activation='softmax')(drop1)\n",
        "\n",
        "model = tf.keras.Model(inputs = resnet_model.inputs, outputs =[den2])\n"
      ],
      "execution_count": 6,
      "outputs": [
        {
          "output_type": "stream",
          "name": "stdout",
          "text": [
            "Downloading data from https://storage.googleapis.com/tensorflow/keras-applications/resnet/resnet50_weights_tf_dim_ordering_tf_kernels_notop.h5\n",
            "94773248/94765736 [==============================] - 2s 0us/step\n",
            "94781440/94765736 [==============================] - 2s 0us/step\n"
          ]
        }
      ]
    },
    {
      "cell_type": "code",
      "metadata": {
        "id": "KXAH2kvfFaS2"
      },
      "source": [
        "for layer in resnet_model.layers:\n",
        "  if isinstance(layer, BatchNormalization):\n",
        "    layer.trainable = True\n",
        "  else:\n",
        "    layer.trainable = False\n",
        "model.summary()"
      ],
      "execution_count": null,
      "outputs": []
    },
    {
      "cell_type": "code",
      "metadata": {
        "id": "yK78ljSXtMn6"
      },
      "source": [
        "model.compile(loss='categorical_crossentropy',optimizer='adam',metrics=['accuracy'])\n",
        "data_gen = DataGenerator(\n",
        "    x_train,\n",
        "    y_train,\n",
        "    batch_size = 64,\n",
        "    dim = (224, 224), n_classes = 100,\n",
        "    shuffle = True\n",
        ")\n",
        "val_gen  = DataGenerator(\n",
        "    x_val,\n",
        "    y_val,\n",
        "    batch_size = 64,\n",
        "    dim = (224, 224), n_classes = 100,\n",
        "    shuffle = False\n",
        ")"
      ],
      "execution_count": 8,
      "outputs": []
    },
    {
      "cell_type": "markdown",
      "metadata": {
        "id": "VVyLsp8CLFUY"
      },
      "source": [
        "Freeze pre-train and warm up top layers"
      ]
    },
    {
      "cell_type": "code",
      "metadata": {
        "id": "Y7_jAW6qtQ0S",
        "colab": {
          "base_uri": "https://localhost:8080/"
        },
        "outputId": "901d426a-22fe-4b15-caac-8d01d76d0c07"
      },
      "source": [
        "t=time.time()\n",
        "bt_size = 64 \n",
        "Epoch = 6\n",
        "historytemp = model.fit(data_gen,\n",
        "                        validation_data=val_gen,\n",
        "                        epochs=Epoch)\n",
        "print('Training time: %s' % (time.time() - t))"
      ],
      "execution_count": null,
      "outputs": [
        {
          "output_type": "stream",
          "name": "stdout",
          "text": [
            "Epoch 1/6\n",
            "625/625 [==============================] - 695s 1s/step - loss: 1.9012 - accuracy: 0.5171 - val_loss: 4.6319 - val_accuracy: 0.1284\n",
            "Epoch 2/6\n",
            "625/625 [==============================] - 658s 1s/step - loss: 1.0024 - accuracy: 0.7087 - val_loss: 0.9896 - val_accuracy: 0.7117\n",
            "Epoch 3/6\n",
            "625/625 [==============================] - ETA: 0s - loss: 0.7831 - accuracy: 0.7661"
          ]
        }
      ]
    },
    {
      "cell_type": "code",
      "metadata": {
        "id": "qBCX8XURgZ81"
      },
      "source": [
        "test_gen = DataGenerator(\n",
        "    x_test,\n",
        "    y_test,\n",
        "    batch_size = 64,\n",
        "    dim = (224, 224), n_classes = 100,\n",
        "    shuffle = False\n",
        ")\n"
      ],
      "execution_count": null,
      "outputs": []
    },
    {
      "cell_type": "markdown",
      "metadata": {
        "id": "pFyikh0nMrxD"
      },
      "source": [
        "Unfreeze pre-train model, update entire model"
      ]
    },
    {
      "cell_type": "code",
      "metadata": {
        "id": "BVPuerbwy3kb"
      },
      "source": [
        "# unfreeze weights\n",
        "for layer in resnet_model.layers:\n",
        "    layer.trainable = True"
      ],
      "execution_count": null,
      "outputs": []
    },
    {
      "cell_type": "code",
      "metadata": {
        "id": "y8awu7kly1yq"
      },
      "source": [
        "model.compile(loss='categorical_crossentropy',\n",
        "              optimizer=tf.keras.optimizers.Adam(learning_rate=2e-4),\n",
        "              metrics=['accuracy'])"
      ],
      "execution_count": null,
      "outputs": []
    },
    {
      "cell_type": "code",
      "metadata": {
        "id": "xKONUBo5yvlR"
      },
      "source": [
        "from tensorflow.keras.callbacks import EarlyStopping\n",
        "es = EarlyStopping(monitor = 'val_loss', mode = 'min',\n",
        "                   patience = 8, restore_best_weights = True, verbose = 1)"
      ],
      "execution_count": null,
      "outputs": []
    },
    {
      "cell_type": "code",
      "metadata": {
        "id": "ZRCAD-BYyzkL"
      },
      "source": [
        "hist = model.fit(data_gen,\n",
        "                        validation_data=val_gen,\n",
        "                  epochs=25,\n",
        "                  callbacks=[es],\n",
        "                  verbose=1\n",
        "                  )\n"
      ],
      "execution_count": null,
      "outputs": []
    },
    {
      "cell_type": "code",
      "metadata": {
        "id": "VNjZtMIbyZ02"
      },
      "source": [
        "model.save_weights(\"./model.h5\")"
      ],
      "execution_count": null,
      "outputs": []
    },
    {
      "cell_type": "code",
      "metadata": {
        "id": "ruuS1Payy8Jv"
      },
      "source": [
        "model.load_weights(\"./model.h5\")"
      ],
      "execution_count": null,
      "outputs": []
    },
    {
      "cell_type": "code",
      "metadata": {
        "colab": {
          "base_uri": "https://localhost:8080/"
        },
        "id": "whSYBNXKn2un",
        "outputId": "32f9fc80-1118-45c7-b6c3-ac1e3894325a"
      },
      "source": [
        "model.evaluate(test_gen)"
      ],
      "execution_count": null,
      "outputs": [
        {
          "output_type": "stream",
          "name": "stdout",
          "text": [
            "156/156 [==============================] - 68s 430ms/step - loss: 5.5458 - accuracy: 0.0100\n"
          ]
        },
        {
          "output_type": "execute_result",
          "data": {
            "text/plain": [
              "[5.54579496383667, 0.010016025975346565]"
            ]
          },
          "metadata": {},
          "execution_count": 79
        }
      ]
    },
    {
      "cell_type": "code",
      "metadata": {
        "id": "PCgBws1pn6NY"
      },
      "source": [
        "image_test, label_test = test_gen[0]"
      ],
      "execution_count": null,
      "outputs": []
    },
    {
      "cell_type": "code",
      "metadata": {
        "colab": {
          "base_uri": "https://localhost:8080/"
        },
        "id": "aTNKkiLZn6v4",
        "outputId": "8de410f3-9fba-4e26-fb5d-1067596d3159"
      },
      "source": [
        "output = model.predict(image_test)"
      ],
      "execution_count": null,
      "outputs": [
        {
          "output_type": "stream",
          "name": "stderr",
          "text": [
            "Process Keras_worker_ForkPoolWorker-13:\n",
            "Traceback (most recent call last):\n",
            "  File \"/usr/lib/python3.7/multiprocessing/process.py\", line 297, in _bootstrap\n",
            "    self.run()\n",
            "  File \"/usr/lib/python3.7/multiprocessing/process.py\", line 99, in run\n",
            "    self._target(*self._args, **self._kwargs)\n",
            "  File \"/usr/lib/python3.7/multiprocessing/pool.py\", line 110, in worker\n",
            "    task = get()\n",
            "  File \"/usr/lib/python3.7/multiprocessing/queues.py\", line 351, in get\n",
            "    with self._rlock:\n",
            "  File \"/usr/lib/python3.7/multiprocessing/synchronize.py\", line 95, in __enter__\n",
            "    return self._semlock.__enter__()\n",
            "KeyboardInterrupt\n",
            "Process Keras_worker_ForkPoolWorker-14:\n",
            "Traceback (most recent call last):\n",
            "  File \"/usr/lib/python3.7/multiprocessing/process.py\", line 297, in _bootstrap\n",
            "    self.run()\n",
            "  File \"/usr/lib/python3.7/multiprocessing/process.py\", line 99, in run\n",
            "    self._target(*self._args, **self._kwargs)\n",
            "  File \"/usr/lib/python3.7/multiprocessing/pool.py\", line 110, in worker\n",
            "    task = get()\n",
            "  File \"/usr/lib/python3.7/multiprocessing/queues.py\", line 351, in get\n",
            "    with self._rlock:\n",
            "  File \"/usr/lib/python3.7/multiprocessing/synchronize.py\", line 95, in __enter__\n",
            "    return self._semlock.__enter__()\n",
            "KeyboardInterrupt\n",
            "Exception ignored in: <function IteratorResourceDeleter.__del__ at 0x7fbc14a8a830>\n",
            "Traceback (most recent call last):\n",
            "  File \"/usr/local/lib/python3.7/dist-packages/tensorflow/python/data/ops/iterator_ops.py\", line 546, in __del__\n",
            "    handle=self._handle, deleter=self._deleter)\n",
            "  File \"/usr/local/lib/python3.7/dist-packages/tensorflow/python/ops/gen_dataset_ops.py\", line 1264, in delete_iterator\n",
            "    _ctx, \"DeleteIterator\", name, handle, deleter)\n",
            "KeyboardInterrupt: \n"
          ]
        },
        {
          "output_type": "execute_result",
          "data": {
            "text/plain": [
              "array([[0.01997674, 0.00173548, 0.00163264, ..., 0.00033187, 0.00428614,\n",
              "        0.04355282],\n",
              "       [0.020335  , 0.00178458, 0.00168366, ..., 0.00034463, 0.00427997,\n",
              "        0.0444195 ],\n",
              "       [0.01955553, 0.00176332, 0.00160603, ..., 0.0003308 , 0.00411417,\n",
              "        0.04283148],\n",
              "       ...,\n",
              "       [0.02192933, 0.00180662, 0.00169109, ..., 0.00033436, 0.00440127,\n",
              "        0.04498729],\n",
              "       [0.01863182, 0.00183937, 0.001633  , ..., 0.0003647 , 0.00406368,\n",
              "        0.04145779],\n",
              "       [0.02076144, 0.00179019, 0.0016678 , ..., 0.00033747, 0.00433673,\n",
              "        0.04419092]], dtype=float32)"
            ]
          },
          "metadata": {},
          "execution_count": 82
        }
      ]
    },
    {
      "cell_type": "code",
      "metadata": {
        "id": "UShOP1tZpVQs"
      },
      "source": [
        ""
      ],
      "execution_count": null,
      "outputs": []
    }
  ]
}